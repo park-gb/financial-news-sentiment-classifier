{
  "nbformat": 4,
  "nbformat_minor": 0,
  "metadata": {
    "colab": {
      "name": "Sentiment_Classifier_for_Kor_Financial_News.ipynb",
      "provenance": [],
      "collapsed_sections": [],
      "machine_shape": "hm",
      "include_colab_link": true
    },
    "kernelspec": {
      "name": "python3",
      "display_name": "Python 3"
    },
    "language_info": {
      "name": "python"
    },
    "accelerator": "GPU"
  },
  "cells": [
    {
      "cell_type": "markdown",
      "metadata": {
        "id": "view-in-github",
        "colab_type": "text"
      },
      "source": [
        "<a href=\"https://colab.research.google.com/github/park-gb/financial-news-sentiment-classifier/blob/main/Sentiment_Classifier_for_Kor_Financial_News.ipynb\" target=\"_parent\"><img src=\"https://colab.research.google.com/assets/colab-badge.svg\" alt=\"Open In Colab\"/></a>"
      ]
    },
    {
      "cell_type": "markdown",
      "source": [
        "# Info\n",
        "Last Updated @2022-05-31\n",
        "\n",
        "### 👨‍💻 Author Info\n",
        "- Author: Gyeongbin Park(a.k.a., Tony Park)\n",
        "- Blog: https://heytech.tistory.com/\n",
        "- Github: https://github.com/park-gb\n",
        "- Contact: dev.gbpark@gmail.com\n",
        "\n",
        "### 📚 References\n",
        "- PLM(KLUE/Bert-base): https://huggingface.co/klue/bert-base\n",
        "- Dataset: https://github.com/ukairia777/finance_sentiment_corpus/blob/main/finance_data.csv"
      ],
      "metadata": {
        "id": "1yl0CInpifaf"
      }
    },
    {
      "cell_type": "markdown",
      "source": [
        "# 구글 드라이브 연동"
      ],
      "metadata": {
        "id": "-Y-KNI_Bke21"
      }
    },
    {
      "cell_type": "code",
      "source": [
        "import os\n",
        "from google.colab import drive\n",
        "drive.mount('/content/drive/')"
      ],
      "metadata": {
        "id": "lA12S-rwXjcw",
        "colab": {
          "base_uri": "https://localhost:8080/"
        },
        "outputId": "ffc98c87-7ba5-4e3c-dc0a-3a18142ffc77"
      },
      "execution_count": null,
      "outputs": [
        {
          "output_type": "stream",
          "name": "stdout",
          "text": [
            "Mounted at /content/drive/\n"
          ]
        }
      ]
    },
    {
      "cell_type": "markdown",
      "source": [
        ":"
      ],
      "metadata": {
        "id": "mSEFTBlmX0tc"
      }
    },
    {
      "cell_type": "markdown",
      "source": [
        "# 패키지 설치"
      ],
      "metadata": {
        "id": "1jGYU3gVkrIF"
      }
    },
    {
      "cell_type": "markdown",
      "source": [
        "## Huggingface 패키지 설치"
      ],
      "metadata": {
        "id": "HVkwXaiiXgMp"
      }
    },
    {
      "cell_type": "code",
      "source": [
        "!pip install transformers"
      ],
      "metadata": {
        "id": "NltQP9rQXjUn",
        "colab": {
          "base_uri": "https://localhost:8080/"
        },
        "outputId": "e4f9ecb4-1720-4e94-8332-72ac4bbdb220"
      },
      "execution_count": null,
      "outputs": [
        {
          "output_type": "stream",
          "name": "stdout",
          "text": [
            "Looking in indexes: https://pypi.org/simple, https://us-python.pkg.dev/colab-wheels/public/simple/\n",
            "Requirement already satisfied: transformers in /usr/local/lib/python3.7/dist-packages (4.19.2)\n",
            "Requirement already satisfied: numpy>=1.17 in /usr/local/lib/python3.7/dist-packages (from transformers) (1.21.6)\n",
            "Requirement already satisfied: huggingface-hub<1.0,>=0.1.0 in /usr/local/lib/python3.7/dist-packages (from transformers) (0.7.0)\n",
            "Requirement already satisfied: packaging>=20.0 in /usr/local/lib/python3.7/dist-packages (from transformers) (21.3)\n",
            "Requirement already satisfied: tqdm>=4.27 in /usr/local/lib/python3.7/dist-packages (from transformers) (4.64.0)\n",
            "Requirement already satisfied: pyyaml>=5.1 in /usr/local/lib/python3.7/dist-packages (from transformers) (6.0)\n",
            "Requirement already satisfied: requests in /usr/local/lib/python3.7/dist-packages (from transformers) (2.23.0)\n",
            "Requirement already satisfied: tokenizers!=0.11.3,<0.13,>=0.11.1 in /usr/local/lib/python3.7/dist-packages (from transformers) (0.12.1)\n",
            "Requirement already satisfied: importlib-metadata in /usr/local/lib/python3.7/dist-packages (from transformers) (4.11.3)\n",
            "Requirement already satisfied: filelock in /usr/local/lib/python3.7/dist-packages (from transformers) (3.7.0)\n",
            "Requirement already satisfied: regex!=2019.12.17 in /usr/local/lib/python3.7/dist-packages (from transformers) (2019.12.20)\n",
            "Requirement already satisfied: typing-extensions>=3.7.4.3 in /usr/local/lib/python3.7/dist-packages (from huggingface-hub<1.0,>=0.1.0->transformers) (4.2.0)\n",
            "Requirement already satisfied: pyparsing!=3.0.5,>=2.0.2 in /usr/local/lib/python3.7/dist-packages (from packaging>=20.0->transformers) (3.0.9)\n",
            "Requirement already satisfied: zipp>=0.5 in /usr/local/lib/python3.7/dist-packages (from importlib-metadata->transformers) (3.8.0)\n",
            "Requirement already satisfied: idna<3,>=2.5 in /usr/local/lib/python3.7/dist-packages (from requests->transformers) (2.10)\n",
            "Requirement already satisfied: chardet<4,>=3.0.2 in /usr/local/lib/python3.7/dist-packages (from requests->transformers) (3.0.4)\n",
            "Requirement already satisfied: certifi>=2017.4.17 in /usr/local/lib/python3.7/dist-packages (from requests->transformers) (2022.5.18.1)\n",
            "Requirement already satisfied: urllib3!=1.25.0,!=1.25.1,<1.26,>=1.21.1 in /usr/local/lib/python3.7/dist-packages (from requests->transformers) (1.24.3)\n"
          ]
        }
      ]
    },
    {
      "cell_type": "markdown",
      "source": [
        "## RAdam 패키지 설치"
      ],
      "metadata": {
        "id": "g7YWiGFrklEd"
      }
    },
    {
      "cell_type": "code",
      "source": [
        "!pip install tensorflow_addons"
      ],
      "metadata": {
        "id": "3E3eK7QWklac",
        "colab": {
          "base_uri": "https://localhost:8080/"
        },
        "outputId": "f47bb51a-2f4b-42e1-aff0-51639bef2daf"
      },
      "execution_count": null,
      "outputs": [
        {
          "output_type": "stream",
          "name": "stdout",
          "text": [
            "Looking in indexes: https://pypi.org/simple, https://us-python.pkg.dev/colab-wheels/public/simple/\n",
            "Requirement already satisfied: tensorflow_addons in /usr/local/lib/python3.7/dist-packages (0.17.0)\n",
            "Requirement already satisfied: typeguard>=2.7 in /usr/local/lib/python3.7/dist-packages (from tensorflow_addons) (2.7.1)\n",
            "Requirement already satisfied: packaging in /usr/local/lib/python3.7/dist-packages (from tensorflow_addons) (21.3)\n",
            "Requirement already satisfied: pyparsing!=3.0.5,>=2.0.2 in /usr/local/lib/python3.7/dist-packages (from packaging->tensorflow_addons) (3.0.9)\n"
          ]
        }
      ]
    },
    {
      "cell_type": "markdown",
      "source": [
        "# 패키지 import"
      ],
      "metadata": {
        "id": "KKa1MK1MkYF1"
      }
    },
    {
      "cell_type": "code",
      "source": [
        "import os\n",
        "import pandas as pd\n",
        "import numpy as np\n",
        "import re\n",
        "from tqdm import tqdm\n",
        "import urllib.request\n",
        "import seaborn as sns\n",
        "import matplotlib.pyplot as plt\n",
        "import tensorflow_addons as tfa\n",
        "import tensorflow as tf\n",
        "from tensorflow.keras.callbacks import EarlyStopping, ModelCheckpoint\n",
        "from transformers import BertTokenizer, TFBertForSequenceClassification\n",
        "from sklearn.model_selection import train_test_split\n",
        "from sklearn.metrics import accuracy_score, f1_score, precision_score, recall_score, \\\n",
        "                            roc_auc_score, confusion_matrix, classification_report, \\\n",
        "                            matthews_corrcoef, cohen_kappa_score, log_loss"
      ],
      "metadata": {
        "id": "QQuKfsqLl-iQ"
      },
      "execution_count": null,
      "outputs": []
    },
    {
      "cell_type": "markdown",
      "source": [
        "# 언어모델 및 Tokenizer 불러오기"
      ],
      "metadata": {
        "id": "Qj5XKO9LkYKD"
      }
    },
    {
      "cell_type": "code",
      "source": [
        "MODEL_NAME = \"klue/bert-base\"\n",
        "model = TFBertForSequenceClassification.from_pretrained(MODEL_NAME, num_labels=3, from_pt=True)\n",
        "tokenizer = BertTokenizer.from_pretrained(MODEL_NAME)\n",
        "#MODEL_NAME = MODEL_NAME.replace(\"/\", \"_\")"
      ],
      "metadata": {
        "id": "YmaLbto522NJ",
        "colab": {
          "base_uri": "https://localhost:8080/"
        },
        "outputId": "69e235a5-64f5-422c-d9e4-ae18c6b9a3f3"
      },
      "execution_count": null,
      "outputs": [
        {
          "output_type": "stream",
          "name": "stderr",
          "text": [
            "Some weights of the PyTorch model were not used when initializing the TF 2.0 model TFBertForSequenceClassification: ['bert.embeddings.position_ids']\n",
            "- This IS expected if you are initializing TFBertForSequenceClassification from a PyTorch model trained on another task or with another architecture (e.g. initializing a TFBertForSequenceClassification model from a BertForPreTraining model).\n",
            "- This IS NOT expected if you are initializing TFBertForSequenceClassification from a PyTorch model that you expect to be exactly identical (e.g. initializing a TFBertForSequenceClassification model from a BertForSequenceClassification model).\n",
            "Some weights or buffers of the TF 2.0 model TFBertForSequenceClassification were not initialized from the PyTorch model and are newly initialized: ['classifier.weight', 'classifier.bias']\n",
            "You should probably TRAIN this model on a down-stream task to be able to use it for predictions and inference.\n"
          ]
        }
      ]
    },
    {
      "cell_type": "markdown",
      "source": [
        "# GPU 작동확인"
      ],
      "metadata": {
        "id": "2j6baHiek1ki"
      }
    },
    {
      "cell_type": "code",
      "source": [
        "device_name = tf.test.gpu_device_name()\n",
        "if device_name == '/device:GPU:0':\n",
        "  print(\"GPU 작동 중\")\n",
        "  mirrored_strategy = tf.distribute.MirroredStrategy()\n",
        "else:\n",
        "  print(\"GPU 미작동 중\")"
      ],
      "metadata": {
        "id": "FJaUmNfwk145",
        "colab": {
          "base_uri": "https://localhost:8080/"
        },
        "outputId": "bc207eee-6ca7-4a44-a979-8cb4a0625285"
      },
      "execution_count": null,
      "outputs": [
        {
          "output_type": "stream",
          "name": "stdout",
          "text": [
            "GPU 작동 중\n",
            "INFO:tensorflow:Using MirroredStrategy with devices ('/job:localhost/replica:0/task:0/device:GPU:0',)\n"
          ]
        }
      ]
    },
    {
      "cell_type": "markdown",
      "source": [
        "# 데이터셋 Load"
      ],
      "metadata": {
        "id": "jBrxU1zPkYDM"
      }
    },
    {
      "cell_type": "code",
      "source": [
        "DATASET_URL = \"https://raw.githubusercontent.com/ukairia777/finance_sentiment_corpus/main/finance_data.csv\"\n",
        "# DATASET_PATH = \"./drive/MyDrive/Colab Notebooks/SCFN/data/\"\n",
        "DATASET_NAME = \"finance_data.csv\""
      ],
      "metadata": {
        "id": "c0XHS90D9tgB"
      },
      "execution_count": null,
      "outputs": []
    },
    {
      "cell_type": "code",
      "source": [
        "urllib.request.urlretrieve(DATASET_URL, \n",
        "                           filename = DATASET_NAME\n",
        "                           )"
      ],
      "metadata": {
        "id": "IvDuKLNvoHPb",
        "colab": {
          "base_uri": "https://localhost:8080/"
        },
        "outputId": "3579c52e-dc36-40a4-cf9b-28f9af3010b5"
      },
      "execution_count": null,
      "outputs": [
        {
          "output_type": "execute_result",
          "data": {
            "text/plain": [
              "('finance_data.csv', <http.client.HTTPMessage at 0x7f1c6245a3d0>)"
            ]
          },
          "metadata": {},
          "execution_count": 121
        }
      ]
    },
    {
      "cell_type": "code",
      "source": [
        "dataset = pd.read_csv(DATASET_NAME)\n",
        "dataset.head()"
      ],
      "metadata": {
        "id": "mv9dgqH1le3C",
        "colab": {
          "base_uri": "https://localhost:8080/",
          "height": 206
        },
        "outputId": "4cdb651c-3a88-4b22-c58b-209799310b90"
      },
      "execution_count": null,
      "outputs": [
        {
          "output_type": "execute_result",
          "data": {
            "text/plain": [
              "     labels                                           sentence  \\\n",
              "0   neutral  According to Gran, the company has no plans to...   \n",
              "1   neutral  Technopolis plans to develop in stages an area...   \n",
              "2  negative  The international electronic industry company ...   \n",
              "3  positive  With the new production plant the company woul...   \n",
              "4  positive  According to the company's updated strategy fo...   \n",
              "\n",
              "                                        kor_sentence  \n",
              "0  Gran에 따르면, 그 회사는 회사가 성장하고 있는 곳이지만, 모든 생산을 러시아로...  \n",
              "1  테크노폴리스는 컴퓨터 기술과 통신 분야에서 일하는 회사들을 유치하기 위해 10만 평...  \n",
              "2  국제 전자산업 회사인 엘코텍은 탈린 공장에서 수십 명의 직원을 해고했으며, 이전의 ...  \n",
              "3  새로운 생산공장으로 인해 회사는 예상되는 수요 증가를 충족시킬 수 있는 능력을 증가...  \n",
              "4  2009-2012년 회사의 업데이트된 전략에 따르면, Basware는 20% - 4...  "
            ],
            "text/html": [
              "\n",
              "  <div id=\"df-60d4fbd6-c221-4524-a0cd-2dce5ee9f957\">\n",
              "    <div class=\"colab-df-container\">\n",
              "      <div>\n",
              "<style scoped>\n",
              "    .dataframe tbody tr th:only-of-type {\n",
              "        vertical-align: middle;\n",
              "    }\n",
              "\n",
              "    .dataframe tbody tr th {\n",
              "        vertical-align: top;\n",
              "    }\n",
              "\n",
              "    .dataframe thead th {\n",
              "        text-align: right;\n",
              "    }\n",
              "</style>\n",
              "<table border=\"1\" class=\"dataframe\">\n",
              "  <thead>\n",
              "    <tr style=\"text-align: right;\">\n",
              "      <th></th>\n",
              "      <th>labels</th>\n",
              "      <th>sentence</th>\n",
              "      <th>kor_sentence</th>\n",
              "    </tr>\n",
              "  </thead>\n",
              "  <tbody>\n",
              "    <tr>\n",
              "      <th>0</th>\n",
              "      <td>neutral</td>\n",
              "      <td>According to Gran, the company has no plans to...</td>\n",
              "      <td>Gran에 따르면, 그 회사는 회사가 성장하고 있는 곳이지만, 모든 생산을 러시아로...</td>\n",
              "    </tr>\n",
              "    <tr>\n",
              "      <th>1</th>\n",
              "      <td>neutral</td>\n",
              "      <td>Technopolis plans to develop in stages an area...</td>\n",
              "      <td>테크노폴리스는 컴퓨터 기술과 통신 분야에서 일하는 회사들을 유치하기 위해 10만 평...</td>\n",
              "    </tr>\n",
              "    <tr>\n",
              "      <th>2</th>\n",
              "      <td>negative</td>\n",
              "      <td>The international electronic industry company ...</td>\n",
              "      <td>국제 전자산업 회사인 엘코텍은 탈린 공장에서 수십 명의 직원을 해고했으며, 이전의 ...</td>\n",
              "    </tr>\n",
              "    <tr>\n",
              "      <th>3</th>\n",
              "      <td>positive</td>\n",
              "      <td>With the new production plant the company woul...</td>\n",
              "      <td>새로운 생산공장으로 인해 회사는 예상되는 수요 증가를 충족시킬 수 있는 능력을 증가...</td>\n",
              "    </tr>\n",
              "    <tr>\n",
              "      <th>4</th>\n",
              "      <td>positive</td>\n",
              "      <td>According to the company's updated strategy fo...</td>\n",
              "      <td>2009-2012년 회사의 업데이트된 전략에 따르면, Basware는 20% - 4...</td>\n",
              "    </tr>\n",
              "  </tbody>\n",
              "</table>\n",
              "</div>\n",
              "      <button class=\"colab-df-convert\" onclick=\"convertToInteractive('df-60d4fbd6-c221-4524-a0cd-2dce5ee9f957')\"\n",
              "              title=\"Convert this dataframe to an interactive table.\"\n",
              "              style=\"display:none;\">\n",
              "        \n",
              "  <svg xmlns=\"http://www.w3.org/2000/svg\" height=\"24px\"viewBox=\"0 0 24 24\"\n",
              "       width=\"24px\">\n",
              "    <path d=\"M0 0h24v24H0V0z\" fill=\"none\"/>\n",
              "    <path d=\"M18.56 5.44l.94 2.06.94-2.06 2.06-.94-2.06-.94-.94-2.06-.94 2.06-2.06.94zm-11 1L8.5 8.5l.94-2.06 2.06-.94-2.06-.94L8.5 2.5l-.94 2.06-2.06.94zm10 10l.94 2.06.94-2.06 2.06-.94-2.06-.94-.94-2.06-.94 2.06-2.06.94z\"/><path d=\"M17.41 7.96l-1.37-1.37c-.4-.4-.92-.59-1.43-.59-.52 0-1.04.2-1.43.59L10.3 9.45l-7.72 7.72c-.78.78-.78 2.05 0 2.83L4 21.41c.39.39.9.59 1.41.59.51 0 1.02-.2 1.41-.59l7.78-7.78 2.81-2.81c.8-.78.8-2.07 0-2.86zM5.41 20L4 18.59l7.72-7.72 1.47 1.35L5.41 20z\"/>\n",
              "  </svg>\n",
              "      </button>\n",
              "      \n",
              "  <style>\n",
              "    .colab-df-container {\n",
              "      display:flex;\n",
              "      flex-wrap:wrap;\n",
              "      gap: 12px;\n",
              "    }\n",
              "\n",
              "    .colab-df-convert {\n",
              "      background-color: #E8F0FE;\n",
              "      border: none;\n",
              "      border-radius: 50%;\n",
              "      cursor: pointer;\n",
              "      display: none;\n",
              "      fill: #1967D2;\n",
              "      height: 32px;\n",
              "      padding: 0 0 0 0;\n",
              "      width: 32px;\n",
              "    }\n",
              "\n",
              "    .colab-df-convert:hover {\n",
              "      background-color: #E2EBFA;\n",
              "      box-shadow: 0px 1px 2px rgba(60, 64, 67, 0.3), 0px 1px 3px 1px rgba(60, 64, 67, 0.15);\n",
              "      fill: #174EA6;\n",
              "    }\n",
              "\n",
              "    [theme=dark] .colab-df-convert {\n",
              "      background-color: #3B4455;\n",
              "      fill: #D2E3FC;\n",
              "    }\n",
              "\n",
              "    [theme=dark] .colab-df-convert:hover {\n",
              "      background-color: #434B5C;\n",
              "      box-shadow: 0px 1px 3px 1px rgba(0, 0, 0, 0.15);\n",
              "      filter: drop-shadow(0px 1px 2px rgba(0, 0, 0, 0.3));\n",
              "      fill: #FFFFFF;\n",
              "    }\n",
              "  </style>\n",
              "\n",
              "      <script>\n",
              "        const buttonEl =\n",
              "          document.querySelector('#df-60d4fbd6-c221-4524-a0cd-2dce5ee9f957 button.colab-df-convert');\n",
              "        buttonEl.style.display =\n",
              "          google.colab.kernel.accessAllowed ? 'block' : 'none';\n",
              "\n",
              "        async function convertToInteractive(key) {\n",
              "          const element = document.querySelector('#df-60d4fbd6-c221-4524-a0cd-2dce5ee9f957');\n",
              "          const dataTable =\n",
              "            await google.colab.kernel.invokeFunction('convertToInteractive',\n",
              "                                                     [key], {});\n",
              "          if (!dataTable) return;\n",
              "\n",
              "          const docLinkHtml = 'Like what you see? Visit the ' +\n",
              "            '<a target=\"_blank\" href=https://colab.research.google.com/notebooks/data_table.ipynb>data table notebook</a>'\n",
              "            + ' to learn more about interactive tables.';\n",
              "          element.innerHTML = '';\n",
              "          dataTable['output_type'] = 'display_data';\n",
              "          await google.colab.output.renderOutput(dataTable, element);\n",
              "          const docLink = document.createElement('div');\n",
              "          docLink.innerHTML = docLinkHtml;\n",
              "          element.appendChild(docLink);\n",
              "        }\n",
              "      </script>\n",
              "    </div>\n",
              "  </div>\n",
              "  "
            ]
          },
          "metadata": {},
          "execution_count": 122
        }
      ]
    },
    {
      "cell_type": "markdown",
      "source": [
        "# 데이터 전처리"
      ],
      "metadata": {
        "id": "kWyddGLIpqxD"
      }
    },
    {
      "cell_type": "markdown",
      "source": [
        "## 영어 뉴스 기사 칼럼 제거"
      ],
      "metadata": {
        "id": "Hn-AnpORqAS5"
      }
    },
    {
      "cell_type": "code",
      "source": [
        "del dataset['sentence']"
      ],
      "metadata": {
        "id": "uwidSUWApm1T"
      },
      "execution_count": null,
      "outputs": []
    },
    {
      "cell_type": "markdown",
      "source": [
        "## 라벨 데이터 숫자 치환"
      ],
      "metadata": {
        "id": "0hSlYx4vqD4u"
      }
    },
    {
      "cell_type": "code",
      "source": [
        "dataset['labels'] = dataset['labels'].replace(['neutral', 'positive', 'negative'],[0, 1, 2])\n",
        "dataset.head()"
      ],
      "metadata": {
        "id": "2MS8Ov30mQga",
        "colab": {
          "base_uri": "https://localhost:8080/",
          "height": 206
        },
        "outputId": "24a07333-9d21-45c5-9d3e-b2554142c726"
      },
      "execution_count": null,
      "outputs": [
        {
          "output_type": "execute_result",
          "data": {
            "text/plain": [
              "   labels                                       kor_sentence\n",
              "0       0  Gran에 따르면, 그 회사는 회사가 성장하고 있는 곳이지만, 모든 생산을 러시아로...\n",
              "1       0  테크노폴리스는 컴퓨터 기술과 통신 분야에서 일하는 회사들을 유치하기 위해 10만 평...\n",
              "2       2  국제 전자산업 회사인 엘코텍은 탈린 공장에서 수십 명의 직원을 해고했으며, 이전의 ...\n",
              "3       1  새로운 생산공장으로 인해 회사는 예상되는 수요 증가를 충족시킬 수 있는 능력을 증가...\n",
              "4       1  2009-2012년 회사의 업데이트된 전략에 따르면, Basware는 20% - 4..."
            ],
            "text/html": [
              "\n",
              "  <div id=\"df-4ee7eb01-a123-4db1-8d35-e29529e0150c\">\n",
              "    <div class=\"colab-df-container\">\n",
              "      <div>\n",
              "<style scoped>\n",
              "    .dataframe tbody tr th:only-of-type {\n",
              "        vertical-align: middle;\n",
              "    }\n",
              "\n",
              "    .dataframe tbody tr th {\n",
              "        vertical-align: top;\n",
              "    }\n",
              "\n",
              "    .dataframe thead th {\n",
              "        text-align: right;\n",
              "    }\n",
              "</style>\n",
              "<table border=\"1\" class=\"dataframe\">\n",
              "  <thead>\n",
              "    <tr style=\"text-align: right;\">\n",
              "      <th></th>\n",
              "      <th>labels</th>\n",
              "      <th>kor_sentence</th>\n",
              "    </tr>\n",
              "  </thead>\n",
              "  <tbody>\n",
              "    <tr>\n",
              "      <th>0</th>\n",
              "      <td>0</td>\n",
              "      <td>Gran에 따르면, 그 회사는 회사가 성장하고 있는 곳이지만, 모든 생산을 러시아로...</td>\n",
              "    </tr>\n",
              "    <tr>\n",
              "      <th>1</th>\n",
              "      <td>0</td>\n",
              "      <td>테크노폴리스는 컴퓨터 기술과 통신 분야에서 일하는 회사들을 유치하기 위해 10만 평...</td>\n",
              "    </tr>\n",
              "    <tr>\n",
              "      <th>2</th>\n",
              "      <td>2</td>\n",
              "      <td>국제 전자산업 회사인 엘코텍은 탈린 공장에서 수십 명의 직원을 해고했으며, 이전의 ...</td>\n",
              "    </tr>\n",
              "    <tr>\n",
              "      <th>3</th>\n",
              "      <td>1</td>\n",
              "      <td>새로운 생산공장으로 인해 회사는 예상되는 수요 증가를 충족시킬 수 있는 능력을 증가...</td>\n",
              "    </tr>\n",
              "    <tr>\n",
              "      <th>4</th>\n",
              "      <td>1</td>\n",
              "      <td>2009-2012년 회사의 업데이트된 전략에 따르면, Basware는 20% - 4...</td>\n",
              "    </tr>\n",
              "  </tbody>\n",
              "</table>\n",
              "</div>\n",
              "      <button class=\"colab-df-convert\" onclick=\"convertToInteractive('df-4ee7eb01-a123-4db1-8d35-e29529e0150c')\"\n",
              "              title=\"Convert this dataframe to an interactive table.\"\n",
              "              style=\"display:none;\">\n",
              "        \n",
              "  <svg xmlns=\"http://www.w3.org/2000/svg\" height=\"24px\"viewBox=\"0 0 24 24\"\n",
              "       width=\"24px\">\n",
              "    <path d=\"M0 0h24v24H0V0z\" fill=\"none\"/>\n",
              "    <path d=\"M18.56 5.44l.94 2.06.94-2.06 2.06-.94-2.06-.94-.94-2.06-.94 2.06-2.06.94zm-11 1L8.5 8.5l.94-2.06 2.06-.94-2.06-.94L8.5 2.5l-.94 2.06-2.06.94zm10 10l.94 2.06.94-2.06 2.06-.94-2.06-.94-.94-2.06-.94 2.06-2.06.94z\"/><path d=\"M17.41 7.96l-1.37-1.37c-.4-.4-.92-.59-1.43-.59-.52 0-1.04.2-1.43.59L10.3 9.45l-7.72 7.72c-.78.78-.78 2.05 0 2.83L4 21.41c.39.39.9.59 1.41.59.51 0 1.02-.2 1.41-.59l7.78-7.78 2.81-2.81c.8-.78.8-2.07 0-2.86zM5.41 20L4 18.59l7.72-7.72 1.47 1.35L5.41 20z\"/>\n",
              "  </svg>\n",
              "      </button>\n",
              "      \n",
              "  <style>\n",
              "    .colab-df-container {\n",
              "      display:flex;\n",
              "      flex-wrap:wrap;\n",
              "      gap: 12px;\n",
              "    }\n",
              "\n",
              "    .colab-df-convert {\n",
              "      background-color: #E8F0FE;\n",
              "      border: none;\n",
              "      border-radius: 50%;\n",
              "      cursor: pointer;\n",
              "      display: none;\n",
              "      fill: #1967D2;\n",
              "      height: 32px;\n",
              "      padding: 0 0 0 0;\n",
              "      width: 32px;\n",
              "    }\n",
              "\n",
              "    .colab-df-convert:hover {\n",
              "      background-color: #E2EBFA;\n",
              "      box-shadow: 0px 1px 2px rgba(60, 64, 67, 0.3), 0px 1px 3px 1px rgba(60, 64, 67, 0.15);\n",
              "      fill: #174EA6;\n",
              "    }\n",
              "\n",
              "    [theme=dark] .colab-df-convert {\n",
              "      background-color: #3B4455;\n",
              "      fill: #D2E3FC;\n",
              "    }\n",
              "\n",
              "    [theme=dark] .colab-df-convert:hover {\n",
              "      background-color: #434B5C;\n",
              "      box-shadow: 0px 1px 3px 1px rgba(0, 0, 0, 0.15);\n",
              "      filter: drop-shadow(0px 1px 2px rgba(0, 0, 0, 0.3));\n",
              "      fill: #FFFFFF;\n",
              "    }\n",
              "  </style>\n",
              "\n",
              "      <script>\n",
              "        const buttonEl =\n",
              "          document.querySelector('#df-4ee7eb01-a123-4db1-8d35-e29529e0150c button.colab-df-convert');\n",
              "        buttonEl.style.display =\n",
              "          google.colab.kernel.accessAllowed ? 'block' : 'none';\n",
              "\n",
              "        async function convertToInteractive(key) {\n",
              "          const element = document.querySelector('#df-4ee7eb01-a123-4db1-8d35-e29529e0150c');\n",
              "          const dataTable =\n",
              "            await google.colab.kernel.invokeFunction('convertToInteractive',\n",
              "                                                     [key], {});\n",
              "          if (!dataTable) return;\n",
              "\n",
              "          const docLinkHtml = 'Like what you see? Visit the ' +\n",
              "            '<a target=\"_blank\" href=https://colab.research.google.com/notebooks/data_table.ipynb>data table notebook</a>'\n",
              "            + ' to learn more about interactive tables.';\n",
              "          element.innerHTML = '';\n",
              "          dataTable['output_type'] = 'display_data';\n",
              "          await google.colab.output.renderOutput(dataTable, element);\n",
              "          const docLink = document.createElement('div');\n",
              "          docLink.innerHTML = docLinkHtml;\n",
              "          element.appendChild(docLink);\n",
              "        }\n",
              "      </script>\n",
              "    </div>\n",
              "  </div>\n",
              "  "
            ]
          },
          "metadata": {},
          "execution_count": 124
        }
      ]
    },
    {
      "cell_type": "markdown",
      "source": [
        "## 결측치 확인"
      ],
      "metadata": {
        "id": "wL-n_KNVqIEb"
      }
    },
    {
      "cell_type": "code",
      "source": [
        "dataset.info()"
      ],
      "metadata": {
        "id": "Z9HMau-Wo3eN",
        "colab": {
          "base_uri": "https://localhost:8080/"
        },
        "outputId": "1b15f6c9-4568-4aa9-b91f-38cff37b1527"
      },
      "execution_count": null,
      "outputs": [
        {
          "output_type": "stream",
          "name": "stdout",
          "text": [
            "<class 'pandas.core.frame.DataFrame'>\n",
            "RangeIndex: 4846 entries, 0 to 4845\n",
            "Data columns (total 2 columns):\n",
            " #   Column        Non-Null Count  Dtype \n",
            "---  ------        --------------  ----- \n",
            " 0   labels        4846 non-null   int64 \n",
            " 1   kor_sentence  4846 non-null   object\n",
            "dtypes: int64(1), object(1)\n",
            "memory usage: 75.8+ KB\n"
          ]
        }
      ]
    },
    {
      "cell_type": "markdown",
      "source": [
        "## 중복 데이터 제거"
      ],
      "metadata": {
        "id": "SvDKFgLqpypm"
      }
    },
    {
      "cell_type": "code",
      "source": [
        "# 중복 데이터 확인\n",
        "dataset[dataset['kor_sentence'].duplicated()]"
      ],
      "metadata": {
        "id": "kOak2axUqU4C",
        "colab": {
          "base_uri": "https://localhost:8080/",
          "height": 645
        },
        "outputId": "39f88d3d-a41f-4ef5-fded-ee965cdf1637"
      },
      "execution_count": null,
      "outputs": [
        {
          "output_type": "execute_result",
          "data": {
            "text/plain": [
              "      labels                                       kor_sentence\n",
              "79         1  텔레콤월드와이어-2006년 4월 7일-TJ 그룹은 모닝 디지털 디자인 Oy 핀란드 ...\n",
              "789        0  그룹의 사업은 스포츠의 광범위한 포트폴리오와 모든 주요 시장에서의 입지에 의해 균형...\n",
              "1099       0                   이 발표 내용에 대한 책임은 전적으로 발행자에게 있습니다.\n",
              "1394       0  핀란드 헬싱키에 본사를 둔 레민카이넨 그룹은 토목 공학, 건축 계약, 기술 건축 서...\n",
              "1416       0  이 보고서는 블랙 앤 데커, 피스카스, 피스카스 브랜드, 후스크바르나 아웃도어 프로...\n",
              "2396       0                   알스트롬의 주가는 나스닥 OMX 헬싱키에서 인용되고 있다.\n",
              "2567       0               SSH 통신 보안 코퍼레이션은 핀란드 헬싱키에 본사를 두고 있다.\n",
              "2889       0                               재정적인 세부사항은 공개되지 않았다.\n",
              "2890       0                               재정적인 세부사항은 공개되지 않았다.\n",
              "2892       0                                   금융 조건은 공개되지 않았다.\n",
              "3050       0                               재정적인 세부사항은 제공되지 않았다.\n",
              "3051       0                               재정적인 세부사항은 공개되지 않았다.\n",
              "3094       0  Proha Plc (Euronext :7327)는 오늘 (5월 19일) 완전 소유 ...\n",
              "3206       0  공정 및 자원, 산업기계, 건축, 건축, 건설, 전기, 운송, 전자, 화학, 석유화...\n",
              "3350       0                                   판매 가격은 공개되지 않았다.\n",
              "3538       0     아스포의 그룹 구조와 비즈니스 운영은 미리 정의된 일정 없이 지속적으로 개발됩니다.\n",
              "3605       0  핀란드 탐페레에 본사를 둔 Glaston은 성장하고 있는 국제적인 유리 기술 회사입니다.\n",
              "3617       0                    2007년에 에트플랜은 125.2m의 회전율을 기록했다.\n",
              "3938       0                                그 거래의 가치는 공개되지 않았다."
            ],
            "text/html": [
              "\n",
              "  <div id=\"df-1030ee64-4ed3-4cf2-85c9-08ae4b43ed71\">\n",
              "    <div class=\"colab-df-container\">\n",
              "      <div>\n",
              "<style scoped>\n",
              "    .dataframe tbody tr th:only-of-type {\n",
              "        vertical-align: middle;\n",
              "    }\n",
              "\n",
              "    .dataframe tbody tr th {\n",
              "        vertical-align: top;\n",
              "    }\n",
              "\n",
              "    .dataframe thead th {\n",
              "        text-align: right;\n",
              "    }\n",
              "</style>\n",
              "<table border=\"1\" class=\"dataframe\">\n",
              "  <thead>\n",
              "    <tr style=\"text-align: right;\">\n",
              "      <th></th>\n",
              "      <th>labels</th>\n",
              "      <th>kor_sentence</th>\n",
              "    </tr>\n",
              "  </thead>\n",
              "  <tbody>\n",
              "    <tr>\n",
              "      <th>79</th>\n",
              "      <td>1</td>\n",
              "      <td>텔레콤월드와이어-2006년 4월 7일-TJ 그룹은 모닝 디지털 디자인 Oy 핀란드 ...</td>\n",
              "    </tr>\n",
              "    <tr>\n",
              "      <th>789</th>\n",
              "      <td>0</td>\n",
              "      <td>그룹의 사업은 스포츠의 광범위한 포트폴리오와 모든 주요 시장에서의 입지에 의해 균형...</td>\n",
              "    </tr>\n",
              "    <tr>\n",
              "      <th>1099</th>\n",
              "      <td>0</td>\n",
              "      <td>이 발표 내용에 대한 책임은 전적으로 발행자에게 있습니다.</td>\n",
              "    </tr>\n",
              "    <tr>\n",
              "      <th>1394</th>\n",
              "      <td>0</td>\n",
              "      <td>핀란드 헬싱키에 본사를 둔 레민카이넨 그룹은 토목 공학, 건축 계약, 기술 건축 서...</td>\n",
              "    </tr>\n",
              "    <tr>\n",
              "      <th>1416</th>\n",
              "      <td>0</td>\n",
              "      <td>이 보고서는 블랙 앤 데커, 피스카스, 피스카스 브랜드, 후스크바르나 아웃도어 프로...</td>\n",
              "    </tr>\n",
              "    <tr>\n",
              "      <th>2396</th>\n",
              "      <td>0</td>\n",
              "      <td>알스트롬의 주가는 나스닥 OMX 헬싱키에서 인용되고 있다.</td>\n",
              "    </tr>\n",
              "    <tr>\n",
              "      <th>2567</th>\n",
              "      <td>0</td>\n",
              "      <td>SSH 통신 보안 코퍼레이션은 핀란드 헬싱키에 본사를 두고 있다.</td>\n",
              "    </tr>\n",
              "    <tr>\n",
              "      <th>2889</th>\n",
              "      <td>0</td>\n",
              "      <td>재정적인 세부사항은 공개되지 않았다.</td>\n",
              "    </tr>\n",
              "    <tr>\n",
              "      <th>2890</th>\n",
              "      <td>0</td>\n",
              "      <td>재정적인 세부사항은 공개되지 않았다.</td>\n",
              "    </tr>\n",
              "    <tr>\n",
              "      <th>2892</th>\n",
              "      <td>0</td>\n",
              "      <td>금융 조건은 공개되지 않았다.</td>\n",
              "    </tr>\n",
              "    <tr>\n",
              "      <th>3050</th>\n",
              "      <td>0</td>\n",
              "      <td>재정적인 세부사항은 제공되지 않았다.</td>\n",
              "    </tr>\n",
              "    <tr>\n",
              "      <th>3051</th>\n",
              "      <td>0</td>\n",
              "      <td>재정적인 세부사항은 공개되지 않았다.</td>\n",
              "    </tr>\n",
              "    <tr>\n",
              "      <th>3094</th>\n",
              "      <td>0</td>\n",
              "      <td>Proha Plc (Euronext :7327)는 오늘 (5월 19일) 완전 소유 ...</td>\n",
              "    </tr>\n",
              "    <tr>\n",
              "      <th>3206</th>\n",
              "      <td>0</td>\n",
              "      <td>공정 및 자원, 산업기계, 건축, 건축, 건설, 전기, 운송, 전자, 화학, 석유화...</td>\n",
              "    </tr>\n",
              "    <tr>\n",
              "      <th>3350</th>\n",
              "      <td>0</td>\n",
              "      <td>판매 가격은 공개되지 않았다.</td>\n",
              "    </tr>\n",
              "    <tr>\n",
              "      <th>3538</th>\n",
              "      <td>0</td>\n",
              "      <td>아스포의 그룹 구조와 비즈니스 운영은 미리 정의된 일정 없이 지속적으로 개발됩니다.</td>\n",
              "    </tr>\n",
              "    <tr>\n",
              "      <th>3605</th>\n",
              "      <td>0</td>\n",
              "      <td>핀란드 탐페레에 본사를 둔 Glaston은 성장하고 있는 국제적인 유리 기술 회사입니다.</td>\n",
              "    </tr>\n",
              "    <tr>\n",
              "      <th>3617</th>\n",
              "      <td>0</td>\n",
              "      <td>2007년에 에트플랜은 125.2m의 회전율을 기록했다.</td>\n",
              "    </tr>\n",
              "    <tr>\n",
              "      <th>3938</th>\n",
              "      <td>0</td>\n",
              "      <td>그 거래의 가치는 공개되지 않았다.</td>\n",
              "    </tr>\n",
              "  </tbody>\n",
              "</table>\n",
              "</div>\n",
              "      <button class=\"colab-df-convert\" onclick=\"convertToInteractive('df-1030ee64-4ed3-4cf2-85c9-08ae4b43ed71')\"\n",
              "              title=\"Convert this dataframe to an interactive table.\"\n",
              "              style=\"display:none;\">\n",
              "        \n",
              "  <svg xmlns=\"http://www.w3.org/2000/svg\" height=\"24px\"viewBox=\"0 0 24 24\"\n",
              "       width=\"24px\">\n",
              "    <path d=\"M0 0h24v24H0V0z\" fill=\"none\"/>\n",
              "    <path d=\"M18.56 5.44l.94 2.06.94-2.06 2.06-.94-2.06-.94-.94-2.06-.94 2.06-2.06.94zm-11 1L8.5 8.5l.94-2.06 2.06-.94-2.06-.94L8.5 2.5l-.94 2.06-2.06.94zm10 10l.94 2.06.94-2.06 2.06-.94-2.06-.94-.94-2.06-.94 2.06-2.06.94z\"/><path d=\"M17.41 7.96l-1.37-1.37c-.4-.4-.92-.59-1.43-.59-.52 0-1.04.2-1.43.59L10.3 9.45l-7.72 7.72c-.78.78-.78 2.05 0 2.83L4 21.41c.39.39.9.59 1.41.59.51 0 1.02-.2 1.41-.59l7.78-7.78 2.81-2.81c.8-.78.8-2.07 0-2.86zM5.41 20L4 18.59l7.72-7.72 1.47 1.35L5.41 20z\"/>\n",
              "  </svg>\n",
              "      </button>\n",
              "      \n",
              "  <style>\n",
              "    .colab-df-container {\n",
              "      display:flex;\n",
              "      flex-wrap:wrap;\n",
              "      gap: 12px;\n",
              "    }\n",
              "\n",
              "    .colab-df-convert {\n",
              "      background-color: #E8F0FE;\n",
              "      border: none;\n",
              "      border-radius: 50%;\n",
              "      cursor: pointer;\n",
              "      display: none;\n",
              "      fill: #1967D2;\n",
              "      height: 32px;\n",
              "      padding: 0 0 0 0;\n",
              "      width: 32px;\n",
              "    }\n",
              "\n",
              "    .colab-df-convert:hover {\n",
              "      background-color: #E2EBFA;\n",
              "      box-shadow: 0px 1px 2px rgba(60, 64, 67, 0.3), 0px 1px 3px 1px rgba(60, 64, 67, 0.15);\n",
              "      fill: #174EA6;\n",
              "    }\n",
              "\n",
              "    [theme=dark] .colab-df-convert {\n",
              "      background-color: #3B4455;\n",
              "      fill: #D2E3FC;\n",
              "    }\n",
              "\n",
              "    [theme=dark] .colab-df-convert:hover {\n",
              "      background-color: #434B5C;\n",
              "      box-shadow: 0px 1px 3px 1px rgba(0, 0, 0, 0.15);\n",
              "      filter: drop-shadow(0px 1px 2px rgba(0, 0, 0, 0.3));\n",
              "      fill: #FFFFFF;\n",
              "    }\n",
              "  </style>\n",
              "\n",
              "      <script>\n",
              "        const buttonEl =\n",
              "          document.querySelector('#df-1030ee64-4ed3-4cf2-85c9-08ae4b43ed71 button.colab-df-convert');\n",
              "        buttonEl.style.display =\n",
              "          google.colab.kernel.accessAllowed ? 'block' : 'none';\n",
              "\n",
              "        async function convertToInteractive(key) {\n",
              "          const element = document.querySelector('#df-1030ee64-4ed3-4cf2-85c9-08ae4b43ed71');\n",
              "          const dataTable =\n",
              "            await google.colab.kernel.invokeFunction('convertToInteractive',\n",
              "                                                     [key], {});\n",
              "          if (!dataTable) return;\n",
              "\n",
              "          const docLinkHtml = 'Like what you see? Visit the ' +\n",
              "            '<a target=\"_blank\" href=https://colab.research.google.com/notebooks/data_table.ipynb>data table notebook</a>'\n",
              "            + ' to learn more about interactive tables.';\n",
              "          element.innerHTML = '';\n",
              "          dataTable['output_type'] = 'display_data';\n",
              "          await google.colab.output.renderOutput(dataTable, element);\n",
              "          const docLink = document.createElement('div');\n",
              "          docLink.innerHTML = docLinkHtml;\n",
              "          element.appendChild(docLink);\n",
              "        }\n",
              "      </script>\n",
              "    </div>\n",
              "  </div>\n",
              "  "
            ]
          },
          "metadata": {},
          "execution_count": 126
        }
      ]
    },
    {
      "cell_type": "code",
      "source": [
        "# 중복 데이터 제거\n",
        "dataset.drop_duplicates(subset = ['kor_sentence'], inplace = True)"
      ],
      "metadata": {
        "id": "sBe8Z4Qfp_he"
      },
      "execution_count": null,
      "outputs": []
    },
    {
      "cell_type": "markdown",
      "source": [
        "# 라벨 비율 확인"
      ],
      "metadata": {
        "id": "w8o-rdwUq8LP"
      }
    },
    {
      "cell_type": "code",
      "source": [
        "dataset['labels'].value_counts().plot(kind = 'bar')"
      ],
      "metadata": {
        "id": "NORjCUvNp9mm",
        "colab": {
          "base_uri": "https://localhost:8080/",
          "height": 283
        },
        "outputId": "667bc2b2-1480-4896-e3ee-561509a7fdd6"
      },
      "execution_count": null,
      "outputs": [
        {
          "output_type": "execute_result",
          "data": {
            "text/plain": [
              "<matplotlib.axes._subplots.AxesSubplot at 0x7f1c6245add0>"
            ]
          },
          "metadata": {},
          "execution_count": 128
        },
        {
          "output_type": "display_data",
          "data": {
            "text/plain": [
              "<Figure size 432x288 with 1 Axes>"
            ],
            "image/png": "[encoded data removed]"
          },
          "metadata": {
            "needs_background": "light"
          }
        }
      ]
    },
    {
      "cell_type": "code",
      "source": [
        "dataset['labels'].value_counts(normalize = True).plot(kind = 'bar', )"
      ],
      "metadata": {
        "id": "Gqgaud01rCsw",
        "colab": {
          "base_uri": "https://localhost:8080/",
          "height": 280
        },
        "outputId": "015594e4-2244-4efc-c4f0-599505e4e0ac"
      },
      "execution_count": null,
      "outputs": [
        {
          "output_type": "execute_result",
          "data": {
            "text/plain": [
              "<matplotlib.axes._subplots.AxesSubplot at 0x7f204334b710>"
            ]
          },
          "metadata": {},
          "execution_count": 129
        },
        {
          "output_type": "display_data",
          "data": {
            "text/plain": [
              "<Figure size 432x288 with 1 Axes>"
            ],
            "image/png": "[encoded data removed]"
          },
          "metadata": {
            "needs_background": "light"
          }
        }
      ]
    },
    {
      "cell_type": "code",
      "source": [
        "dataset['labels'].value_counts(normalize = True)"
      ],
      "metadata": {
        "id": "AuN8pEZJrQe1",
        "colab": {
          "base_uri": "https://localhost:8080/"
        },
        "outputId": "e4c293dd-7e33-441c-ca74-8d0247987749"
      },
      "execution_count": null,
      "outputs": [
        {
          "output_type": "execute_result",
          "data": {
            "text/plain": [
              "0    0.592708\n",
              "1    0.282163\n",
              "2    0.125129\n",
              "Name: labels, dtype: float64"
            ]
          },
          "metadata": {},
          "execution_count": 130
        }
      ]
    },
    {
      "cell_type": "markdown",
      "source": [
        "# 훈련/테스트 데이터 분리"
      ],
      "metadata": {
        "id": "ZDSBMlrq59ng"
      }
    },
    {
      "cell_type": "code",
      "source": [
        " #입출력 데이터 분리\n",
        "X_data = dataset['kor_sentence']\n",
        "y_data = dataset['labels']"
      ],
      "metadata": {
        "id": "exgj3Ols6DV0"
      },
      "execution_count": null,
      "outputs": []
    },
    {
      "cell_type": "code",
      "source": [
        "TEST_SIZE = 0.2\n",
        "RANDOM_STATE = 42\n",
        "X_train, X_test, y_train, y_test = train_test_split(X_data, y_data, \n",
        "                                                    test_size = TEST_SIZE, \n",
        "                                                    random_state = RANDOM_STATE, \n",
        "                                                    stratify = y_data)"
      ],
      "metadata": {
        "id": "Z4RsNzb758zK"
      },
      "execution_count": null,
      "outputs": []
    },
    {
      "cell_type": "code",
      "source": [
        "print(f\"훈련 입력 데이터 개수: {len(X_train)}\")\n",
        "print(f\"테스트 입력 데이터 개수: {len(X_test)}\")"
      ],
      "metadata": {
        "id": "J-o9-UN865IQ",
        "colab": {
          "base_uri": "https://localhost:8080/"
        },
        "outputId": "3456f5c1-597e-43f7-a6c9-5c44f51675d5"
      },
      "execution_count": null,
      "outputs": [
        {
          "output_type": "stream",
          "name": "stdout",
          "text": [
            "훈련 입력 데이터 개수: 3861\n",
            "테스트 입력 데이터 개수: 966\n"
          ]
        }
      ]
    },
    {
      "cell_type": "code",
      "source": [
        "# 훈련 데이터 라벨별 비율\n",
        "y_train.value_counts(normalize = True)"
      ],
      "metadata": {
        "id": "Uhz52W-V6fNk",
        "colab": {
          "base_uri": "https://localhost:8080/"
        },
        "outputId": "f54fda15-1147-40d7-a7df-e6870a103157"
      },
      "execution_count": null,
      "outputs": [
        {
          "output_type": "execute_result",
          "data": {
            "text/plain": [
              "0    0.592852\n",
              "1    0.282051\n",
              "2    0.125097\n",
              "Name: labels, dtype: float64"
            ]
          },
          "metadata": {},
          "execution_count": 134
        }
      ]
    },
    {
      "cell_type": "code",
      "source": [
        "# 테스트 데이터 라벨별 비율\n",
        "y_test.value_counts(normalize = True)"
      ],
      "metadata": {
        "id": "A2Zloah662Bf",
        "colab": {
          "base_uri": "https://localhost:8080/"
        },
        "outputId": "8b86aee2-3fd5-4edd-a428-07dddb6e990f"
      },
      "execution_count": null,
      "outputs": [
        {
          "output_type": "execute_result",
          "data": {
            "text/plain": [
              "0    0.592133\n",
              "1    0.282609\n",
              "2    0.125259\n",
              "Name: labels, dtype: float64"
            ]
          },
          "metadata": {},
          "execution_count": 135
        }
      ]
    },
    {
      "cell_type": "markdown",
      "source": [
        "# BERT용 입력 데이터 포맷 변경"
      ],
      "metadata": {
        "id": "jpdWZDjw4qdj"
      }
    },
    {
      "cell_type": "code",
      "source": [
        "# 데이터 길이 제한\n",
        "MAX_SEQ_LEN = 64"
      ],
      "metadata": {
        "id": "8fGc7OQNkujl"
      },
      "execution_count": null,
      "outputs": []
    },
    {
      "cell_type": "code",
      "source": [
        "def convert_data(X_data, y_data):\n",
        "    # BERT 입력으로 들어가는 token, mask, segment, target 저장용 리스트\n",
        "    tokens, masks, segments, targets = [], [], [], []\n",
        "    \n",
        "    for X, y in tqdm(zip(X_data, y_data)):\n",
        "        # token: 입력 문장 토큰화\n",
        "        token = tokenizer.encode(X, truncation = True, padding = 'max_length', max_length = MAX_SEQ_LEN)\n",
        "        \n",
        "        # Mask: 토큰화한 문장 내 패딩이 아닌 경우 1, 패딩인 경우 0으로 초기화\n",
        "        num_zeros = token.count(0)\n",
        "        mask = [1] * (MAX_SEQ_LEN - num_zeros) + [0] * num_zeros\n",
        "        \n",
        "        # segment: 문장 전후관계 구분: 오직 한 문장이므로 모두 0으로 초기화\n",
        "        segment = [0]*MAX_SEQ_LEN\n",
        "\n",
        "        tokens.append(token)\n",
        "        masks.append(mask)\n",
        "        segments.append(segment)\n",
        "        targets.append(y)\n",
        "\n",
        "    # numpy array로 저장\n",
        "    tokens = np.array(tokens)\n",
        "    masks = np.array(masks)\n",
        "    segments = np.array(segments)\n",
        "    targets = np.array(targets)\n",
        "\n",
        "    return [tokens, masks, segments], targets"
      ],
      "metadata": {
        "id": "t7RRnhKnXkqx"
      },
      "execution_count": null,
      "outputs": []
    },
    {
      "cell_type": "code",
      "source": [
        "# train 데이터를 버트 인풋에 맞게 변환\n",
        "train_x, train_y = convert_data(X_train, y_train)"
      ],
      "metadata": {
        "id": "Vg2uudZzXkdb",
        "colab": {
          "base_uri": "https://localhost:8080/"
        },
        "outputId": "02bdfad3-e4a2-495d-e373-dd3c8d2f994c"
      },
      "execution_count": null,
      "outputs": [
        {
          "output_type": "stream",
          "name": "stderr",
          "text": [
            "3861it [00:02, 1920.61it/s]\n"
          ]
        }
      ]
    },
    {
      "cell_type": "code",
      "source": [
        "# test 데이터를 버트 인풋에 맞게 변환\n",
        "test_x, test_y = convert_data(X_test, y_test)"
      ],
      "metadata": {
        "id": "8XvxHlx7Y7Zr",
        "colab": {
          "base_uri": "https://localhost:8080/"
        },
        "outputId": "cb7ca8b2-4fef-4d48-e19f-d0e844cb4afc"
      },
      "execution_count": null,
      "outputs": [
        {
          "output_type": "stream",
          "name": "stderr",
          "text": [
            "966it [00:00, 1700.40it/s]\n"
          ]
        }
      ]
    },
    {
      "cell_type": "markdown",
      "source": [
        "# BERT 모델링"
      ],
      "metadata": {
        "id": "syg1I2wd79KM"
      }
    },
    {
      "cell_type": "code",
      "source": [
        "# token, mask, segment 입력 정의\n",
        "token_inputs = tf.keras.layers.Input((MAX_SEQ_LEN,), dtype = tf.int32, name = 'input_word_ids')\n",
        "mask_inputs = tf.keras.layers.Input((MAX_SEQ_LEN,), dtype = tf.int32, name = 'input_masks')\n",
        "segment_inputs = tf.keras.layers.Input((MAX_SEQ_LEN,), dtype = tf.int32, name = 'input_segment')\n",
        "bert_outputs = model([token_inputs, mask_inputs, segment_inputs])"
      ],
      "metadata": {
        "id": "8UImQFlH_sTY"
      },
      "execution_count": null,
      "outputs": []
    },
    {
      "cell_type": "code",
      "source": [
        "bert_outputs"
      ],
      "metadata": {
        "id": "xI9OFaHvu6Zv",
        "colab": {
          "base_uri": "https://localhost:8080/"
        },
        "outputId": "5aaf7518-5095-48ef-c5c9-381226de1ade"
      },
      "execution_count": null,
      "outputs": [
        {
          "output_type": "execute_result",
          "data": {
            "text/plain": [
              "TFSequenceClassifierOutput([('logits',\n",
              "                             <KerasTensor: shape=(None, 3) dtype=float32 (created by layer 'tf_bert_for_sequence_classification_4')>)])"
            ]
          },
          "metadata": {},
          "execution_count": 141
        }
      ]
    },
    {
      "cell_type": "code",
      "source": [
        "bert_output = bert_outputs[0]"
      ],
      "metadata": {
        "id": "gU8qjyNJvE5-"
      },
      "execution_count": null,
      "outputs": []
    },
    {
      "cell_type": "markdown",
      "source": [
        "# 파인튜닝: 감정 분류 모델"
      ],
      "metadata": {
        "id": "a49gVEzNvMs3"
      }
    },
    {
      "cell_type": "markdown",
      "source": [
        "## 감정 분류 모델 컴파일"
      ],
      "metadata": {
        "id": "4LpZArdSzSsz"
      }
    },
    {
      "cell_type": "code",
      "source": [
        "DROPOUT_RATE = 0.5\n",
        "NUM_CLASS = 3\n",
        "dropout = tf.keras.layers.Dropout(DROPOUT_RATE)(bert_output)\n",
        "sentiment_layer = tf.keras.layers.Dense(NUM_CLASS, activation='softmax', kernel_initializer = tf.keras.initializers.TruncatedNormal(stddev=0.02))(dropout)\n",
        "sentiment_model = tf.keras.Model([token_inputs, mask_inputs, segment_inputs], sentiment_layer)"
      ],
      "metadata": {
        "id": "_0fbV4P0wNkb"
      },
      "execution_count": null,
      "outputs": []
    },
    {
      "cell_type": "code",
      "source": [
        "OPTIMIZER_NAME = 'RAdam'\n",
        "LEARNING_RATE = 5e-5\n",
        "TOTAL_STEPS = 10000\n",
        "MIN_LR = 1e-5\n",
        "WARMUP_PROPORTION = 0.1\n",
        "EPSILON = 1e-8\n",
        "CLIPNORM = 1.0\n",
        "optimizer = tfa.optimizers.RectifiedAdam(learning_rate = LEARNING_RATE,\n",
        "                                          total_steps = TOTAL_STEPS, \n",
        "                                          warmup_proportion = WARMUP_PROPORTION, \n",
        "                                          min_lr = MIN_LR, \n",
        "                                          epsilon = EPSILON,\n",
        "                                          clipnorm = CLIPNORM)"
      ],
      "metadata": {
        "id": "vP-DJYERvRHf"
      },
      "execution_count": null,
      "outputs": []
    },
    {
      "cell_type": "code",
      "source": [
        "sentiment_model.compile(optimizer = optimizer, loss = tf.keras.losses.SparseCategoricalCrossentropy(), metrics = ['accuracy'])"
      ],
      "metadata": {
        "id": "fcYHuTvdm2DL"
      },
      "execution_count": null,
      "outputs": []
    },
    {
      "cell_type": "markdown",
      "source": [
        "## 조기종료 조건"
      ],
      "metadata": {
        "id": "EQRhT4kizPq6"
      }
    },
    {
      "cell_type": "code",
      "source": [
        "MIN_DELTA = 1e-3\n",
        "PATIENCE = 5"
      ],
      "metadata": {
        "id": "Qw0CrsEEzNys"
      },
      "execution_count": null,
      "outputs": []
    },
    {
      "cell_type": "code",
      "source": [
        "early_stopping = EarlyStopping(\n",
        "    monitor = \"val_accuracy\", \n",
        "    min_delta = MIN_DELTA,\n",
        "    patience = PATIENCE)"
      ],
      "metadata": {
        "id": "rIv_SyQLyhYQ"
      },
      "execution_count": null,
      "outputs": []
    },
    {
      "cell_type": "markdown",
      "source": [
        "## 최고 성능 모델 저장"
      ],
      "metadata": {
        "id": "z2Imzd2M6eYV"
      }
    },
    {
      "cell_type": "code",
      "source": [
        "#MODEL_BEST_PATH = \"./drive/MyDrive/Colab Notebooks/SCFN/model/\"\n",
        "#MODEL_BEST_NAME = \"best_model_\" + MODEL_NAME + \"_\" + OPTIMIZER_NAME + \".h5\""
      ],
      "metadata": {
        "id": "c_YQXMJ-6XoS"
      },
      "execution_count": null,
      "outputs": []
    },
    {
      "cell_type": "code",
      "source": [
        "BEST_MODEL_NAME = 'best_model.h5'\n",
        "\n",
        "model_checkpoint = ModelCheckpoint(\n",
        "    filepath = BEST_MODEL_NAME,\n",
        "    monitor = \"val_loss\",\n",
        "    mode = \"min\",\n",
        "    save_best_only = True,\n",
        "    verbose = 1\n",
        ")"
      ],
      "metadata": {
        "id": "t3GYMayc6KoD"
      },
      "execution_count": null,
      "outputs": []
    },
    {
      "cell_type": "code",
      "source": [
        "callbacks = [early_stopping, model_checkpoint]"
      ],
      "metadata": {
        "id": "t-LqvdE68Idq"
      },
      "execution_count": null,
      "outputs": []
    },
    {
      "cell_type": "markdown",
      "source": [
        "## 감정 분류 모델 학습"
      ],
      "metadata": {
        "id": "I8ucA5VezfoF"
      }
    },
    {
      "cell_type": "code",
      "source": [
        "EPOCHS = 100\n",
        "BATCH_SZIE = 32"
      ],
      "metadata": {
        "id": "ISOvsa3xzqBF"
      },
      "execution_count": null,
      "outputs": []
    },
    {
      "cell_type": "code",
      "source": [
        "sentiment_model.fit(train_x, train_y, \n",
        "                    epochs = EPOCHS, \n",
        "                    shuffle = True, \n",
        "                    batch_size = BATCH_SZIE, \n",
        "                    validation_data = (test_x, test_y),\n",
        "                    callbacks = callbacks\n",
        "                    )"
      ],
      "metadata": {
        "id": "Bbryv-R-ZXG-",
        "colab": {
          "base_uri": "https://localhost:8080/"
        },
        "outputId": "42c910b0-54d9-4dbd-d42b-c0c2759ef3e2"
      },
      "execution_count": null,
      "outputs": [
        {
          "output_type": "stream",
          "name": "stdout",
          "text": [
            "Epoch 1/100\n",
            "121/121 [==============================] - ETA: 0s - loss: 1.0910 - accuracy: 0.5128\n",
            "Epoch 1: val_loss improved from inf to 1.08513, saving model to best_model.h5\n",
            "121/121 [==============================] - 88s 389ms/step - loss: 1.0910 - accuracy: 0.5128 - val_loss: 1.0851 - val_accuracy: 0.5911\n",
            "Epoch 2/100\n",
            "121/121 [==============================] - ETA: 0s - loss: 1.0697 - accuracy: 0.5211\n",
            "Epoch 2: val_loss improved from 1.08513 to 1.04920, saving model to best_model.h5\n",
            "121/121 [==============================] - 43s 356ms/step - loss: 1.0697 - accuracy: 0.5211 - val_loss: 1.0492 - val_accuracy: 0.5921\n",
            "Epoch 3/100\n",
            "121/121 [==============================] - ETA: 0s - loss: 1.0333 - accuracy: 0.5403\n",
            "Epoch 3: val_loss improved from 1.04920 to 0.99976, saving model to best_model.h5\n",
            "121/121 [==============================] - 43s 356ms/step - loss: 1.0333 - accuracy: 0.5403 - val_loss: 0.9998 - val_accuracy: 0.7091\n",
            "Epoch 4/100\n",
            "121/121 [==============================] - ETA: 0s - loss: 0.9694 - accuracy: 0.6276\n",
            "Epoch 4: val_loss improved from 0.99976 to 0.92623, saving model to best_model.h5\n",
            "121/121 [==============================] - 43s 357ms/step - loss: 0.9694 - accuracy: 0.6276 - val_loss: 0.9262 - val_accuracy: 0.7660\n",
            "Epoch 5/100\n",
            "121/121 [==============================] - ETA: 0s - loss: 0.9147 - accuracy: 0.6879\n",
            "Epoch 5: val_loss improved from 0.92623 to 0.85021, saving model to best_model.h5\n",
            "121/121 [==============================] - 43s 356ms/step - loss: 0.9147 - accuracy: 0.6879 - val_loss: 0.8502 - val_accuracy: 0.8395\n",
            "Epoch 6/100\n",
            "121/121 [==============================] - ETA: 0s - loss: 0.8272 - accuracy: 0.7319\n",
            "Epoch 6: val_loss improved from 0.85021 to 0.77102, saving model to best_model.h5\n",
            "121/121 [==============================] - 43s 356ms/step - loss: 0.8272 - accuracy: 0.7319 - val_loss: 0.7710 - val_accuracy: 0.8209\n",
            "Epoch 7/100\n",
            "121/121 [==============================] - ETA: 0s - loss: 0.7657 - accuracy: 0.7273\n",
            "Epoch 7: val_loss improved from 0.77102 to 0.70345, saving model to best_model.h5\n",
            "121/121 [==============================] - 43s 356ms/step - loss: 0.7657 - accuracy: 0.7273 - val_loss: 0.7035 - val_accuracy: 0.8427\n",
            "Epoch 8/100\n",
            "121/121 [==============================] - ETA: 0s - loss: 0.7134 - accuracy: 0.7506\n",
            "Epoch 8: val_loss improved from 0.70345 to 0.65729, saving model to best_model.h5\n",
            "121/121 [==============================] - 43s 357ms/step - loss: 0.7134 - accuracy: 0.7506 - val_loss: 0.6573 - val_accuracy: 0.8240\n",
            "Epoch 9/100\n",
            "121/121 [==============================] - ETA: 0s - loss: 0.6369 - accuracy: 0.7552\n",
            "Epoch 9: val_loss improved from 0.65729 to 0.57515, saving model to best_model.h5\n",
            "121/121 [==============================] - 43s 355ms/step - loss: 0.6369 - accuracy: 0.7552 - val_loss: 0.5751 - val_accuracy: 0.8395\n",
            "Epoch 10/100\n",
            "121/121 [==============================] - ETA: 0s - loss: 0.5887 - accuracy: 0.7454\n",
            "Epoch 10: val_loss improved from 0.57515 to 0.53696, saving model to best_model.h5\n",
            "121/121 [==============================] - 44s 367ms/step - loss: 0.5887 - accuracy: 0.7454 - val_loss: 0.5370 - val_accuracy: 0.8478\n",
            "Epoch 11/100\n",
            "121/121 [==============================] - ETA: 0s - loss: 0.5570 - accuracy: 0.7811\n",
            "Epoch 11: val_loss did not improve from 0.53696\n",
            "121/121 [==============================] - 39s 319ms/step - loss: 0.5570 - accuracy: 0.7811 - val_loss: 0.5471 - val_accuracy: 0.8333\n",
            "Epoch 12/100\n",
            "121/121 [==============================] - ETA: 0s - loss: 0.5048 - accuracy: 0.8270\n",
            "Epoch 12: val_loss improved from 0.53696 to 0.49993, saving model to best_model.h5\n",
            "121/121 [==============================] - 43s 356ms/step - loss: 0.5048 - accuracy: 0.8270 - val_loss: 0.4999 - val_accuracy: 0.8385\n",
            "Epoch 13/100\n",
            "121/121 [==============================] - ETA: 0s - loss: 0.4764 - accuracy: 0.8314\n",
            "Epoch 13: val_loss did not improve from 0.49993\n",
            "121/121 [==============================] - 39s 318ms/step - loss: 0.4764 - accuracy: 0.8314 - val_loss: 0.5005 - val_accuracy: 0.8416\n",
            "Epoch 14/100\n",
            "121/121 [==============================] - ETA: 0s - loss: 0.4327 - accuracy: 0.8487\n",
            "Epoch 14: val_loss did not improve from 0.49993\n",
            "121/121 [==============================] - 38s 318ms/step - loss: 0.4327 - accuracy: 0.8487 - val_loss: 0.5209 - val_accuracy: 0.8427\n",
            "Epoch 15/100\n",
            "121/121 [==============================] - ETA: 0s - loss: 0.4089 - accuracy: 0.8485\n",
            "Epoch 15: val_loss did not improve from 0.49993\n",
            "121/121 [==============================] - 39s 325ms/step - loss: 0.4089 - accuracy: 0.8485 - val_loss: 0.5366 - val_accuracy: 0.8354\n"
          ]
        },
        {
          "output_type": "execute_result",
          "data": {
            "text/plain": [
              "<keras.callbacks.History at 0x7f2042c58c50>"
            ]
          },
          "metadata": {},
          "execution_count": 152
        }
      ]
    },
    {
      "cell_type": "markdown",
      "source": [
        "# 감정 분류의 예측값 계산"
      ],
      "metadata": {
        "id": "D7jwEADhEcov"
      }
    },
    {
      "cell_type": "code",
      "source": [
        "# 최고 성능의 모델 불러오기\n",
        "sentiment_model_best = tf.keras.models.load_model(BEST_MODEL_NAME,\n",
        "                                                  custom_objects={'TFBertForSequenceClassification': TFBertForSequenceClassification})"
      ],
      "metadata": {
        "id": "yvYDJdGZGyJM"
      },
      "execution_count": null,
      "outputs": []
    },
    {
      "cell_type": "code",
      "source": [
        "# 모델이 예측한 라벨 도출\n",
        "predicted_value = sentiment_model_best.predict(test_x)\n",
        "predicted_label = np.argmax(predicted_value, axis = 1)"
      ],
      "metadata": {
        "id": "9kRF4Gr4nZNv"
      },
      "execution_count": null,
      "outputs": []
    },
    {
      "cell_type": "markdown",
      "source": [
        "# 감정 분류 모델의 성능 평가"
      ],
      "metadata": {
        "id": "phuquyErDneq"
      }
    },
    {
      "cell_type": "markdown",
      "source": [
        "## Classification Report"
      ],
      "metadata": {
        "id": "cl0qJh1Onmoa"
      }
    },
    {
      "cell_type": "code",
      "source": [
        "cl_report = classification_report(test_y, predicted_label, output_dict = True)\n",
        "cl_report_df = pd.DataFrame(cl_report).transpose()\n",
        "cl_report_df = cl_report_df.round(3)\n",
        "cl_report_df.to_csv(\"cl_report.csv\")\n",
        "print(cl_report_df)"
      ],
      "metadata": {
        "colab": {
          "base_uri": "https://localhost:8080/"
        },
        "id": "_1KYEEr6ywVG",
        "outputId": "cd028fb7-95c2-4718-9e3a-1329c60cf9c4"
      },
      "execution_count": null,
      "outputs": [
        {
          "output_type": "stream",
          "name": "stdout",
          "text": [
            "              precision  recall  f1-score  support\n",
            "0                 0.878   0.890     0.884  572.000\n",
            "1                 0.763   0.780     0.772  273.000\n",
            "2                 0.822   0.727     0.772  121.000\n",
            "accuracy          0.839   0.839     0.839    0.839\n",
            "macro avg         0.821   0.799     0.809  966.000\n",
            "weighted avg      0.838   0.839     0.838  966.000\n"
          ]
        }
      ]
    },
    {
      "cell_type": "markdown",
      "source": [
        "## Confusion Matrix"
      ],
      "metadata": {
        "id": "ZDc50YeVJ4Bt"
      }
    },
    {
      "cell_type": "code",
      "source": [
        "# 이미지 파일 저장정보\n",
        "# FIGURE_PATH = \"./drive/MyDrive/Colab Notebooks/SCFN/figure/\"\n",
        "# FIGURE_NAME = \"cf_matrix_\" + MODEL_NAME + \"_\" + OPTIMIZER_NAME + \".png\""
      ],
      "metadata": {
        "id": "vd8mPvYAJ4gQ"
      },
      "execution_count": null,
      "outputs": []
    },
    {
      "cell_type": "code",
      "source": [
        "cf_matrix = confusion_matrix(test_y, predicted_label)\n",
        "fig, ax = plt.subplots(figsize = (8,6))\n",
        "sns.heatmap(cf_matrix, annot = True, fmt = 'd')\n",
        "plt.ylabel('Actual')\n",
        "plt.xlabel('Predicted')\n",
        "#plt.savefig(FIGURE_PATH + FIGURE_NAME)\n",
        "plt.show()"
      ],
      "metadata": {
        "id": "qFSBLIhAnfIT",
        "colab": {
          "base_uri": "https://localhost:8080/",
          "height": 388
        },
        "outputId": "3e12a2fb-b7ce-4074-e1f8-d724051d5ddd"
      },
      "execution_count": null,
      "outputs": [
        {
          "output_type": "display_data",
          "data": {
            "text/plain": [
              "<Figure size 576x432 with 2 Axes>"
            ],
            "image/png": "[encoded data removed]"
          },
          "metadata": {
            "needs_background": "light"
          }
        }
      ]
    },
    {
      "cell_type": "markdown",
      "source": [
        "## Accracy"
      ],
      "metadata": {
        "id": "vs_QPZulZ0SK"
      }
    },
    {
      "cell_type": "code",
      "source": [
        "accuracy_score_v = round(accuracy_score(y_test, predicted_label), 3)"
      ],
      "metadata": {
        "id": "-gDE6sSZZ0lg"
      },
      "execution_count": null,
      "outputs": []
    },
    {
      "cell_type": "markdown",
      "source": [
        "## Precision"
      ],
      "metadata": {
        "id": "L5jrTOVFZ019"
      }
    },
    {
      "cell_type": "code",
      "source": [
        "precision_score_v = round(precision_score(y_test, predicted_label, average=\"weighted\"), 3)"
      ],
      "metadata": {
        "id": "Lr0i4gd7Z1K6"
      },
      "execution_count": null,
      "outputs": []
    },
    {
      "cell_type": "markdown",
      "source": [
        "## Recall"
      ],
      "metadata": {
        "id": "IkcS6giKZ1hC"
      }
    },
    {
      "cell_type": "code",
      "source": [
        "recall_score_v = round(recall_score(y_test, predicted_label, average=\"weighted\"), 3)"
      ],
      "metadata": {
        "id": "iZoewy95Z1w1"
      },
      "execution_count": null,
      "outputs": []
    },
    {
      "cell_type": "markdown",
      "source": [
        "## F1 Score"
      ],
      "metadata": {
        "id": "Vfm_XDL8Z7b7"
      }
    },
    {
      "cell_type": "code",
      "source": [
        "f1_score_v = round(f1_score(y_test, predicted_label, average=\"weighted\"), 3)"
      ],
      "metadata": {
        "id": "MOBfgjgpZ1-j"
      },
      "execution_count": null,
      "outputs": []
    },
    {
      "cell_type": "markdown",
      "source": [
        "## ROC AUC Score"
      ],
      "metadata": {
        "id": "wk2FtPZs6sTq"
      }
    },
    {
      "cell_type": "code",
      "source": [
        "roc_auc_score_v = round(roc_auc_score(y_test, predicted_value, average=\"weighted\", multi_class=\"ovr\"), 3)"
      ],
      "metadata": {
        "id": "3-0rFdsQY39E"
      },
      "execution_count": null,
      "outputs": []
    },
    {
      "cell_type": "markdown",
      "source": [
        "## Cohen’s Kappa score"
      ],
      "metadata": {
        "id": "Zyc8GzsmZDMz"
      }
    },
    {
      "cell_type": "code",
      "source": [
        "cohen_kappa_score_v = round(cohen_kappa_score(y_test, predicted_label), 3)"
      ],
      "metadata": {
        "id": "6d16_PkxZDk5"
      },
      "execution_count": null,
      "outputs": []
    },
    {
      "cell_type": "markdown",
      "source": [
        "## Matthew’s correlation coefficient"
      ],
      "metadata": {
        "id": "ptGWIxkGZNv9"
      }
    },
    {
      "cell_type": "code",
      "source": [
        "matthews_corrcoef_v = round(matthews_corrcoef(y_test, predicted_label), 3)"
      ],
      "metadata": {
        "id": "WSArylTCZD8D"
      },
      "execution_count": null,
      "outputs": []
    },
    {
      "cell_type": "markdown",
      "source": [
        "## Log loss"
      ],
      "metadata": {
        "id": "haefR9-YZawV"
      }
    },
    {
      "cell_type": "code",
      "source": [
        "log_loss_v = round(log_loss(y_test, predicted_value), 3)"
      ],
      "metadata": {
        "id": "5sj5KMMcZbsd"
      },
      "execution_count": null,
      "outputs": []
    },
    {
      "cell_type": "markdown",
      "source": [
        "## 전체 평가지표"
      ],
      "metadata": {
        "id": "zqy9AnwtZcJS"
      }
    },
    {
      "cell_type": "code",
      "source": [
        "#METRIC_PATH = \"./drive/MyDrive/Colab Notebooks/SCFN/metric/\"\n",
        "#METRIC_NAME = \"metric_\" + MODEL_NAME + \"_\" + OPTIMIZER_NAME + \".csv\""
      ],
      "metadata": {
        "id": "szeM6mg0c9Ni"
      },
      "execution_count": null,
      "outputs": []
    },
    {
      "cell_type": "code",
      "source": [
        "metric_total = pd.DataFrame({\n",
        "    'PLM': MODEL_NAME,\n",
        "    'Optimizer': OPTIMIZER_NAME,\n",
        "    'Accuracy': accuracy_score_v,\n",
        "    'Precision': precision_score_v,\n",
        "    'Recall': recall_score_v,\n",
        "    'F1_score': f1_score_v,\n",
        "    'ROC_AUC_score': roc_auc_score_v,\n",
        "    'Cohen_kappa_coef': cohen_kappa_score_v,\n",
        "    'Matthews_corrcoef': matthews_corrcoef_v,\n",
        "    'Log_loss': log_loss_v},\n",
        "    index = ['score'])"
      ],
      "metadata": {
        "id": "KsOSjafkZrE2"
      },
      "execution_count": null,
      "outputs": []
    },
    {
      "cell_type": "code",
      "source": [
        "#metric_total.to_csv(METRIC_PATH + METRIC_NAME)"
      ],
      "metadata": {
        "id": "CxulEykgc-Xi"
      },
      "execution_count": null,
      "outputs": []
    },
    {
      "cell_type": "code",
      "source": [
        "print(metric_total)"
      ],
      "metadata": {
        "id": "jqneTNaQrt0R",
        "colab": {
          "base_uri": "https://localhost:8080/"
        },
        "outputId": "6f9fe9d1-9d6e-4394-bc9a-f2cf522cf757"
      },
      "execution_count": null,
      "outputs": [
        {
          "output_type": "stream",
          "name": "stdout",
          "text": [
            "                  PLM Optimizer  Accuracy  Precision  Recall  F1_score  \\\n",
            "score  klue/bert-base     RAdam     0.839      0.838   0.839     0.838   \n",
            "\n",
            "       ROC_AUC_score  Cohen_kappa_coef  Matthews_corrcoef  Log_loss  \n",
            "score          0.924             0.706              0.706       0.5  \n"
          ]
        }
      ]
    },
    {
      "cell_type": "code",
      "source": [
        ""
      ],
      "metadata": {
        "id": "FXgEqMuvqOCd"
      },
      "execution_count": null,
      "outputs": []
    }
  ]
}