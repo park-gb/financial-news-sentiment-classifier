{
  "nbformat": 4,
  "nbformat_minor": 0,
  "metadata": {
    "colab": {
      "name": "Sentiment_Classifier_Fi-News.ipynb",
      "provenance": [],
      "collapsed_sections": [],
      "toc_visible": true,
      "machine_shape": "hm"
    },
    "kernelspec": {
      "name": "python3",
      "display_name": "Python 3"
    },
    "language_info": {
      "name": "python"
    },
    "accelerator": "GPU",
    "widgets": {
      "application/vnd.jupyter.widget-state+json": {
        "f4fdf0b059e0476caabd7ddd10435d3d": {
          "model_module": "@jupyter-widgets/controls",
          "model_name": "HBoxModel",
          "model_module_version": "1.5.0",
          "state": {
            "_dom_classes": [],
            "_model_module": "@jupyter-widgets/controls",
            "_model_module_version": "1.5.0",
            "_model_name": "HBoxModel",
            "_view_count": null,
            "_view_module": "@jupyter-widgets/controls",
            "_view_module_version": "1.5.0",
            "_view_name": "HBoxView",
            "box_style": "",
            "children": [
              "IPY_MODEL_a61e2944356f43ffa5f52295b869976e",
              "IPY_MODEL_ddc29a1115c54236894828879e59224e",
              "IPY_MODEL_6d891c99b5b14b3887a9587c6ac481ea"
            ],
            "layout": "IPY_MODEL_b06f217b144a457d8cd10b7795836c88"
          }
        },
        "a61e2944356f43ffa5f52295b869976e": {
          "model_module": "@jupyter-widgets/controls",
          "model_name": "HTMLModel",
          "model_module_version": "1.5.0",
          "state": {
            "_dom_classes": [],
            "_model_module": "@jupyter-widgets/controls",
            "_model_module_version": "1.5.0",
            "_model_name": "HTMLModel",
            "_view_count": null,
            "_view_module": "@jupyter-widgets/controls",
            "_view_module_version": "1.5.0",
            "_view_name": "HTMLView",
            "description": "",
            "description_tooltip": null,
            "layout": "IPY_MODEL_3f8975ef34cf40098748962084e8a5d3",
            "placeholder": "​",
            "style": "IPY_MODEL_2c06840fab4642b7836a7358fdb85d4a",
            "value": "Downloading: 100%"
          }
        },
        "ddc29a1115c54236894828879e59224e": {
          "model_module": "@jupyter-widgets/controls",
          "model_name": "FloatProgressModel",
          "model_module_version": "1.5.0",
          "state": {
            "_dom_classes": [],
            "_model_module": "@jupyter-widgets/controls",
            "_model_module_version": "1.5.0",
            "_model_name": "FloatProgressModel",
            "_view_count": null,
            "_view_module": "@jupyter-widgets/controls",
            "_view_module_version": "1.5.0",
            "_view_name": "ProgressView",
            "bar_style": "success",
            "description": "",
            "description_tooltip": null,
            "layout": "IPY_MODEL_6df2bf08e9934186a63377b2aa626aa3",
            "max": 425,
            "min": 0,
            "orientation": "horizontal",
            "style": "IPY_MODEL_0aeac31933364bd1bab4d7633df26fc0",
            "value": 425
          }
        },
        "6d891c99b5b14b3887a9587c6ac481ea": {
          "model_module": "@jupyter-widgets/controls",
          "model_name": "HTMLModel",
          "model_module_version": "1.5.0",
          "state": {
            "_dom_classes": [],
            "_model_module": "@jupyter-widgets/controls",
            "_model_module_version": "1.5.0",
            "_model_name": "HTMLModel",
            "_view_count": null,
            "_view_module": "@jupyter-widgets/controls",
            "_view_module_version": "1.5.0",
            "_view_name": "HTMLView",
            "description": "",
            "description_tooltip": null,
            "layout": "IPY_MODEL_aa1f0eb573b24242ac402eec0e1de7c0",
            "placeholder": "​",
            "style": "IPY_MODEL_518632633ebe482dbf4610811e6b1d2b",
            "value": " 425/425 [00:00&lt;00:00, 17.7kB/s]"
          }
        },
        "b06f217b144a457d8cd10b7795836c88": {
          "model_module": "@jupyter-widgets/base",
          "model_name": "LayoutModel",
          "model_module_version": "1.2.0",
          "state": {
            "_model_module": "@jupyter-widgets/base",
            "_model_module_version": "1.2.0",
            "_model_name": "LayoutModel",
            "_view_count": null,
            "_view_module": "@jupyter-widgets/base",
            "_view_module_version": "1.2.0",
            "_view_name": "LayoutView",
            "align_content": null,
            "align_items": null,
            "align_self": null,
            "border": null,
            "bottom": null,
            "display": null,
            "flex": null,
            "flex_flow": null,
            "grid_area": null,
            "grid_auto_columns": null,
            "grid_auto_flow": null,
            "grid_auto_rows": null,
            "grid_column": null,
            "grid_gap": null,
            "grid_row": null,
            "grid_template_areas": null,
            "grid_template_columns": null,
            "grid_template_rows": null,
            "height": null,
            "justify_content": null,
            "justify_items": null,
            "left": null,
            "margin": null,
            "max_height": null,
            "max_width": null,
            "min_height": null,
            "min_width": null,
            "object_fit": null,
            "object_position": null,
            "order": null,
            "overflow": null,
            "overflow_x": null,
            "overflow_y": null,
            "padding": null,
            "right": null,
            "top": null,
            "visibility": null,
            "width": null
          }
        },
        "3f8975ef34cf40098748962084e8a5d3": {
          "model_module": "@jupyter-widgets/base",
          "model_name": "LayoutModel",
          "model_module_version": "1.2.0",
          "state": {
            "_model_module": "@jupyter-widgets/base",
            "_model_module_version": "1.2.0",
            "_model_name": "LayoutModel",
            "_view_count": null,
            "_view_module": "@jupyter-widgets/base",
            "_view_module_version": "1.2.0",
            "_view_name": "LayoutView",
            "align_content": null,
            "align_items": null,
            "align_self": null,
            "border": null,
            "bottom": null,
            "display": null,
            "flex": null,
            "flex_flow": null,
            "grid_area": null,
            "grid_auto_columns": null,
            "grid_auto_flow": null,
            "grid_auto_rows": null,
            "grid_column": null,
            "grid_gap": null,
            "grid_row": null,
            "grid_template_areas": null,
            "grid_template_columns": null,
            "grid_template_rows": null,
            "height": null,
            "justify_content": null,
            "justify_items": null,
            "left": null,
            "margin": null,
            "max_height": null,
            "max_width": null,
            "min_height": null,
            "min_width": null,
            "object_fit": null,
            "object_position": null,
            "order": null,
            "overflow": null,
            "overflow_x": null,
            "overflow_y": null,
            "padding": null,
            "right": null,
            "top": null,
            "visibility": null,
            "width": null
          }
        },
        "2c06840fab4642b7836a7358fdb85d4a": {
          "model_module": "@jupyter-widgets/controls",
          "model_name": "DescriptionStyleModel",
          "model_module_version": "1.5.0",
          "state": {
            "_model_module": "@jupyter-widgets/controls",
            "_model_module_version": "1.5.0",
            "_model_name": "DescriptionStyleModel",
            "_view_count": null,
            "_view_module": "@jupyter-widgets/base",
            "_view_module_version": "1.2.0",
            "_view_name": "StyleView",
            "description_width": ""
          }
        },
        "6df2bf08e9934186a63377b2aa626aa3": {
          "model_module": "@jupyter-widgets/base",
          "model_name": "LayoutModel",
          "model_module_version": "1.2.0",
          "state": {
            "_model_module": "@jupyter-widgets/base",
            "_model_module_version": "1.2.0",
            "_model_name": "LayoutModel",
            "_view_count": null,
            "_view_module": "@jupyter-widgets/base",
            "_view_module_version": "1.2.0",
            "_view_name": "LayoutView",
            "align_content": null,
            "align_items": null,
            "align_self": null,
            "border": null,
            "bottom": null,
            "display": null,
            "flex": null,
            "flex_flow": null,
            "grid_area": null,
            "grid_auto_columns": null,
            "grid_auto_flow": null,
            "grid_auto_rows": null,
            "grid_column": null,
            "grid_gap": null,
            "grid_row": null,
            "grid_template_areas": null,
            "grid_template_columns": null,
            "grid_template_rows": null,
            "height": null,
            "justify_content": null,
            "justify_items": null,
            "left": null,
            "margin": null,
            "max_height": null,
            "max_width": null,
            "min_height": null,
            "min_width": null,
            "object_fit": null,
            "object_position": null,
            "order": null,
            "overflow": null,
            "overflow_x": null,
            "overflow_y": null,
            "padding": null,
            "right": null,
            "top": null,
            "visibility": null,
            "width": null
          }
        },
        "0aeac31933364bd1bab4d7633df26fc0": {
          "model_module": "@jupyter-widgets/controls",
          "model_name": "ProgressStyleModel",
          "model_module_version": "1.5.0",
          "state": {
            "_model_module": "@jupyter-widgets/controls",
            "_model_module_version": "1.5.0",
            "_model_name": "ProgressStyleModel",
            "_view_count": null,
            "_view_module": "@jupyter-widgets/base",
            "_view_module_version": "1.2.0",
            "_view_name": "StyleView",
            "bar_color": null,
            "description_width": ""
          }
        },
        "aa1f0eb573b24242ac402eec0e1de7c0": {
          "model_module": "@jupyter-widgets/base",
          "model_name": "LayoutModel",
          "model_module_version": "1.2.0",
          "state": {
            "_model_module": "@jupyter-widgets/base",
            "_model_module_version": "1.2.0",
            "_model_name": "LayoutModel",
            "_view_count": null,
            "_view_module": "@jupyter-widgets/base",
            "_view_module_version": "1.2.0",
            "_view_name": "LayoutView",
            "align_content": null,
            "align_items": null,
            "align_self": null,
            "border": null,
            "bottom": null,
            "display": null,
            "flex": null,
            "flex_flow": null,
            "grid_area": null,
            "grid_auto_columns": null,
            "grid_auto_flow": null,
            "grid_auto_rows": null,
            "grid_column": null,
            "grid_gap": null,
            "grid_row": null,
            "grid_template_areas": null,
            "grid_template_columns": null,
            "grid_template_rows": null,
            "height": null,
            "justify_content": null,
            "justify_items": null,
            "left": null,
            "margin": null,
            "max_height": null,
            "max_width": null,
            "min_height": null,
            "min_width": null,
            "object_fit": null,
            "object_position": null,
            "order": null,
            "overflow": null,
            "overflow_x": null,
            "overflow_y": null,
            "padding": null,
            "right": null,
            "top": null,
            "visibility": null,
            "width": null
          }
        },
        "518632633ebe482dbf4610811e6b1d2b": {
          "model_module": "@jupyter-widgets/controls",
          "model_name": "DescriptionStyleModel",
          "model_module_version": "1.5.0",
          "state": {
            "_model_module": "@jupyter-widgets/controls",
            "_model_module_version": "1.5.0",
            "_model_name": "DescriptionStyleModel",
            "_view_count": null,
            "_view_module": "@jupyter-widgets/base",
            "_view_module_version": "1.2.0",
            "_view_name": "StyleView",
            "description_width": ""
          }
        },
        "d6a6574e009e4a19947a61728ab9cbde": {
          "model_module": "@jupyter-widgets/controls",
          "model_name": "HBoxModel",
          "model_module_version": "1.5.0",
          "state": {
            "_dom_classes": [],
            "_model_module": "@jupyter-widgets/controls",
            "_model_module_version": "1.5.0",
            "_model_name": "HBoxModel",
            "_view_count": null,
            "_view_module": "@jupyter-widgets/controls",
            "_view_module_version": "1.5.0",
            "_view_name": "HBoxView",
            "box_style": "",
            "children": [
              "IPY_MODEL_39a3a056dfa944789d2705e2b7780f33",
              "IPY_MODEL_59fd696433c745228ae0ecae6d5906ff",
              "IPY_MODEL_c1154feff9b54f22b6673ab278d6f895"
            ],
            "layout": "IPY_MODEL_98e2f763e4ae4c769df2c2ac52eaa4b7"
          }
        },
        "39a3a056dfa944789d2705e2b7780f33": {
          "model_module": "@jupyter-widgets/controls",
          "model_name": "HTMLModel",
          "model_module_version": "1.5.0",
          "state": {
            "_dom_classes": [],
            "_model_module": "@jupyter-widgets/controls",
            "_model_module_version": "1.5.0",
            "_model_name": "HTMLModel",
            "_view_count": null,
            "_view_module": "@jupyter-widgets/controls",
            "_view_module_version": "1.5.0",
            "_view_name": "HTMLView",
            "description": "",
            "description_tooltip": null,
            "layout": "IPY_MODEL_11e456978b7b4cbf8fa31bc4e492b7c3",
            "placeholder": "​",
            "style": "IPY_MODEL_390f16e9a15b40909448a31308ff8fe1",
            "value": "Downloading: 100%"
          }
        },
        "59fd696433c745228ae0ecae6d5906ff": {
          "model_module": "@jupyter-widgets/controls",
          "model_name": "FloatProgressModel",
          "model_module_version": "1.5.0",
          "state": {
            "_dom_classes": [],
            "_model_module": "@jupyter-widgets/controls",
            "_model_module_version": "1.5.0",
            "_model_name": "FloatProgressModel",
            "_view_count": null,
            "_view_module": "@jupyter-widgets/controls",
            "_view_module_version": "1.5.0",
            "_view_name": "ProgressView",
            "bar_style": "success",
            "description": "",
            "description_tooltip": null,
            "layout": "IPY_MODEL_682167e85f73466182364d81423f9906",
            "max": 445025130,
            "min": 0,
            "orientation": "horizontal",
            "style": "IPY_MODEL_c643d0f99e944db8a15c6e1303390eb6",
            "value": 445025130
          }
        },
        "c1154feff9b54f22b6673ab278d6f895": {
          "model_module": "@jupyter-widgets/controls",
          "model_name": "HTMLModel",
          "model_module_version": "1.5.0",
          "state": {
            "_dom_classes": [],
            "_model_module": "@jupyter-widgets/controls",
            "_model_module_version": "1.5.0",
            "_model_name": "HTMLModel",
            "_view_count": null,
            "_view_module": "@jupyter-widgets/controls",
            "_view_module_version": "1.5.0",
            "_view_name": "HTMLView",
            "description": "",
            "description_tooltip": null,
            "layout": "IPY_MODEL_51bf5a7cdff247ecbeea511ee3d4147b",
            "placeholder": "​",
            "style": "IPY_MODEL_bf574412533143ef9cdde703a382e5cc",
            "value": " 424M/424M [00:06&lt;00:00, 68.7MB/s]"
          }
        },
        "98e2f763e4ae4c769df2c2ac52eaa4b7": {
          "model_module": "@jupyter-widgets/base",
          "model_name": "LayoutModel",
          "model_module_version": "1.2.0",
          "state": {
            "_model_module": "@jupyter-widgets/base",
            "_model_module_version": "1.2.0",
            "_model_name": "LayoutModel",
            "_view_count": null,
            "_view_module": "@jupyter-widgets/base",
            "_view_module_version": "1.2.0",
            "_view_name": "LayoutView",
            "align_content": null,
            "align_items": null,
            "align_self": null,
            "border": null,
            "bottom": null,
            "display": null,
            "flex": null,
            "flex_flow": null,
            "grid_area": null,
            "grid_auto_columns": null,
            "grid_auto_flow": null,
            "grid_auto_rows": null,
            "grid_column": null,
            "grid_gap": null,
            "grid_row": null,
            "grid_template_areas": null,
            "grid_template_columns": null,
            "grid_template_rows": null,
            "height": null,
            "justify_content": null,
            "justify_items": null,
            "left": null,
            "margin": null,
            "max_height": null,
            "max_width": null,
            "min_height": null,
            "min_width": null,
            "object_fit": null,
            "object_position": null,
            "order": null,
            "overflow": null,
            "overflow_x": null,
            "overflow_y": null,
            "padding": null,
            "right": null,
            "top": null,
            "visibility": null,
            "width": null
          }
        },
        "11e456978b7b4cbf8fa31bc4e492b7c3": {
          "model_module": "@jupyter-widgets/base",
          "model_name": "LayoutModel",
          "model_module_version": "1.2.0",
          "state": {
            "_model_module": "@jupyter-widgets/base",
            "_model_module_version": "1.2.0",
            "_model_name": "LayoutModel",
            "_view_count": null,
            "_view_module": "@jupyter-widgets/base",
            "_view_module_version": "1.2.0",
            "_view_name": "LayoutView",
            "align_content": null,
            "align_items": null,
            "align_self": null,
            "border": null,
            "bottom": null,
            "display": null,
            "flex": null,
            "flex_flow": null,
            "grid_area": null,
            "grid_auto_columns": null,
            "grid_auto_flow": null,
            "grid_auto_rows": null,
            "grid_column": null,
            "grid_gap": null,
            "grid_row": null,
            "grid_template_areas": null,
            "grid_template_columns": null,
            "grid_template_rows": null,
            "height": null,
            "justify_content": null,
            "justify_items": null,
            "left": null,
            "margin": null,
            "max_height": null,
            "max_width": null,
            "min_height": null,
            "min_width": null,
            "object_fit": null,
            "object_position": null,
            "order": null,
            "overflow": null,
            "overflow_x": null,
            "overflow_y": null,
            "padding": null,
            "right": null,
            "top": null,
            "visibility": null,
            "width": null
          }
        },
        "390f16e9a15b40909448a31308ff8fe1": {
          "model_module": "@jupyter-widgets/controls",
          "model_name": "DescriptionStyleModel",
          "model_module_version": "1.5.0",
          "state": {
            "_model_module": "@jupyter-widgets/controls",
            "_model_module_version": "1.5.0",
            "_model_name": "DescriptionStyleModel",
            "_view_count": null,
            "_view_module": "@jupyter-widgets/base",
            "_view_module_version": "1.2.0",
            "_view_name": "StyleView",
            "description_width": ""
          }
        },
        "682167e85f73466182364d81423f9906": {
          "model_module": "@jupyter-widgets/base",
          "model_name": "LayoutModel",
          "model_module_version": "1.2.0",
          "state": {
            "_model_module": "@jupyter-widgets/base",
            "_model_module_version": "1.2.0",
            "_model_name": "LayoutModel",
            "_view_count": null,
            "_view_module": "@jupyter-widgets/base",
            "_view_module_version": "1.2.0",
            "_view_name": "LayoutView",
            "align_content": null,
            "align_items": null,
            "align_self": null,
            "border": null,
            "bottom": null,
            "display": null,
            "flex": null,
            "flex_flow": null,
            "grid_area": null,
            "grid_auto_columns": null,
            "grid_auto_flow": null,
            "grid_auto_rows": null,
            "grid_column": null,
            "grid_gap": null,
            "grid_row": null,
            "grid_template_areas": null,
            "grid_template_columns": null,
            "grid_template_rows": null,
            "height": null,
            "justify_content": null,
            "justify_items": null,
            "left": null,
            "margin": null,
            "max_height": null,
            "max_width": null,
            "min_height": null,
            "min_width": null,
            "object_fit": null,
            "object_position": null,
            "order": null,
            "overflow": null,
            "overflow_x": null,
            "overflow_y": null,
            "padding": null,
            "right": null,
            "top": null,
            "visibility": null,
            "width": null
          }
        },
        "c643d0f99e944db8a15c6e1303390eb6": {
          "model_module": "@jupyter-widgets/controls",
          "model_name": "ProgressStyleModel",
          "model_module_version": "1.5.0",
          "state": {
            "_model_module": "@jupyter-widgets/controls",
            "_model_module_version": "1.5.0",
            "_model_name": "ProgressStyleModel",
            "_view_count": null,
            "_view_module": "@jupyter-widgets/base",
            "_view_module_version": "1.2.0",
            "_view_name": "StyleView",
            "bar_color": null,
            "description_width": ""
          }
        },
        "51bf5a7cdff247ecbeea511ee3d4147b": {
          "model_module": "@jupyter-widgets/base",
          "model_name": "LayoutModel",
          "model_module_version": "1.2.0",
          "state": {
            "_model_module": "@jupyter-widgets/base",
            "_model_module_version": "1.2.0",
            "_model_name": "LayoutModel",
            "_view_count": null,
            "_view_module": "@jupyter-widgets/base",
            "_view_module_version": "1.2.0",
            "_view_name": "LayoutView",
            "align_content": null,
            "align_items": null,
            "align_self": null,
            "border": null,
            "bottom": null,
            "display": null,
            "flex": null,
            "flex_flow": null,
            "grid_area": null,
            "grid_auto_columns": null,
            "grid_auto_flow": null,
            "grid_auto_rows": null,
            "grid_column": null,
            "grid_gap": null,
            "grid_row": null,
            "grid_template_areas": null,
            "grid_template_columns": null,
            "grid_template_rows": null,
            "height": null,
            "justify_content": null,
            "justify_items": null,
            "left": null,
            "margin": null,
            "max_height": null,
            "max_width": null,
            "min_height": null,
            "min_width": null,
            "object_fit": null,
            "object_position": null,
            "order": null,
            "overflow": null,
            "overflow_x": null,
            "overflow_y": null,
            "padding": null,
            "right": null,
            "top": null,
            "visibility": null,
            "width": null
          }
        },
        "bf574412533143ef9cdde703a382e5cc": {
          "model_module": "@jupyter-widgets/controls",
          "model_name": "DescriptionStyleModel",
          "model_module_version": "1.5.0",
          "state": {
            "_model_module": "@jupyter-widgets/controls",
            "_model_module_version": "1.5.0",
            "_model_name": "DescriptionStyleModel",
            "_view_count": null,
            "_view_module": "@jupyter-widgets/base",
            "_view_module_version": "1.2.0",
            "_view_name": "StyleView",
            "description_width": ""
          }
        },
        "884004f4852041c2b854636973f1efd5": {
          "model_module": "@jupyter-widgets/controls",
          "model_name": "HBoxModel",
          "model_module_version": "1.5.0",
          "state": {
            "_dom_classes": [],
            "_model_module": "@jupyter-widgets/controls",
            "_model_module_version": "1.5.0",
            "_model_name": "HBoxModel",
            "_view_count": null,
            "_view_module": "@jupyter-widgets/controls",
            "_view_module_version": "1.5.0",
            "_view_name": "HBoxView",
            "box_style": "",
            "children": [
              "IPY_MODEL_85f89246824841cf976258cd6d847b0f",
              "IPY_MODEL_78b4d3b79393499b9dd575f9a719be9b",
              "IPY_MODEL_40ee30bb9ecc4043b38070c5a04ce5aa"
            ],
            "layout": "IPY_MODEL_5c67fdd772464f6d8335916c99057d59"
          }
        },
        "85f89246824841cf976258cd6d847b0f": {
          "model_module": "@jupyter-widgets/controls",
          "model_name": "HTMLModel",
          "model_module_version": "1.5.0",
          "state": {
            "_dom_classes": [],
            "_model_module": "@jupyter-widgets/controls",
            "_model_module_version": "1.5.0",
            "_model_name": "HTMLModel",
            "_view_count": null,
            "_view_module": "@jupyter-widgets/controls",
            "_view_module_version": "1.5.0",
            "_view_name": "HTMLView",
            "description": "",
            "description_tooltip": null,
            "layout": "IPY_MODEL_a3744599cb604a16b2b84e29b4991423",
            "placeholder": "​",
            "style": "IPY_MODEL_da60b449faba46f98537a5a8ea1cefab",
            "value": "Downloading: 100%"
          }
        },
        "78b4d3b79393499b9dd575f9a719be9b": {
          "model_module": "@jupyter-widgets/controls",
          "model_name": "FloatProgressModel",
          "model_module_version": "1.5.0",
          "state": {
            "_dom_classes": [],
            "_model_module": "@jupyter-widgets/controls",
            "_model_module_version": "1.5.0",
            "_model_name": "FloatProgressModel",
            "_view_count": null,
            "_view_module": "@jupyter-widgets/controls",
            "_view_module_version": "1.5.0",
            "_view_name": "ProgressView",
            "bar_style": "success",
            "description": "",
            "description_tooltip": null,
            "layout": "IPY_MODEL_f2b49242b44149b0af829338a347e5c2",
            "max": 248477,
            "min": 0,
            "orientation": "horizontal",
            "style": "IPY_MODEL_b2a12559f8fc4dd98351d2791a36a86c",
            "value": 248477
          }
        },
        "40ee30bb9ecc4043b38070c5a04ce5aa": {
          "model_module": "@jupyter-widgets/controls",
          "model_name": "HTMLModel",
          "model_module_version": "1.5.0",
          "state": {
            "_dom_classes": [],
            "_model_module": "@jupyter-widgets/controls",
            "_model_module_version": "1.5.0",
            "_model_name": "HTMLModel",
            "_view_count": null,
            "_view_module": "@jupyter-widgets/controls",
            "_view_module_version": "1.5.0",
            "_view_name": "HTMLView",
            "description": "",
            "description_tooltip": null,
            "layout": "IPY_MODEL_d80d9ffdf44742b282e91abd7b33cace",
            "placeholder": "​",
            "style": "IPY_MODEL_ebc9284dac9147d184373a6f0384ca67",
            "value": " 243k/243k [00:00&lt;00:00, 629kB/s]"
          }
        },
        "5c67fdd772464f6d8335916c99057d59": {
          "model_module": "@jupyter-widgets/base",
          "model_name": "LayoutModel",
          "model_module_version": "1.2.0",
          "state": {
            "_model_module": "@jupyter-widgets/base",
            "_model_module_version": "1.2.0",
            "_model_name": "LayoutModel",
            "_view_count": null,
            "_view_module": "@jupyter-widgets/base",
            "_view_module_version": "1.2.0",
            "_view_name": "LayoutView",
            "align_content": null,
            "align_items": null,
            "align_self": null,
            "border": null,
            "bottom": null,
            "display": null,
            "flex": null,
            "flex_flow": null,
            "grid_area": null,
            "grid_auto_columns": null,
            "grid_auto_flow": null,
            "grid_auto_rows": null,
            "grid_column": null,
            "grid_gap": null,
            "grid_row": null,
            "grid_template_areas": null,
            "grid_template_columns": null,
            "grid_template_rows": null,
            "height": null,
            "justify_content": null,
            "justify_items": null,
            "left": null,
            "margin": null,
            "max_height": null,
            "max_width": null,
            "min_height": null,
            "min_width": null,
            "object_fit": null,
            "object_position": null,
            "order": null,
            "overflow": null,
            "overflow_x": null,
            "overflow_y": null,
            "padding": null,
            "right": null,
            "top": null,
            "visibility": null,
            "width": null
          }
        },
        "a3744599cb604a16b2b84e29b4991423": {
          "model_module": "@jupyter-widgets/base",
          "model_name": "LayoutModel",
          "model_module_version": "1.2.0",
          "state": {
            "_model_module": "@jupyter-widgets/base",
            "_model_module_version": "1.2.0",
            "_model_name": "LayoutModel",
            "_view_count": null,
            "_view_module": "@jupyter-widgets/base",
            "_view_module_version": "1.2.0",
            "_view_name": "LayoutView",
            "align_content": null,
            "align_items": null,
            "align_self": null,
            "border": null,
            "bottom": null,
            "display": null,
            "flex": null,
            "flex_flow": null,
            "grid_area": null,
            "grid_auto_columns": null,
            "grid_auto_flow": null,
            "grid_auto_rows": null,
            "grid_column": null,
            "grid_gap": null,
            "grid_row": null,
            "grid_template_areas": null,
            "grid_template_columns": null,
            "grid_template_rows": null,
            "height": null,
            "justify_content": null,
            "justify_items": null,
            "left": null,
            "margin": null,
            "max_height": null,
            "max_width": null,
            "min_height": null,
            "min_width": null,
            "object_fit": null,
            "object_position": null,
            "order": null,
            "overflow": null,
            "overflow_x": null,
            "overflow_y": null,
            "padding": null,
            "right": null,
            "top": null,
            "visibility": null,
            "width": null
          }
        },
        "da60b449faba46f98537a5a8ea1cefab": {
          "model_module": "@jupyter-widgets/controls",
          "model_name": "DescriptionStyleModel",
          "model_module_version": "1.5.0",
          "state": {
            "_model_module": "@jupyter-widgets/controls",
            "_model_module_version": "1.5.0",
            "_model_name": "DescriptionStyleModel",
            "_view_count": null,
            "_view_module": "@jupyter-widgets/base",
            "_view_module_version": "1.2.0",
            "_view_name": "StyleView",
            "description_width": ""
          }
        },
        "f2b49242b44149b0af829338a347e5c2": {
          "model_module": "@jupyter-widgets/base",
          "model_name": "LayoutModel",
          "model_module_version": "1.2.0",
          "state": {
            "_model_module": "@jupyter-widgets/base",
            "_model_module_version": "1.2.0",
            "_model_name": "LayoutModel",
            "_view_count": null,
            "_view_module": "@jupyter-widgets/base",
            "_view_module_version": "1.2.0",
            "_view_name": "LayoutView",
            "align_content": null,
            "align_items": null,
            "align_self": null,
            "border": null,
            "bottom": null,
            "display": null,
            "flex": null,
            "flex_flow": null,
            "grid_area": null,
            "grid_auto_columns": null,
            "grid_auto_flow": null,
            "grid_auto_rows": null,
            "grid_column": null,
            "grid_gap": null,
            "grid_row": null,
            "grid_template_areas": null,
            "grid_template_columns": null,
            "grid_template_rows": null,
            "height": null,
            "justify_content": null,
            "justify_items": null,
            "left": null,
            "margin": null,
            "max_height": null,
            "max_width": null,
            "min_height": null,
            "min_width": null,
            "object_fit": null,
            "object_position": null,
            "order": null,
            "overflow": null,
            "overflow_x": null,
            "overflow_y": null,
            "padding": null,
            "right": null,
            "top": null,
            "visibility": null,
            "width": null
          }
        },
        "b2a12559f8fc4dd98351d2791a36a86c": {
          "model_module": "@jupyter-widgets/controls",
          "model_name": "ProgressStyleModel",
          "model_module_version": "1.5.0",
          "state": {
            "_model_module": "@jupyter-widgets/controls",
            "_model_module_version": "1.5.0",
            "_model_name": "ProgressStyleModel",
            "_view_count": null,
            "_view_module": "@jupyter-widgets/base",
            "_view_module_version": "1.2.0",
            "_view_name": "StyleView",
            "bar_color": null,
            "description_width": ""
          }
        },
        "d80d9ffdf44742b282e91abd7b33cace": {
          "model_module": "@jupyter-widgets/base",
          "model_name": "LayoutModel",
          "model_module_version": "1.2.0",
          "state": {
            "_model_module": "@jupyter-widgets/base",
            "_model_module_version": "1.2.0",
            "_model_name": "LayoutModel",
            "_view_count": null,
            "_view_module": "@jupyter-widgets/base",
            "_view_module_version": "1.2.0",
            "_view_name": "LayoutView",
            "align_content": null,
            "align_items": null,
            "align_self": null,
            "border": null,
            "bottom": null,
            "display": null,
            "flex": null,
            "flex_flow": null,
            "grid_area": null,
            "grid_auto_columns": null,
            "grid_auto_flow": null,
            "grid_auto_rows": null,
            "grid_column": null,
            "grid_gap": null,
            "grid_row": null,
            "grid_template_areas": null,
            "grid_template_columns": null,
            "grid_template_rows": null,
            "height": null,
            "justify_content": null,
            "justify_items": null,
            "left": null,
            "margin": null,
            "max_height": null,
            "max_width": null,
            "min_height": null,
            "min_width": null,
            "object_fit": null,
            "object_position": null,
            "order": null,
            "overflow": null,
            "overflow_x": null,
            "overflow_y": null,
            "padding": null,
            "right": null,
            "top": null,
            "visibility": null,
            "width": null
          }
        },
        "ebc9284dac9147d184373a6f0384ca67": {
          "model_module": "@jupyter-widgets/controls",
          "model_name": "DescriptionStyleModel",
          "model_module_version": "1.5.0",
          "state": {
            "_model_module": "@jupyter-widgets/controls",
            "_model_module_version": "1.5.0",
            "_model_name": "DescriptionStyleModel",
            "_view_count": null,
            "_view_module": "@jupyter-widgets/base",
            "_view_module_version": "1.2.0",
            "_view_name": "StyleView",
            "description_width": ""
          }
        },
        "676efd349dfa4dcbbf7cb574385812a6": {
          "model_module": "@jupyter-widgets/controls",
          "model_name": "HBoxModel",
          "model_module_version": "1.5.0",
          "state": {
            "_dom_classes": [],
            "_model_module": "@jupyter-widgets/controls",
            "_model_module_version": "1.5.0",
            "_model_name": "HBoxModel",
            "_view_count": null,
            "_view_module": "@jupyter-widgets/controls",
            "_view_module_version": "1.5.0",
            "_view_name": "HBoxView",
            "box_style": "",
            "children": [
              "IPY_MODEL_a6ed5a9474644c54a724e2fdb9a828ec",
              "IPY_MODEL_662da20a77ae4e4fa36713a5f47a2d9c",
              "IPY_MODEL_1d566021bee34e26be83f642dac9c913"
            ],
            "layout": "IPY_MODEL_e3927c1bf75c47a7ae4dfe645670b84d"
          }
        },
        "a6ed5a9474644c54a724e2fdb9a828ec": {
          "model_module": "@jupyter-widgets/controls",
          "model_name": "HTMLModel",
          "model_module_version": "1.5.0",
          "state": {
            "_dom_classes": [],
            "_model_module": "@jupyter-widgets/controls",
            "_model_module_version": "1.5.0",
            "_model_name": "HTMLModel",
            "_view_count": null,
            "_view_module": "@jupyter-widgets/controls",
            "_view_module_version": "1.5.0",
            "_view_name": "HTMLView",
            "description": "",
            "description_tooltip": null,
            "layout": "IPY_MODEL_5d827fcd7df0409bbe512dcf75fbeab5",
            "placeholder": "​",
            "style": "IPY_MODEL_b769517027a148e294bb9ccf8495bf4f",
            "value": "Downloading: 100%"
          }
        },
        "662da20a77ae4e4fa36713a5f47a2d9c": {
          "model_module": "@jupyter-widgets/controls",
          "model_name": "FloatProgressModel",
          "model_module_version": "1.5.0",
          "state": {
            "_dom_classes": [],
            "_model_module": "@jupyter-widgets/controls",
            "_model_module_version": "1.5.0",
            "_model_name": "FloatProgressModel",
            "_view_count": null,
            "_view_module": "@jupyter-widgets/controls",
            "_view_module_version": "1.5.0",
            "_view_name": "ProgressView",
            "bar_style": "success",
            "description": "",
            "description_tooltip": null,
            "layout": "IPY_MODEL_8f2379fdffda40cb93a37140d84f0425",
            "max": 125,
            "min": 0,
            "orientation": "horizontal",
            "style": "IPY_MODEL_253869379a774fdb8c269f3811f7318e",
            "value": 125
          }
        },
        "1d566021bee34e26be83f642dac9c913": {
          "model_module": "@jupyter-widgets/controls",
          "model_name": "HTMLModel",
          "model_module_version": "1.5.0",
          "state": {
            "_dom_classes": [],
            "_model_module": "@jupyter-widgets/controls",
            "_model_module_version": "1.5.0",
            "_model_name": "HTMLModel",
            "_view_count": null,
            "_view_module": "@jupyter-widgets/controls",
            "_view_module_version": "1.5.0",
            "_view_name": "HTMLView",
            "description": "",
            "description_tooltip": null,
            "layout": "IPY_MODEL_d6d9a7b5745b4080ace6ee2c66d1c3fa",
            "placeholder": "​",
            "style": "IPY_MODEL_b5bf421c4a0f412dbe1ce77dac5cc18d",
            "value": " 125/125 [00:00&lt;00:00, 4.81kB/s]"
          }
        },
        "e3927c1bf75c47a7ae4dfe645670b84d": {
          "model_module": "@jupyter-widgets/base",
          "model_name": "LayoutModel",
          "model_module_version": "1.2.0",
          "state": {
            "_model_module": "@jupyter-widgets/base",
            "_model_module_version": "1.2.0",
            "_model_name": "LayoutModel",
            "_view_count": null,
            "_view_module": "@jupyter-widgets/base",
            "_view_module_version": "1.2.0",
            "_view_name": "LayoutView",
            "align_content": null,
            "align_items": null,
            "align_self": null,
            "border": null,
            "bottom": null,
            "display": null,
            "flex": null,
            "flex_flow": null,
            "grid_area": null,
            "grid_auto_columns": null,
            "grid_auto_flow": null,
            "grid_auto_rows": null,
            "grid_column": null,
            "grid_gap": null,
            "grid_row": null,
            "grid_template_areas": null,
            "grid_template_columns": null,
            "grid_template_rows": null,
            "height": null,
            "justify_content": null,
            "justify_items": null,
            "left": null,
            "margin": null,
            "max_height": null,
            "max_width": null,
            "min_height": null,
            "min_width": null,
            "object_fit": null,
            "object_position": null,
            "order": null,
            "overflow": null,
            "overflow_x": null,
            "overflow_y": null,
            "padding": null,
            "right": null,
            "top": null,
            "visibility": null,
            "width": null
          }
        },
        "5d827fcd7df0409bbe512dcf75fbeab5": {
          "model_module": "@jupyter-widgets/base",
          "model_name": "LayoutModel",
          "model_module_version": "1.2.0",
          "state": {
            "_model_module": "@jupyter-widgets/base",
            "_model_module_version": "1.2.0",
            "_model_name": "LayoutModel",
            "_view_count": null,
            "_view_module": "@jupyter-widgets/base",
            "_view_module_version": "1.2.0",
            "_view_name": "LayoutView",
            "align_content": null,
            "align_items": null,
            "align_self": null,
            "border": null,
            "bottom": null,
            "display": null,
            "flex": null,
            "flex_flow": null,
            "grid_area": null,
            "grid_auto_columns": null,
            "grid_auto_flow": null,
            "grid_auto_rows": null,
            "grid_column": null,
            "grid_gap": null,
            "grid_row": null,
            "grid_template_areas": null,
            "grid_template_columns": null,
            "grid_template_rows": null,
            "height": null,
            "justify_content": null,
            "justify_items": null,
            "left": null,
            "margin": null,
            "max_height": null,
            "max_width": null,
            "min_height": null,
            "min_width": null,
            "object_fit": null,
            "object_position": null,
            "order": null,
            "overflow": null,
            "overflow_x": null,
            "overflow_y": null,
            "padding": null,
            "right": null,
            "top": null,
            "visibility": null,
            "width": null
          }
        },
        "b769517027a148e294bb9ccf8495bf4f": {
          "model_module": "@jupyter-widgets/controls",
          "model_name": "DescriptionStyleModel",
          "model_module_version": "1.5.0",
          "state": {
            "_model_module": "@jupyter-widgets/controls",
            "_model_module_version": "1.5.0",
            "_model_name": "DescriptionStyleModel",
            "_view_count": null,
            "_view_module": "@jupyter-widgets/base",
            "_view_module_version": "1.2.0",
            "_view_name": "StyleView",
            "description_width": ""
          }
        },
        "8f2379fdffda40cb93a37140d84f0425": {
          "model_module": "@jupyter-widgets/base",
          "model_name": "LayoutModel",
          "model_module_version": "1.2.0",
          "state": {
            "_model_module": "@jupyter-widgets/base",
            "_model_module_version": "1.2.0",
            "_model_name": "LayoutModel",
            "_view_count": null,
            "_view_module": "@jupyter-widgets/base",
            "_view_module_version": "1.2.0",
            "_view_name": "LayoutView",
            "align_content": null,
            "align_items": null,
            "align_self": null,
            "border": null,
            "bottom": null,
            "display": null,
            "flex": null,
            "flex_flow": null,
            "grid_area": null,
            "grid_auto_columns": null,
            "grid_auto_flow": null,
            "grid_auto_rows": null,
            "grid_column": null,
            "grid_gap": null,
            "grid_row": null,
            "grid_template_areas": null,
            "grid_template_columns": null,
            "grid_template_rows": null,
            "height": null,
            "justify_content": null,
            "justify_items": null,
            "left": null,
            "margin": null,
            "max_height": null,
            "max_width": null,
            "min_height": null,
            "min_width": null,
            "object_fit": null,
            "object_position": null,
            "order": null,
            "overflow": null,
            "overflow_x": null,
            "overflow_y": null,
            "padding": null,
            "right": null,
            "top": null,
            "visibility": null,
            "width": null
          }
        },
        "253869379a774fdb8c269f3811f7318e": {
          "model_module": "@jupyter-widgets/controls",
          "model_name": "ProgressStyleModel",
          "model_module_version": "1.5.0",
          "state": {
            "_model_module": "@jupyter-widgets/controls",
            "_model_module_version": "1.5.0",
            "_model_name": "ProgressStyleModel",
            "_view_count": null,
            "_view_module": "@jupyter-widgets/base",
            "_view_module_version": "1.2.0",
            "_view_name": "StyleView",
            "bar_color": null,
            "description_width": ""
          }
        },
        "d6d9a7b5745b4080ace6ee2c66d1c3fa": {
          "model_module": "@jupyter-widgets/base",
          "model_name": "LayoutModel",
          "model_module_version": "1.2.0",
          "state": {
            "_model_module": "@jupyter-widgets/base",
            "_model_module_version": "1.2.0",
            "_model_name": "LayoutModel",
            "_view_count": null,
            "_view_module": "@jupyter-widgets/base",
            "_view_module_version": "1.2.0",
            "_view_name": "LayoutView",
            "align_content": null,
            "align_items": null,
            "align_self": null,
            "border": null,
            "bottom": null,
            "display": null,
            "flex": null,
            "flex_flow": null,
            "grid_area": null,
            "grid_auto_columns": null,
            "grid_auto_flow": null,
            "grid_auto_rows": null,
            "grid_column": null,
            "grid_gap": null,
            "grid_row": null,
            "grid_template_areas": null,
            "grid_template_columns": null,
            "grid_template_rows": null,
            "height": null,
            "justify_content": null,
            "justify_items": null,
            "left": null,
            "margin": null,
            "max_height": null,
            "max_width": null,
            "min_height": null,
            "min_width": null,
            "object_fit": null,
            "object_position": null,
            "order": null,
            "overflow": null,
            "overflow_x": null,
            "overflow_y": null,
            "padding": null,
            "right": null,
            "top": null,
            "visibility": null,
            "width": null
          }
        },
        "b5bf421c4a0f412dbe1ce77dac5cc18d": {
          "model_module": "@jupyter-widgets/controls",
          "model_name": "DescriptionStyleModel",
          "model_module_version": "1.5.0",
          "state": {
            "_model_module": "@jupyter-widgets/controls",
            "_model_module_version": "1.5.0",
            "_model_name": "DescriptionStyleModel",
            "_view_count": null,
            "_view_module": "@jupyter-widgets/base",
            "_view_module_version": "1.2.0",
            "_view_name": "StyleView",
            "description_width": ""
          }
        },
        "e66e81a99fa94c988a198727799cba40": {
          "model_module": "@jupyter-widgets/controls",
          "model_name": "HBoxModel",
          "model_module_version": "1.5.0",
          "state": {
            "_dom_classes": [],
            "_model_module": "@jupyter-widgets/controls",
            "_model_module_version": "1.5.0",
            "_model_name": "HBoxModel",
            "_view_count": null,
            "_view_module": "@jupyter-widgets/controls",
            "_view_module_version": "1.5.0",
            "_view_name": "HBoxView",
            "box_style": "",
            "children": [
              "IPY_MODEL_c40ec867c01042a4828620ba7c2f1f1a",
              "IPY_MODEL_e0f30f4f5c1c40e19056556e4b59d82e",
              "IPY_MODEL_9c0ed3c814d54ac88bd7634f651921af"
            ],
            "layout": "IPY_MODEL_07620ff5c9a6443d8e8b89517829e3b4"
          }
        },
        "c40ec867c01042a4828620ba7c2f1f1a": {
          "model_module": "@jupyter-widgets/controls",
          "model_name": "HTMLModel",
          "model_module_version": "1.5.0",
          "state": {
            "_dom_classes": [],
            "_model_module": "@jupyter-widgets/controls",
            "_model_module_version": "1.5.0",
            "_model_name": "HTMLModel",
            "_view_count": null,
            "_view_module": "@jupyter-widgets/controls",
            "_view_module_version": "1.5.0",
            "_view_name": "HTMLView",
            "description": "",
            "description_tooltip": null,
            "layout": "IPY_MODEL_952eae9dea564b4bb1ba1ca3535dcf32",
            "placeholder": "​",
            "style": "IPY_MODEL_881140e93c094f398f35931dc0b0f520",
            "value": "Downloading: 100%"
          }
        },
        "e0f30f4f5c1c40e19056556e4b59d82e": {
          "model_module": "@jupyter-widgets/controls",
          "model_name": "FloatProgressModel",
          "model_module_version": "1.5.0",
          "state": {
            "_dom_classes": [],
            "_model_module": "@jupyter-widgets/controls",
            "_model_module_version": "1.5.0",
            "_model_name": "FloatProgressModel",
            "_view_count": null,
            "_view_module": "@jupyter-widgets/controls",
            "_view_module_version": "1.5.0",
            "_view_name": "ProgressView",
            "bar_style": "success",
            "description": "",
            "description_tooltip": null,
            "layout": "IPY_MODEL_3395d629ffb642828a47a12c96ac9cf5",
            "max": 289,
            "min": 0,
            "orientation": "horizontal",
            "style": "IPY_MODEL_211497f9dc3744bea6c6cfad9bb93572",
            "value": 289
          }
        },
        "9c0ed3c814d54ac88bd7634f651921af": {
          "model_module": "@jupyter-widgets/controls",
          "model_name": "HTMLModel",
          "model_module_version": "1.5.0",
          "state": {
            "_dom_classes": [],
            "_model_module": "@jupyter-widgets/controls",
            "_model_module_version": "1.5.0",
            "_model_name": "HTMLModel",
            "_view_count": null,
            "_view_module": "@jupyter-widgets/controls",
            "_view_module_version": "1.5.0",
            "_view_name": "HTMLView",
            "description": "",
            "description_tooltip": null,
            "layout": "IPY_MODEL_72426f297b494db5824033c42472dfb2",
            "placeholder": "​",
            "style": "IPY_MODEL_f35d0272b6a24e4991b0c19532cf7986",
            "value": " 289/289 [00:00&lt;00:00, 12.4kB/s]"
          }
        },
        "07620ff5c9a6443d8e8b89517829e3b4": {
          "model_module": "@jupyter-widgets/base",
          "model_name": "LayoutModel",
          "model_module_version": "1.2.0",
          "state": {
            "_model_module": "@jupyter-widgets/base",
            "_model_module_version": "1.2.0",
            "_model_name": "LayoutModel",
            "_view_count": null,
            "_view_module": "@jupyter-widgets/base",
            "_view_module_version": "1.2.0",
            "_view_name": "LayoutView",
            "align_content": null,
            "align_items": null,
            "align_self": null,
            "border": null,
            "bottom": null,
            "display": null,
            "flex": null,
            "flex_flow": null,
            "grid_area": null,
            "grid_auto_columns": null,
            "grid_auto_flow": null,
            "grid_auto_rows": null,
            "grid_column": null,
            "grid_gap": null,
            "grid_row": null,
            "grid_template_areas": null,
            "grid_template_columns": null,
            "grid_template_rows": null,
            "height": null,
            "justify_content": null,
            "justify_items": null,
            "left": null,
            "margin": null,
            "max_height": null,
            "max_width": null,
            "min_height": null,
            "min_width": null,
            "object_fit": null,
            "object_position": null,
            "order": null,
            "overflow": null,
            "overflow_x": null,
            "overflow_y": null,
            "padding": null,
            "right": null,
            "top": null,
            "visibility": null,
            "width": null
          }
        },
        "952eae9dea564b4bb1ba1ca3535dcf32": {
          "model_module": "@jupyter-widgets/base",
          "model_name": "LayoutModel",
          "model_module_version": "1.2.0",
          "state": {
            "_model_module": "@jupyter-widgets/base",
            "_model_module_version": "1.2.0",
            "_model_name": "LayoutModel",
            "_view_count": null,
            "_view_module": "@jupyter-widgets/base",
            "_view_module_version": "1.2.0",
            "_view_name": "LayoutView",
            "align_content": null,
            "align_items": null,
            "align_self": null,
            "border": null,
            "bottom": null,
            "display": null,
            "flex": null,
            "flex_flow": null,
            "grid_area": null,
            "grid_auto_columns": null,
            "grid_auto_flow": null,
            "grid_auto_rows": null,
            "grid_column": null,
            "grid_gap": null,
            "grid_row": null,
            "grid_template_areas": null,
            "grid_template_columns": null,
            "grid_template_rows": null,
            "height": null,
            "justify_content": null,
            "justify_items": null,
            "left": null,
            "margin": null,
            "max_height": null,
            "max_width": null,
            "min_height": null,
            "min_width": null,
            "object_fit": null,
            "object_position": null,
            "order": null,
            "overflow": null,
            "overflow_x": null,
            "overflow_y": null,
            "padding": null,
            "right": null,
            "top": null,
            "visibility": null,
            "width": null
          }
        },
        "881140e93c094f398f35931dc0b0f520": {
          "model_module": "@jupyter-widgets/controls",
          "model_name": "DescriptionStyleModel",
          "model_module_version": "1.5.0",
          "state": {
            "_model_module": "@jupyter-widgets/controls",
            "_model_module_version": "1.5.0",
            "_model_name": "DescriptionStyleModel",
            "_view_count": null,
            "_view_module": "@jupyter-widgets/base",
            "_view_module_version": "1.2.0",
            "_view_name": "StyleView",
            "description_width": ""
          }
        },
        "3395d629ffb642828a47a12c96ac9cf5": {
          "model_module": "@jupyter-widgets/base",
          "model_name": "LayoutModel",
          "model_module_version": "1.2.0",
          "state": {
            "_model_module": "@jupyter-widgets/base",
            "_model_module_version": "1.2.0",
            "_model_name": "LayoutModel",
            "_view_count": null,
            "_view_module": "@jupyter-widgets/base",
            "_view_module_version": "1.2.0",
            "_view_name": "LayoutView",
            "align_content": null,
            "align_items": null,
            "align_self": null,
            "border": null,
            "bottom": null,
            "display": null,
            "flex": null,
            "flex_flow": null,
            "grid_area": null,
            "grid_auto_columns": null,
            "grid_auto_flow": null,
            "grid_auto_rows": null,
            "grid_column": null,
            "grid_gap": null,
            "grid_row": null,
            "grid_template_areas": null,
            "grid_template_columns": null,
            "grid_template_rows": null,
            "height": null,
            "justify_content": null,
            "justify_items": null,
            "left": null,
            "margin": null,
            "max_height": null,
            "max_width": null,
            "min_height": null,
            "min_width": null,
            "object_fit": null,
            "object_position": null,
            "order": null,
            "overflow": null,
            "overflow_x": null,
            "overflow_y": null,
            "padding": null,
            "right": null,
            "top": null,
            "visibility": null,
            "width": null
          }
        },
        "211497f9dc3744bea6c6cfad9bb93572": {
          "model_module": "@jupyter-widgets/controls",
          "model_name": "ProgressStyleModel",
          "model_module_version": "1.5.0",
          "state": {
            "_model_module": "@jupyter-widgets/controls",
            "_model_module_version": "1.5.0",
            "_model_name": "ProgressStyleModel",
            "_view_count": null,
            "_view_module": "@jupyter-widgets/base",
            "_view_module_version": "1.2.0",
            "_view_name": "StyleView",
            "bar_color": null,
            "description_width": ""
          }
        },
        "72426f297b494db5824033c42472dfb2": {
          "model_module": "@jupyter-widgets/base",
          "model_name": "LayoutModel",
          "model_module_version": "1.2.0",
          "state": {
            "_model_module": "@jupyter-widgets/base",
            "_model_module_version": "1.2.0",
            "_model_name": "LayoutModel",
            "_view_count": null,
            "_view_module": "@jupyter-widgets/base",
            "_view_module_version": "1.2.0",
            "_view_name": "LayoutView",
            "align_content": null,
            "align_items": null,
            "align_self": null,
            "border": null,
            "bottom": null,
            "display": null,
            "flex": null,
            "flex_flow": null,
            "grid_area": null,
            "grid_auto_columns": null,
            "grid_auto_flow": null,
            "grid_auto_rows": null,
            "grid_column": null,
            "grid_gap": null,
            "grid_row": null,
            "grid_template_areas": null,
            "grid_template_columns": null,
            "grid_template_rows": null,
            "height": null,
            "justify_content": null,
            "justify_items": null,
            "left": null,
            "margin": null,
            "max_height": null,
            "max_width": null,
            "min_height": null,
            "min_width": null,
            "object_fit": null,
            "object_position": null,
            "order": null,
            "overflow": null,
            "overflow_x": null,
            "overflow_y": null,
            "padding": null,
            "right": null,
            "top": null,
            "visibility": null,
            "width": null
          }
        },
        "f35d0272b6a24e4991b0c19532cf7986": {
          "model_module": "@jupyter-widgets/controls",
          "model_name": "DescriptionStyleModel",
          "model_module_version": "1.5.0",
          "state": {
            "_model_module": "@jupyter-widgets/controls",
            "_model_module_version": "1.5.0",
            "_model_name": "DescriptionStyleModel",
            "_view_count": null,
            "_view_module": "@jupyter-widgets/base",
            "_view_module_version": "1.2.0",
            "_view_name": "StyleView",
            "description_width": ""
          }
        }
      }
    }
  },
  "cells": [
    {
      "cell_type": "markdown",
      "source": [
        "# Info\n",
        "Last Updated @2022-05-31\n",
        "\n",
        "### 👨‍💻 Author Info\n",
        "- Author: Gyeongbin Park(a.k.a., Tony Park)\n",
        "- Blog: https://heytech.tistory.com/\n",
        "- Github: https://github.com/park-gb\n",
        "- Contact: dev.gbpark@gmail.com\n",
        "\n",
        "### 📚 References\n",
        "- KLUE-base: https://huggingface.co/klue/bert-base\n",
        "- Dataset: https://github.com/ukairia777/finance_sentiment_corpus/blob/main/finance_data.csv"
      ],
      "metadata": {
        "id": "1yl0CInpifaf"
      }
    },
    {
      "cell_type": "markdown",
      "source": [
        "# 구글 드라이브 연동"
      ],
      "metadata": {
        "id": "-Y-KNI_Bke21"
      }
    },
    {
      "cell_type": "code",
      "source": [
        "import os\n",
        "from google.colab import drive\n",
        "drive.mount('/content/drive/')"
      ],
      "metadata": {
        "id": "lA12S-rwXjcw",
        "colab": {
          "base_uri": "https://localhost:8080/"
        },
        "outputId": "5efa1bb9-f7d4-406a-a28f-2dc6c602c062"
      },
      "execution_count": null,
      "outputs": [
        {
          "output_type": "stream",
          "name": "stdout",
          "text": [
            "Mounted at /content/drive/\n"
          ]
        }
      ]
    },
    {
      "cell_type": "markdown",
      "source": [
        ":"
      ],
      "metadata": {
        "id": "mSEFTBlmX0tc"
      }
    },
    {
      "cell_type": "markdown",
      "source": [
        "# 패키지 설치"
      ],
      "metadata": {
        "id": "1jGYU3gVkrIF"
      }
    },
    {
      "cell_type": "markdown",
      "source": [
        "## Huggingface 패키지 설치"
      ],
      "metadata": {
        "id": "HVkwXaiiXgMp"
      }
    },
    {
      "cell_type": "code",
      "source": [
        "!pip install transformers"
      ],
      "metadata": {
        "id": "NltQP9rQXjUn",
        "colab": {
          "base_uri": "https://localhost:8080/"
        },
        "outputId": "b1678ddb-0c72-4392-f493-074e63ad7e09"
      },
      "execution_count": null,
      "outputs": [
        {
          "output_type": "stream",
          "name": "stdout",
          "text": [
            "Looking in indexes: https://pypi.org/simple, https://us-python.pkg.dev/colab-wheels/public/simple/\n",
            "Collecting transformers\n",
            "  Downloading transformers-4.19.2-py3-none-any.whl (4.2 MB)\n",
            "\u001b[K     |████████████████████████████████| 4.2 MB 7.6 MB/s \n",
            "\u001b[?25hRequirement already satisfied: numpy>=1.17 in /usr/local/lib/python3.7/dist-packages (from transformers) (1.21.6)\n",
            "Requirement already satisfied: tqdm>=4.27 in /usr/local/lib/python3.7/dist-packages (from transformers) (4.64.0)\n",
            "Requirement already satisfied: requests in /usr/local/lib/python3.7/dist-packages (from transformers) (2.23.0)\n",
            "Requirement already satisfied: packaging>=20.0 in /usr/local/lib/python3.7/dist-packages (from transformers) (21.3)\n",
            "Requirement already satisfied: importlib-metadata in /usr/local/lib/python3.7/dist-packages (from transformers) (4.11.3)\n",
            "Collecting huggingface-hub<1.0,>=0.1.0\n",
            "  Downloading huggingface_hub-0.7.0-py3-none-any.whl (86 kB)\n",
            "\u001b[K     |████████████████████████████████| 86 kB 6.3 MB/s \n",
            "\u001b[?25hCollecting tokenizers!=0.11.3,<0.13,>=0.11.1\n",
            "  Downloading tokenizers-0.12.1-cp37-cp37m-manylinux_2_12_x86_64.manylinux2010_x86_64.whl (6.6 MB)\n",
            "\u001b[K     |████████████████████████████████| 6.6 MB 66.0 MB/s \n",
            "\u001b[?25hCollecting pyyaml>=5.1\n",
            "  Downloading PyYAML-6.0-cp37-cp37m-manylinux_2_5_x86_64.manylinux1_x86_64.manylinux_2_12_x86_64.manylinux2010_x86_64.whl (596 kB)\n",
            "\u001b[K     |████████████████████████████████| 596 kB 76.9 MB/s \n",
            "\u001b[?25hRequirement already satisfied: filelock in /usr/local/lib/python3.7/dist-packages (from transformers) (3.7.0)\n",
            "Requirement already satisfied: regex!=2019.12.17 in /usr/local/lib/python3.7/dist-packages (from transformers) (2019.12.20)\n",
            "Requirement already satisfied: typing-extensions>=3.7.4.3 in /usr/local/lib/python3.7/dist-packages (from huggingface-hub<1.0,>=0.1.0->transformers) (4.2.0)\n",
            "Requirement already satisfied: pyparsing!=3.0.5,>=2.0.2 in /usr/local/lib/python3.7/dist-packages (from packaging>=20.0->transformers) (3.0.9)\n",
            "Requirement already satisfied: zipp>=0.5 in /usr/local/lib/python3.7/dist-packages (from importlib-metadata->transformers) (3.8.0)\n",
            "Requirement already satisfied: certifi>=2017.4.17 in /usr/local/lib/python3.7/dist-packages (from requests->transformers) (2022.5.18.1)\n",
            "Requirement already satisfied: idna<3,>=2.5 in /usr/local/lib/python3.7/dist-packages (from requests->transformers) (2.10)\n",
            "Requirement already satisfied: chardet<4,>=3.0.2 in /usr/local/lib/python3.7/dist-packages (from requests->transformers) (3.0.4)\n",
            "Requirement already satisfied: urllib3!=1.25.0,!=1.25.1,<1.26,>=1.21.1 in /usr/local/lib/python3.7/dist-packages (from requests->transformers) (1.24.3)\n",
            "Installing collected packages: pyyaml, tokenizers, huggingface-hub, transformers\n",
            "  Attempting uninstall: pyyaml\n",
            "    Found existing installation: PyYAML 3.13\n",
            "    Uninstalling PyYAML-3.13:\n",
            "      Successfully uninstalled PyYAML-3.13\n",
            "Successfully installed huggingface-hub-0.7.0 pyyaml-6.0 tokenizers-0.12.1 transformers-4.19.2\n"
          ]
        }
      ]
    },
    {
      "cell_type": "markdown",
      "source": [
        "## RAdam 패키지 설치"
      ],
      "metadata": {
        "id": "g7YWiGFrklEd"
      }
    },
    {
      "cell_type": "code",
      "source": [
        "!pip install tensorflow_addons"
      ],
      "metadata": {
        "id": "3E3eK7QWklac",
        "colab": {
          "base_uri": "https://localhost:8080/"
        },
        "outputId": "55e91079-2388-469a-8d4c-a3322d93e7d1"
      },
      "execution_count": null,
      "outputs": [
        {
          "output_type": "stream",
          "name": "stdout",
          "text": [
            "Looking in indexes: https://pypi.org/simple, https://us-python.pkg.dev/colab-wheels/public/simple/\n",
            "Collecting tensorflow_addons\n",
            "  Downloading tensorflow_addons-0.17.0-cp37-cp37m-manylinux_2_17_x86_64.manylinux2014_x86_64.whl (1.1 MB)\n",
            "\u001b[K     |████████████████████████████████| 1.1 MB 7.0 MB/s \n",
            "\u001b[?25hRequirement already satisfied: typeguard>=2.7 in /usr/local/lib/python3.7/dist-packages (from tensorflow_addons) (2.7.1)\n",
            "Requirement already satisfied: packaging in /usr/local/lib/python3.7/dist-packages (from tensorflow_addons) (21.3)\n",
            "Requirement already satisfied: pyparsing!=3.0.5,>=2.0.2 in /usr/local/lib/python3.7/dist-packages (from packaging->tensorflow_addons) (3.0.9)\n",
            "Installing collected packages: tensorflow-addons\n",
            "Successfully installed tensorflow-addons-0.17.0\n"
          ]
        }
      ]
    },
    {
      "cell_type": "markdown",
      "source": [
        "# 패키지 import"
      ],
      "metadata": {
        "id": "KKa1MK1MkYF1"
      }
    },
    {
      "cell_type": "code",
      "source": [
        "import pandas as pd\n",
        "import numpy as np\n",
        "import re\n",
        "from tqdm import tqdm\n",
        "import urllib.request\n",
        "import seaborn as sns\n",
        "import matplotlib.pyplot as plt\n",
        "import tensorflow_addons as tfa\n",
        "import tensorflow as tf\n",
        "from tensorflow.keras.callbacks import EarlyStopping, ModelCheckpoint\n",
        "from transformers import BertTokenizer, TFBertForSequenceClassification\n",
        "from sklearn.model_selection import train_test_split\n",
        "from sklearn.metrics import accuracy_score, f1_score, precision_score, recall_score, \\\n",
        "                            roc_auc_score, confusion_matrix, classification_report, \\\n",
        "                            matthews_corrcoef, cohen_kappa_score, log_loss"
      ],
      "metadata": {
        "id": "QQuKfsqLl-iQ"
      },
      "execution_count": null,
      "outputs": []
    },
    {
      "cell_type": "markdown",
      "source": [
        "# 언어모델 및 Tokenizer 불러오기"
      ],
      "metadata": {
        "id": "Qj5XKO9LkYKD"
      }
    },
    {
      "cell_type": "code",
      "source": [
        "MODEL_NAME = \"klue/bert-base\"\n",
        "model = TFBertForSequenceClassification.from_pretrained(MODEL_NAME, num_labels=3, from_pt=True)\n",
        "tokenizer = BertTokenizer.from_pretrained(MODEL_NAME)\n",
        "MODEL_NAME = MODEL_NAME.replace(\"/\", \"_\")"
      ],
      "metadata": {
        "id": "YmaLbto522NJ",
        "colab": {
          "base_uri": "https://localhost:8080/",
          "height": 286,
          "referenced_widgets": [
            "f4fdf0b059e0476caabd7ddd10435d3d",
            "a61e2944356f43ffa5f52295b869976e",
            "ddc29a1115c54236894828879e59224e",
            "6d891c99b5b14b3887a9587c6ac481ea",
            "b06f217b144a457d8cd10b7795836c88",
            "3f8975ef34cf40098748962084e8a5d3",
            "2c06840fab4642b7836a7358fdb85d4a",
            "6df2bf08e9934186a63377b2aa626aa3",
            "0aeac31933364bd1bab4d7633df26fc0",
            "aa1f0eb573b24242ac402eec0e1de7c0",
            "518632633ebe482dbf4610811e6b1d2b",
            "d6a6574e009e4a19947a61728ab9cbde",
            "39a3a056dfa944789d2705e2b7780f33",
            "59fd696433c745228ae0ecae6d5906ff",
            "c1154feff9b54f22b6673ab278d6f895",
            "98e2f763e4ae4c769df2c2ac52eaa4b7",
            "11e456978b7b4cbf8fa31bc4e492b7c3",
            "390f16e9a15b40909448a31308ff8fe1",
            "682167e85f73466182364d81423f9906",
            "c643d0f99e944db8a15c6e1303390eb6",
            "51bf5a7cdff247ecbeea511ee3d4147b",
            "bf574412533143ef9cdde703a382e5cc",
            "884004f4852041c2b854636973f1efd5",
            "85f89246824841cf976258cd6d847b0f",
            "78b4d3b79393499b9dd575f9a719be9b",
            "40ee30bb9ecc4043b38070c5a04ce5aa",
            "5c67fdd772464f6d8335916c99057d59",
            "a3744599cb604a16b2b84e29b4991423",
            "da60b449faba46f98537a5a8ea1cefab",
            "f2b49242b44149b0af829338a347e5c2",
            "b2a12559f8fc4dd98351d2791a36a86c",
            "d80d9ffdf44742b282e91abd7b33cace",
            "ebc9284dac9147d184373a6f0384ca67",
            "676efd349dfa4dcbbf7cb574385812a6",
            "a6ed5a9474644c54a724e2fdb9a828ec",
            "662da20a77ae4e4fa36713a5f47a2d9c",
            "1d566021bee34e26be83f642dac9c913",
            "e3927c1bf75c47a7ae4dfe645670b84d",
            "5d827fcd7df0409bbe512dcf75fbeab5",
            "b769517027a148e294bb9ccf8495bf4f",
            "8f2379fdffda40cb93a37140d84f0425",
            "253869379a774fdb8c269f3811f7318e",
            "d6d9a7b5745b4080ace6ee2c66d1c3fa",
            "b5bf421c4a0f412dbe1ce77dac5cc18d",
            "e66e81a99fa94c988a198727799cba40",
            "c40ec867c01042a4828620ba7c2f1f1a",
            "e0f30f4f5c1c40e19056556e4b59d82e",
            "9c0ed3c814d54ac88bd7634f651921af",
            "07620ff5c9a6443d8e8b89517829e3b4",
            "952eae9dea564b4bb1ba1ca3535dcf32",
            "881140e93c094f398f35931dc0b0f520",
            "3395d629ffb642828a47a12c96ac9cf5",
            "211497f9dc3744bea6c6cfad9bb93572",
            "72426f297b494db5824033c42472dfb2",
            "f35d0272b6a24e4991b0c19532cf7986"
          ]
        },
        "outputId": "435f980d-519d-4d88-86b0-a4508bea5ccc"
      },
      "execution_count": null,
      "outputs": [
        {
          "output_type": "display_data",
          "data": {
            "text/plain": [
              "Downloading:   0%|          | 0.00/425 [00:00<?, ?B/s]"
            ],
            "application/vnd.jupyter.widget-view+json": {
              "version_major": 2,
              "version_minor": 0,
              "model_id": "f4fdf0b059e0476caabd7ddd10435d3d"
            }
          },
          "metadata": {}
        },
        {
          "output_type": "display_data",
          "data": {
            "text/plain": [
              "Downloading:   0%|          | 0.00/424M [00:00<?, ?B/s]"
            ],
            "application/vnd.jupyter.widget-view+json": {
              "version_major": 2,
              "version_minor": 0,
              "model_id": "d6a6574e009e4a19947a61728ab9cbde"
            }
          },
          "metadata": {}
        },
        {
          "output_type": "stream",
          "name": "stderr",
          "text": [
            "Some weights of the PyTorch model were not used when initializing the TF 2.0 model TFBertForSequenceClassification: ['bert.embeddings.position_ids']\n",
            "- This IS expected if you are initializing TFBertForSequenceClassification from a PyTorch model trained on another task or with another architecture (e.g. initializing a TFBertForSequenceClassification model from a BertForPreTraining model).\n",
            "- This IS NOT expected if you are initializing TFBertForSequenceClassification from a PyTorch model that you expect to be exactly identical (e.g. initializing a TFBertForSequenceClassification model from a BertForSequenceClassification model).\n",
            "Some weights or buffers of the TF 2.0 model TFBertForSequenceClassification were not initialized from the PyTorch model and are newly initialized: ['classifier.weight', 'classifier.bias']\n",
            "You should probably TRAIN this model on a down-stream task to be able to use it for predictions and inference.\n"
          ]
        },
        {
          "output_type": "display_data",
          "data": {
            "text/plain": [
              "Downloading:   0%|          | 0.00/243k [00:00<?, ?B/s]"
            ],
            "application/vnd.jupyter.widget-view+json": {
              "version_major": 2,
              "version_minor": 0,
              "model_id": "884004f4852041c2b854636973f1efd5"
            }
          },
          "metadata": {}
        },
        {
          "output_type": "display_data",
          "data": {
            "text/plain": [
              "Downloading:   0%|          | 0.00/125 [00:00<?, ?B/s]"
            ],
            "application/vnd.jupyter.widget-view+json": {
              "version_major": 2,
              "version_minor": 0,
              "model_id": "676efd349dfa4dcbbf7cb574385812a6"
            }
          },
          "metadata": {}
        },
        {
          "output_type": "display_data",
          "data": {
            "text/plain": [
              "Downloading:   0%|          | 0.00/289 [00:00<?, ?B/s]"
            ],
            "application/vnd.jupyter.widget-view+json": {
              "version_major": 2,
              "version_minor": 0,
              "model_id": "e66e81a99fa94c988a198727799cba40"
            }
          },
          "metadata": {}
        }
      ]
    },
    {
      "cell_type": "markdown",
      "source": [
        "# GPU 작동확인"
      ],
      "metadata": {
        "id": "2j6baHiek1ki"
      }
    },
    {
      "cell_type": "code",
      "source": [
        "device_name = tf.test.gpu_device_name()\n",
        "if device_name == '/device:GPU:0':\n",
        "  print(\"GPU 작동 중\")\n",
        "  mirrored_strategy = tf.distribute.MirroredStrategy()\n",
        "else:\n",
        "  print(\"GPU 미작동 중\")"
      ],
      "metadata": {
        "id": "FJaUmNfwk145",
        "colab": {
          "base_uri": "https://localhost:8080/"
        },
        "outputId": "cd801332-9d7c-46b7-d469-be5a4fcfea3e"
      },
      "execution_count": null,
      "outputs": [
        {
          "output_type": "stream",
          "name": "stdout",
          "text": [
            "GPU 작동 중\n",
            "INFO:tensorflow:Using MirroredStrategy with devices ('/job:localhost/replica:0/task:0/device:GPU:0',)\n"
          ]
        }
      ]
    },
    {
      "cell_type": "markdown",
      "source": [
        "# 데이터셋 Load"
      ],
      "metadata": {
        "id": "jBrxU1zPkYDM"
      }
    },
    {
      "cell_type": "code",
      "source": [
        "DATASET_URL = \"https://raw.githubusercontent.com/ukairia777/finance_sentiment_corpus/main/finance_data.csv\"\n",
        "DATASET_PATH = \"./drive/MyDrive/Colab Notebooks/SCFN/data/\"\n",
        "DATASET_NAME = \"dataset.csv\""
      ],
      "metadata": {
        "id": "c0XHS90D9tgB"
      },
      "execution_count": null,
      "outputs": []
    },
    {
      "cell_type": "code",
      "source": [
        "urllib.request.urlretrieve(DATASET_URL, \n",
        "                           filename = DATASET_PATH + DATASET_NAME\n",
        "                           )"
      ],
      "metadata": {
        "id": "IvDuKLNvoHPb",
        "colab": {
          "base_uri": "https://localhost:8080/"
        },
        "outputId": "d0569fd0-f66b-4f4c-d60c-9d1dfcdd714f"
      },
      "execution_count": null,
      "outputs": [
        {
          "output_type": "execute_result",
          "data": {
            "text/plain": [
              "('./drive/MyDrive/Colab Notebooks/SCFN/data/dataset.csv',\n",
              " <http.client.HTTPMessage at 0x7fc2145d73d0>)"
            ]
          },
          "metadata": {},
          "execution_count": 8
        }
      ]
    },
    {
      "cell_type": "code",
      "source": [
        "dataset = pd.read_csv(DATASET_PATH + DATASET_NAME)\n",
        "dataset.head()"
      ],
      "metadata": {
        "id": "mv9dgqH1le3C",
        "colab": {
          "base_uri": "https://localhost:8080/",
          "height": 206
        },
        "outputId": "40d8f2fc-d853-4868-a536-40e4e94b0cd1"
      },
      "execution_count": null,
      "outputs": [
        {
          "output_type": "execute_result",
          "data": {
            "text/plain": [
              "     labels                                           sentence  \\\n",
              "0   neutral  According to Gran, the company has no plans to...   \n",
              "1   neutral  Technopolis plans to develop in stages an area...   \n",
              "2  negative  The international electronic industry company ...   \n",
              "3  positive  With the new production plant the company woul...   \n",
              "4  positive  According to the company's updated strategy fo...   \n",
              "\n",
              "                                        kor_sentence  \n",
              "0  Gran에 따르면, 그 회사는 회사가 성장하고 있는 곳이지만, 모든 생산을 러시아로...  \n",
              "1  테크노폴리스는 컴퓨터 기술과 통신 분야에서 일하는 회사들을 유치하기 위해 10만 평...  \n",
              "2  국제 전자산업 회사인 엘코텍은 탈린 공장에서 수십 명의 직원을 해고했으며, 이전의 ...  \n",
              "3  새로운 생산공장으로 인해 회사는 예상되는 수요 증가를 충족시킬 수 있는 능력을 증가...  \n",
              "4  2009-2012년 회사의 업데이트된 전략에 따르면, Basware는 20% - 4...  "
            ],
            "text/html": [
              "\n",
              "  <div id=\"df-4f427cb5-abc5-445d-b82e-e43363aea6c2\">\n",
              "    <div class=\"colab-df-container\">\n",
              "      <div>\n",
              "<style scoped>\n",
              "    .dataframe tbody tr th:only-of-type {\n",
              "        vertical-align: middle;\n",
              "    }\n",
              "\n",
              "    .dataframe tbody tr th {\n",
              "        vertical-align: top;\n",
              "    }\n",
              "\n",
              "    .dataframe thead th {\n",
              "        text-align: right;\n",
              "    }\n",
              "</style>\n",
              "<table border=\"1\" class=\"dataframe\">\n",
              "  <thead>\n",
              "    <tr style=\"text-align: right;\">\n",
              "      <th></th>\n",
              "      <th>labels</th>\n",
              "      <th>sentence</th>\n",
              "      <th>kor_sentence</th>\n",
              "    </tr>\n",
              "  </thead>\n",
              "  <tbody>\n",
              "    <tr>\n",
              "      <th>0</th>\n",
              "      <td>neutral</td>\n",
              "      <td>According to Gran, the company has no plans to...</td>\n",
              "      <td>Gran에 따르면, 그 회사는 회사가 성장하고 있는 곳이지만, 모든 생산을 러시아로...</td>\n",
              "    </tr>\n",
              "    <tr>\n",
              "      <th>1</th>\n",
              "      <td>neutral</td>\n",
              "      <td>Technopolis plans to develop in stages an area...</td>\n",
              "      <td>테크노폴리스는 컴퓨터 기술과 통신 분야에서 일하는 회사들을 유치하기 위해 10만 평...</td>\n",
              "    </tr>\n",
              "    <tr>\n",
              "      <th>2</th>\n",
              "      <td>negative</td>\n",
              "      <td>The international electronic industry company ...</td>\n",
              "      <td>국제 전자산업 회사인 엘코텍은 탈린 공장에서 수십 명의 직원을 해고했으며, 이전의 ...</td>\n",
              "    </tr>\n",
              "    <tr>\n",
              "      <th>3</th>\n",
              "      <td>positive</td>\n",
              "      <td>With the new production plant the company woul...</td>\n",
              "      <td>새로운 생산공장으로 인해 회사는 예상되는 수요 증가를 충족시킬 수 있는 능력을 증가...</td>\n",
              "    </tr>\n",
              "    <tr>\n",
              "      <th>4</th>\n",
              "      <td>positive</td>\n",
              "      <td>According to the company's updated strategy fo...</td>\n",
              "      <td>2009-2012년 회사의 업데이트된 전략에 따르면, Basware는 20% - 4...</td>\n",
              "    </tr>\n",
              "  </tbody>\n",
              "</table>\n",
              "</div>\n",
              "      <button class=\"colab-df-convert\" onclick=\"convertToInteractive('df-4f427cb5-abc5-445d-b82e-e43363aea6c2')\"\n",
              "              title=\"Convert this dataframe to an interactive table.\"\n",
              "              style=\"display:none;\">\n",
              "        \n",
              "  <svg xmlns=\"http://www.w3.org/2000/svg\" height=\"24px\"viewBox=\"0 0 24 24\"\n",
              "       width=\"24px\">\n",
              "    <path d=\"M0 0h24v24H0V0z\" fill=\"none\"/>\n",
              "    <path d=\"M18.56 5.44l.94 2.06.94-2.06 2.06-.94-2.06-.94-.94-2.06-.94 2.06-2.06.94zm-11 1L8.5 8.5l.94-2.06 2.06-.94-2.06-.94L8.5 2.5l-.94 2.06-2.06.94zm10 10l.94 2.06.94-2.06 2.06-.94-2.06-.94-.94-2.06-.94 2.06-2.06.94z\"/><path d=\"M17.41 7.96l-1.37-1.37c-.4-.4-.92-.59-1.43-.59-.52 0-1.04.2-1.43.59L10.3 9.45l-7.72 7.72c-.78.78-.78 2.05 0 2.83L4 21.41c.39.39.9.59 1.41.59.51 0 1.02-.2 1.41-.59l7.78-7.78 2.81-2.81c.8-.78.8-2.07 0-2.86zM5.41 20L4 18.59l7.72-7.72 1.47 1.35L5.41 20z\"/>\n",
              "  </svg>\n",
              "      </button>\n",
              "      \n",
              "  <style>\n",
              "    .colab-df-container {\n",
              "      display:flex;\n",
              "      flex-wrap:wrap;\n",
              "      gap: 12px;\n",
              "    }\n",
              "\n",
              "    .colab-df-convert {\n",
              "      background-color: #E8F0FE;\n",
              "      border: none;\n",
              "      border-radius: 50%;\n",
              "      cursor: pointer;\n",
              "      display: none;\n",
              "      fill: #1967D2;\n",
              "      height: 32px;\n",
              "      padding: 0 0 0 0;\n",
              "      width: 32px;\n",
              "    }\n",
              "\n",
              "    .colab-df-convert:hover {\n",
              "      background-color: #E2EBFA;\n",
              "      box-shadow: 0px 1px 2px rgba(60, 64, 67, 0.3), 0px 1px 3px 1px rgba(60, 64, 67, 0.15);\n",
              "      fill: #174EA6;\n",
              "    }\n",
              "\n",
              "    [theme=dark] .colab-df-convert {\n",
              "      background-color: #3B4455;\n",
              "      fill: #D2E3FC;\n",
              "    }\n",
              "\n",
              "    [theme=dark] .colab-df-convert:hover {\n",
              "      background-color: #434B5C;\n",
              "      box-shadow: 0px 1px 3px 1px rgba(0, 0, 0, 0.15);\n",
              "      filter: drop-shadow(0px 1px 2px rgba(0, 0, 0, 0.3));\n",
              "      fill: #FFFFFF;\n",
              "    }\n",
              "  </style>\n",
              "\n",
              "      <script>\n",
              "        const buttonEl =\n",
              "          document.querySelector('#df-4f427cb5-abc5-445d-b82e-e43363aea6c2 button.colab-df-convert');\n",
              "        buttonEl.style.display =\n",
              "          google.colab.kernel.accessAllowed ? 'block' : 'none';\n",
              "\n",
              "        async function convertToInteractive(key) {\n",
              "          const element = document.querySelector('#df-4f427cb5-abc5-445d-b82e-e43363aea6c2');\n",
              "          const dataTable =\n",
              "            await google.colab.kernel.invokeFunction('convertToInteractive',\n",
              "                                                     [key], {});\n",
              "          if (!dataTable) return;\n",
              "\n",
              "          const docLinkHtml = 'Like what you see? Visit the ' +\n",
              "            '<a target=\"_blank\" href=https://colab.research.google.com/notebooks/data_table.ipynb>data table notebook</a>'\n",
              "            + ' to learn more about interactive tables.';\n",
              "          element.innerHTML = '';\n",
              "          dataTable['output_type'] = 'display_data';\n",
              "          await google.colab.output.renderOutput(dataTable, element);\n",
              "          const docLink = document.createElement('div');\n",
              "          docLink.innerHTML = docLinkHtml;\n",
              "          element.appendChild(docLink);\n",
              "        }\n",
              "      </script>\n",
              "    </div>\n",
              "  </div>\n",
              "  "
            ]
          },
          "metadata": {},
          "execution_count": 9
        }
      ]
    },
    {
      "cell_type": "markdown",
      "source": [
        "# 데이터 전처리"
      ],
      "metadata": {
        "id": "kWyddGLIpqxD"
      }
    },
    {
      "cell_type": "markdown",
      "source": [
        "## 영어 뉴스 기사 칼럼 제거"
      ],
      "metadata": {
        "id": "Hn-AnpORqAS5"
      }
    },
    {
      "cell_type": "code",
      "source": [
        "del dataset['sentence']"
      ],
      "metadata": {
        "id": "uwidSUWApm1T"
      },
      "execution_count": null,
      "outputs": []
    },
    {
      "cell_type": "markdown",
      "source": [
        "## 라벨 데이터 숫자 치환"
      ],
      "metadata": {
        "id": "0hSlYx4vqD4u"
      }
    },
    {
      "cell_type": "code",
      "source": [
        "dataset['labels'] = dataset['labels'].replace(['neutral', 'positive', 'negative'],[0, 1, 2])\n",
        "dataset.head()"
      ],
      "metadata": {
        "id": "2MS8Ov30mQga",
        "colab": {
          "base_uri": "https://localhost:8080/",
          "height": 206
        },
        "outputId": "5518548e-ff6a-4549-8814-815e86d0bc40"
      },
      "execution_count": null,
      "outputs": [
        {
          "output_type": "execute_result",
          "data": {
            "text/plain": [
              "   labels                                       kor_sentence\n",
              "0       0  Gran에 따르면, 그 회사는 회사가 성장하고 있는 곳이지만, 모든 생산을 러시아로...\n",
              "1       0  테크노폴리스는 컴퓨터 기술과 통신 분야에서 일하는 회사들을 유치하기 위해 10만 평...\n",
              "2       2  국제 전자산업 회사인 엘코텍은 탈린 공장에서 수십 명의 직원을 해고했으며, 이전의 ...\n",
              "3       1  새로운 생산공장으로 인해 회사는 예상되는 수요 증가를 충족시킬 수 있는 능력을 증가...\n",
              "4       1  2009-2012년 회사의 업데이트된 전략에 따르면, Basware는 20% - 4..."
            ],
            "text/html": [
              "\n",
              "  <div id=\"df-53d822f8-22d2-4794-a9fe-995280bff43f\">\n",
              "    <div class=\"colab-df-container\">\n",
              "      <div>\n",
              "<style scoped>\n",
              "    .dataframe tbody tr th:only-of-type {\n",
              "        vertical-align: middle;\n",
              "    }\n",
              "\n",
              "    .dataframe tbody tr th {\n",
              "        vertical-align: top;\n",
              "    }\n",
              "\n",
              "    .dataframe thead th {\n",
              "        text-align: right;\n",
              "    }\n",
              "</style>\n",
              "<table border=\"1\" class=\"dataframe\">\n",
              "  <thead>\n",
              "    <tr style=\"text-align: right;\">\n",
              "      <th></th>\n",
              "      <th>labels</th>\n",
              "      <th>kor_sentence</th>\n",
              "    </tr>\n",
              "  </thead>\n",
              "  <tbody>\n",
              "    <tr>\n",
              "      <th>0</th>\n",
              "      <td>0</td>\n",
              "      <td>Gran에 따르면, 그 회사는 회사가 성장하고 있는 곳이지만, 모든 생산을 러시아로...</td>\n",
              "    </tr>\n",
              "    <tr>\n",
              "      <th>1</th>\n",
              "      <td>0</td>\n",
              "      <td>테크노폴리스는 컴퓨터 기술과 통신 분야에서 일하는 회사들을 유치하기 위해 10만 평...</td>\n",
              "    </tr>\n",
              "    <tr>\n",
              "      <th>2</th>\n",
              "      <td>2</td>\n",
              "      <td>국제 전자산업 회사인 엘코텍은 탈린 공장에서 수십 명의 직원을 해고했으며, 이전의 ...</td>\n",
              "    </tr>\n",
              "    <tr>\n",
              "      <th>3</th>\n",
              "      <td>1</td>\n",
              "      <td>새로운 생산공장으로 인해 회사는 예상되는 수요 증가를 충족시킬 수 있는 능력을 증가...</td>\n",
              "    </tr>\n",
              "    <tr>\n",
              "      <th>4</th>\n",
              "      <td>1</td>\n",
              "      <td>2009-2012년 회사의 업데이트된 전략에 따르면, Basware는 20% - 4...</td>\n",
              "    </tr>\n",
              "  </tbody>\n",
              "</table>\n",
              "</div>\n",
              "      <button class=\"colab-df-convert\" onclick=\"convertToInteractive('df-53d822f8-22d2-4794-a9fe-995280bff43f')\"\n",
              "              title=\"Convert this dataframe to an interactive table.\"\n",
              "              style=\"display:none;\">\n",
              "        \n",
              "  <svg xmlns=\"http://www.w3.org/2000/svg\" height=\"24px\"viewBox=\"0 0 24 24\"\n",
              "       width=\"24px\">\n",
              "    <path d=\"M0 0h24v24H0V0z\" fill=\"none\"/>\n",
              "    <path d=\"M18.56 5.44l.94 2.06.94-2.06 2.06-.94-2.06-.94-.94-2.06-.94 2.06-2.06.94zm-11 1L8.5 8.5l.94-2.06 2.06-.94-2.06-.94L8.5 2.5l-.94 2.06-2.06.94zm10 10l.94 2.06.94-2.06 2.06-.94-2.06-.94-.94-2.06-.94 2.06-2.06.94z\"/><path d=\"M17.41 7.96l-1.37-1.37c-.4-.4-.92-.59-1.43-.59-.52 0-1.04.2-1.43.59L10.3 9.45l-7.72 7.72c-.78.78-.78 2.05 0 2.83L4 21.41c.39.39.9.59 1.41.59.51 0 1.02-.2 1.41-.59l7.78-7.78 2.81-2.81c.8-.78.8-2.07 0-2.86zM5.41 20L4 18.59l7.72-7.72 1.47 1.35L5.41 20z\"/>\n",
              "  </svg>\n",
              "      </button>\n",
              "      \n",
              "  <style>\n",
              "    .colab-df-container {\n",
              "      display:flex;\n",
              "      flex-wrap:wrap;\n",
              "      gap: 12px;\n",
              "    }\n",
              "\n",
              "    .colab-df-convert {\n",
              "      background-color: #E8F0FE;\n",
              "      border: none;\n",
              "      border-radius: 50%;\n",
              "      cursor: pointer;\n",
              "      display: none;\n",
              "      fill: #1967D2;\n",
              "      height: 32px;\n",
              "      padding: 0 0 0 0;\n",
              "      width: 32px;\n",
              "    }\n",
              "\n",
              "    .colab-df-convert:hover {\n",
              "      background-color: #E2EBFA;\n",
              "      box-shadow: 0px 1px 2px rgba(60, 64, 67, 0.3), 0px 1px 3px 1px rgba(60, 64, 67, 0.15);\n",
              "      fill: #174EA6;\n",
              "    }\n",
              "\n",
              "    [theme=dark] .colab-df-convert {\n",
              "      background-color: #3B4455;\n",
              "      fill: #D2E3FC;\n",
              "    }\n",
              "\n",
              "    [theme=dark] .colab-df-convert:hover {\n",
              "      background-color: #434B5C;\n",
              "      box-shadow: 0px 1px 3px 1px rgba(0, 0, 0, 0.15);\n",
              "      filter: drop-shadow(0px 1px 2px rgba(0, 0, 0, 0.3));\n",
              "      fill: #FFFFFF;\n",
              "    }\n",
              "  </style>\n",
              "\n",
              "      <script>\n",
              "        const buttonEl =\n",
              "          document.querySelector('#df-53d822f8-22d2-4794-a9fe-995280bff43f button.colab-df-convert');\n",
              "        buttonEl.style.display =\n",
              "          google.colab.kernel.accessAllowed ? 'block' : 'none';\n",
              "\n",
              "        async function convertToInteractive(key) {\n",
              "          const element = document.querySelector('#df-53d822f8-22d2-4794-a9fe-995280bff43f');\n",
              "          const dataTable =\n",
              "            await google.colab.kernel.invokeFunction('convertToInteractive',\n",
              "                                                     [key], {});\n",
              "          if (!dataTable) return;\n",
              "\n",
              "          const docLinkHtml = 'Like what you see? Visit the ' +\n",
              "            '<a target=\"_blank\" href=https://colab.research.google.com/notebooks/data_table.ipynb>data table notebook</a>'\n",
              "            + ' to learn more about interactive tables.';\n",
              "          element.innerHTML = '';\n",
              "          dataTable['output_type'] = 'display_data';\n",
              "          await google.colab.output.renderOutput(dataTable, element);\n",
              "          const docLink = document.createElement('div');\n",
              "          docLink.innerHTML = docLinkHtml;\n",
              "          element.appendChild(docLink);\n",
              "        }\n",
              "      </script>\n",
              "    </div>\n",
              "  </div>\n",
              "  "
            ]
          },
          "metadata": {},
          "execution_count": 11
        }
      ]
    },
    {
      "cell_type": "markdown",
      "source": [
        "## 결측치 확인"
      ],
      "metadata": {
        "id": "wL-n_KNVqIEb"
      }
    },
    {
      "cell_type": "code",
      "source": [
        "dataset.info()"
      ],
      "metadata": {
        "id": "Z9HMau-Wo3eN",
        "colab": {
          "base_uri": "https://localhost:8080/"
        },
        "outputId": "0d8ea716-cf2a-42cd-9fb6-d7fd600a436d"
      },
      "execution_count": null,
      "outputs": [
        {
          "output_type": "stream",
          "name": "stdout",
          "text": [
            "<class 'pandas.core.frame.DataFrame'>\n",
            "RangeIndex: 4846 entries, 0 to 4845\n",
            "Data columns (total 2 columns):\n",
            " #   Column        Non-Null Count  Dtype \n",
            "---  ------        --------------  ----- \n",
            " 0   labels        4846 non-null   int64 \n",
            " 1   kor_sentence  4846 non-null   object\n",
            "dtypes: int64(1), object(1)\n",
            "memory usage: 75.8+ KB\n"
          ]
        }
      ]
    },
    {
      "cell_type": "markdown",
      "source": [
        "## 중복 데이터 제거"
      ],
      "metadata": {
        "id": "SvDKFgLqpypm"
      }
    },
    {
      "cell_type": "code",
      "source": [
        "# 중복 데이터 확인\n",
        "dataset[dataset['kor_sentence'].duplicated()]"
      ],
      "metadata": {
        "id": "kOak2axUqU4C",
        "colab": {
          "base_uri": "https://localhost:8080/",
          "height": 645
        },
        "outputId": "0cbea961-aad7-450d-a259-1fd05ea9e7fb"
      },
      "execution_count": null,
      "outputs": [
        {
          "output_type": "execute_result",
          "data": {
            "text/plain": [
              "      labels                                       kor_sentence\n",
              "79         1  텔레콤월드와이어-2006년 4월 7일-TJ 그룹은 모닝 디지털 디자인 Oy 핀란드 ...\n",
              "789        0  그룹의 사업은 스포츠의 광범위한 포트폴리오와 모든 주요 시장에서의 입지에 의해 균형...\n",
              "1099       0                   이 발표 내용에 대한 책임은 전적으로 발행자에게 있습니다.\n",
              "1394       0  핀란드 헬싱키에 본사를 둔 레민카이넨 그룹은 토목 공학, 건축 계약, 기술 건축 서...\n",
              "1416       0  이 보고서는 블랙 앤 데커, 피스카스, 피스카스 브랜드, 후스크바르나 아웃도어 프로...\n",
              "2396       0                   알스트롬의 주가는 나스닥 OMX 헬싱키에서 인용되고 있다.\n",
              "2567       0               SSH 통신 보안 코퍼레이션은 핀란드 헬싱키에 본사를 두고 있다.\n",
              "2889       0                               재정적인 세부사항은 공개되지 않았다.\n",
              "2890       0                               재정적인 세부사항은 공개되지 않았다.\n",
              "2892       0                                   금융 조건은 공개되지 않았다.\n",
              "3050       0                               재정적인 세부사항은 제공되지 않았다.\n",
              "3051       0                               재정적인 세부사항은 공개되지 않았다.\n",
              "3094       0  Proha Plc (Euronext :7327)는 오늘 (5월 19일) 완전 소유 ...\n",
              "3206       0  공정 및 자원, 산업기계, 건축, 건축, 건설, 전기, 운송, 전자, 화학, 석유화...\n",
              "3350       0                                   판매 가격은 공개되지 않았다.\n",
              "3538       0     아스포의 그룹 구조와 비즈니스 운영은 미리 정의된 일정 없이 지속적으로 개발됩니다.\n",
              "3605       0  핀란드 탐페레에 본사를 둔 Glaston은 성장하고 있는 국제적인 유리 기술 회사입니다.\n",
              "3617       0                    2007년에 에트플랜은 125.2m의 회전율을 기록했다.\n",
              "3938       0                                그 거래의 가치는 공개되지 않았다."
            ],
            "text/html": [
              "\n",
              "  <div id=\"df-12ae403d-b8bf-4b23-a1d1-732cf5d890c5\">\n",
              "    <div class=\"colab-df-container\">\n",
              "      <div>\n",
              "<style scoped>\n",
              "    .dataframe tbody tr th:only-of-type {\n",
              "        vertical-align: middle;\n",
              "    }\n",
              "\n",
              "    .dataframe tbody tr th {\n",
              "        vertical-align: top;\n",
              "    }\n",
              "\n",
              "    .dataframe thead th {\n",
              "        text-align: right;\n",
              "    }\n",
              "</style>\n",
              "<table border=\"1\" class=\"dataframe\">\n",
              "  <thead>\n",
              "    <tr style=\"text-align: right;\">\n",
              "      <th></th>\n",
              "      <th>labels</th>\n",
              "      <th>kor_sentence</th>\n",
              "    </tr>\n",
              "  </thead>\n",
              "  <tbody>\n",
              "    <tr>\n",
              "      <th>79</th>\n",
              "      <td>1</td>\n",
              "      <td>텔레콤월드와이어-2006년 4월 7일-TJ 그룹은 모닝 디지털 디자인 Oy 핀란드 ...</td>\n",
              "    </tr>\n",
              "    <tr>\n",
              "      <th>789</th>\n",
              "      <td>0</td>\n",
              "      <td>그룹의 사업은 스포츠의 광범위한 포트폴리오와 모든 주요 시장에서의 입지에 의해 균형...</td>\n",
              "    </tr>\n",
              "    <tr>\n",
              "      <th>1099</th>\n",
              "      <td>0</td>\n",
              "      <td>이 발표 내용에 대한 책임은 전적으로 발행자에게 있습니다.</td>\n",
              "    </tr>\n",
              "    <tr>\n",
              "      <th>1394</th>\n",
              "      <td>0</td>\n",
              "      <td>핀란드 헬싱키에 본사를 둔 레민카이넨 그룹은 토목 공학, 건축 계약, 기술 건축 서...</td>\n",
              "    </tr>\n",
              "    <tr>\n",
              "      <th>1416</th>\n",
              "      <td>0</td>\n",
              "      <td>이 보고서는 블랙 앤 데커, 피스카스, 피스카스 브랜드, 후스크바르나 아웃도어 프로...</td>\n",
              "    </tr>\n",
              "    <tr>\n",
              "      <th>2396</th>\n",
              "      <td>0</td>\n",
              "      <td>알스트롬의 주가는 나스닥 OMX 헬싱키에서 인용되고 있다.</td>\n",
              "    </tr>\n",
              "    <tr>\n",
              "      <th>2567</th>\n",
              "      <td>0</td>\n",
              "      <td>SSH 통신 보안 코퍼레이션은 핀란드 헬싱키에 본사를 두고 있다.</td>\n",
              "    </tr>\n",
              "    <tr>\n",
              "      <th>2889</th>\n",
              "      <td>0</td>\n",
              "      <td>재정적인 세부사항은 공개되지 않았다.</td>\n",
              "    </tr>\n",
              "    <tr>\n",
              "      <th>2890</th>\n",
              "      <td>0</td>\n",
              "      <td>재정적인 세부사항은 공개되지 않았다.</td>\n",
              "    </tr>\n",
              "    <tr>\n",
              "      <th>2892</th>\n",
              "      <td>0</td>\n",
              "      <td>금융 조건은 공개되지 않았다.</td>\n",
              "    </tr>\n",
              "    <tr>\n",
              "      <th>3050</th>\n",
              "      <td>0</td>\n",
              "      <td>재정적인 세부사항은 제공되지 않았다.</td>\n",
              "    </tr>\n",
              "    <tr>\n",
              "      <th>3051</th>\n",
              "      <td>0</td>\n",
              "      <td>재정적인 세부사항은 공개되지 않았다.</td>\n",
              "    </tr>\n",
              "    <tr>\n",
              "      <th>3094</th>\n",
              "      <td>0</td>\n",
              "      <td>Proha Plc (Euronext :7327)는 오늘 (5월 19일) 완전 소유 ...</td>\n",
              "    </tr>\n",
              "    <tr>\n",
              "      <th>3206</th>\n",
              "      <td>0</td>\n",
              "      <td>공정 및 자원, 산업기계, 건축, 건축, 건설, 전기, 운송, 전자, 화학, 석유화...</td>\n",
              "    </tr>\n",
              "    <tr>\n",
              "      <th>3350</th>\n",
              "      <td>0</td>\n",
              "      <td>판매 가격은 공개되지 않았다.</td>\n",
              "    </tr>\n",
              "    <tr>\n",
              "      <th>3538</th>\n",
              "      <td>0</td>\n",
              "      <td>아스포의 그룹 구조와 비즈니스 운영은 미리 정의된 일정 없이 지속적으로 개발됩니다.</td>\n",
              "    </tr>\n",
              "    <tr>\n",
              "      <th>3605</th>\n",
              "      <td>0</td>\n",
              "      <td>핀란드 탐페레에 본사를 둔 Glaston은 성장하고 있는 국제적인 유리 기술 회사입니다.</td>\n",
              "    </tr>\n",
              "    <tr>\n",
              "      <th>3617</th>\n",
              "      <td>0</td>\n",
              "      <td>2007년에 에트플랜은 125.2m의 회전율을 기록했다.</td>\n",
              "    </tr>\n",
              "    <tr>\n",
              "      <th>3938</th>\n",
              "      <td>0</td>\n",
              "      <td>그 거래의 가치는 공개되지 않았다.</td>\n",
              "    </tr>\n",
              "  </tbody>\n",
              "</table>\n",
              "</div>\n",
              "      <button class=\"colab-df-convert\" onclick=\"convertToInteractive('df-12ae403d-b8bf-4b23-a1d1-732cf5d890c5')\"\n",
              "              title=\"Convert this dataframe to an interactive table.\"\n",
              "              style=\"display:none;\">\n",
              "        \n",
              "  <svg xmlns=\"http://www.w3.org/2000/svg\" height=\"24px\"viewBox=\"0 0 24 24\"\n",
              "       width=\"24px\">\n",
              "    <path d=\"M0 0h24v24H0V0z\" fill=\"none\"/>\n",
              "    <path d=\"M18.56 5.44l.94 2.06.94-2.06 2.06-.94-2.06-.94-.94-2.06-.94 2.06-2.06.94zm-11 1L8.5 8.5l.94-2.06 2.06-.94-2.06-.94L8.5 2.5l-.94 2.06-2.06.94zm10 10l.94 2.06.94-2.06 2.06-.94-2.06-.94-.94-2.06-.94 2.06-2.06.94z\"/><path d=\"M17.41 7.96l-1.37-1.37c-.4-.4-.92-.59-1.43-.59-.52 0-1.04.2-1.43.59L10.3 9.45l-7.72 7.72c-.78.78-.78 2.05 0 2.83L4 21.41c.39.39.9.59 1.41.59.51 0 1.02-.2 1.41-.59l7.78-7.78 2.81-2.81c.8-.78.8-2.07 0-2.86zM5.41 20L4 18.59l7.72-7.72 1.47 1.35L5.41 20z\"/>\n",
              "  </svg>\n",
              "      </button>\n",
              "      \n",
              "  <style>\n",
              "    .colab-df-container {\n",
              "      display:flex;\n",
              "      flex-wrap:wrap;\n",
              "      gap: 12px;\n",
              "    }\n",
              "\n",
              "    .colab-df-convert {\n",
              "      background-color: #E8F0FE;\n",
              "      border: none;\n",
              "      border-radius: 50%;\n",
              "      cursor: pointer;\n",
              "      display: none;\n",
              "      fill: #1967D2;\n",
              "      height: 32px;\n",
              "      padding: 0 0 0 0;\n",
              "      width: 32px;\n",
              "    }\n",
              "\n",
              "    .colab-df-convert:hover {\n",
              "      background-color: #E2EBFA;\n",
              "      box-shadow: 0px 1px 2px rgba(60, 64, 67, 0.3), 0px 1px 3px 1px rgba(60, 64, 67, 0.15);\n",
              "      fill: #174EA6;\n",
              "    }\n",
              "\n",
              "    [theme=dark] .colab-df-convert {\n",
              "      background-color: #3B4455;\n",
              "      fill: #D2E3FC;\n",
              "    }\n",
              "\n",
              "    [theme=dark] .colab-df-convert:hover {\n",
              "      background-color: #434B5C;\n",
              "      box-shadow: 0px 1px 3px 1px rgba(0, 0, 0, 0.15);\n",
              "      filter: drop-shadow(0px 1px 2px rgba(0, 0, 0, 0.3));\n",
              "      fill: #FFFFFF;\n",
              "    }\n",
              "  </style>\n",
              "\n",
              "      <script>\n",
              "        const buttonEl =\n",
              "          document.querySelector('#df-12ae403d-b8bf-4b23-a1d1-732cf5d890c5 button.colab-df-convert');\n",
              "        buttonEl.style.display =\n",
              "          google.colab.kernel.accessAllowed ? 'block' : 'none';\n",
              "\n",
              "        async function convertToInteractive(key) {\n",
              "          const element = document.querySelector('#df-12ae403d-b8bf-4b23-a1d1-732cf5d890c5');\n",
              "          const dataTable =\n",
              "            await google.colab.kernel.invokeFunction('convertToInteractive',\n",
              "                                                     [key], {});\n",
              "          if (!dataTable) return;\n",
              "\n",
              "          const docLinkHtml = 'Like what you see? Visit the ' +\n",
              "            '<a target=\"_blank\" href=https://colab.research.google.com/notebooks/data_table.ipynb>data table notebook</a>'\n",
              "            + ' to learn more about interactive tables.';\n",
              "          element.innerHTML = '';\n",
              "          dataTable['output_type'] = 'display_data';\n",
              "          await google.colab.output.renderOutput(dataTable, element);\n",
              "          const docLink = document.createElement('div');\n",
              "          docLink.innerHTML = docLinkHtml;\n",
              "          element.appendChild(docLink);\n",
              "        }\n",
              "      </script>\n",
              "    </div>\n",
              "  </div>\n",
              "  "
            ]
          },
          "metadata": {},
          "execution_count": 13
        }
      ]
    },
    {
      "cell_type": "code",
      "source": [
        "# 중복 데이터 제거\n",
        "dataset.drop_duplicates(subset = ['kor_sentence'], inplace = True)"
      ],
      "metadata": {
        "id": "sBe8Z4Qfp_he"
      },
      "execution_count": null,
      "outputs": []
    },
    {
      "cell_type": "markdown",
      "source": [
        "# 라벨 비율 확인"
      ],
      "metadata": {
        "id": "w8o-rdwUq8LP"
      }
    },
    {
      "cell_type": "code",
      "source": [
        "dataset['labels'].value_counts().plot(kind = 'bar')"
      ],
      "metadata": {
        "id": "NORjCUvNp9mm",
        "colab": {
          "base_uri": "https://localhost:8080/",
          "height": 283
        },
        "outputId": "29bf2eea-07e7-4962-ed22-6dc9d2d0aa2f"
      },
      "execution_count": null,
      "outputs": [
        {
          "output_type": "execute_result",
          "data": {
            "text/plain": [
              "<matplotlib.axes._subplots.AxesSubplot at 0x7fc20236c510>"
            ]
          },
          "metadata": {},
          "execution_count": 15
        },
        {
          "output_type": "display_data",
          "data": {
            "text/plain": [
              "<Figure size 432x288 with 1 Axes>"
            ],
            "image/png": "[encoded data removed]"
          },
          "metadata": {
            "needs_background": "light"
          }
        }
      ]
    },
    {
      "cell_type": "code",
      "source": [
        "dataset['labels'].value_counts(normalize = True).plot(kind = 'bar', )"
      ],
      "metadata": {
        "id": "Gqgaud01rCsw",
        "colab": {
          "base_uri": "https://localhost:8080/",
          "height": 280
        },
        "outputId": "3e7a4845-6832-4355-9d43-ed726622d6b4"
      },
      "execution_count": null,
      "outputs": [
        {
          "output_type": "execute_result",
          "data": {
            "text/plain": [
              "<matplotlib.axes._subplots.AxesSubplot at 0x7fc20223c890>"
            ]
          },
          "metadata": {},
          "execution_count": 16
        },
        {
          "output_type": "display_data",
          "data": {
            "text/plain": [
              "<Figure size 432x288 with 1 Axes>"
            ],
            "image/png": "[encoded data removed]"
          },
          "metadata": {
            "needs_background": "light"
          }
        }
      ]
    },
    {
      "cell_type": "code",
      "source": [
        "dataset['labels'].value_counts(normalize = True)"
      ],
      "metadata": {
        "id": "AuN8pEZJrQe1",
        "colab": {
          "base_uri": "https://localhost:8080/"
        },
        "outputId": "a1b5129a-568e-404e-bf7a-a3ba1e3ab135"
      },
      "execution_count": null,
      "outputs": [
        {
          "output_type": "execute_result",
          "data": {
            "text/plain": [
              "0    0.592708\n",
              "1    0.282163\n",
              "2    0.125129\n",
              "Name: labels, dtype: float64"
            ]
          },
          "metadata": {},
          "execution_count": 17
        }
      ]
    },
    {
      "cell_type": "markdown",
      "source": [
        "# 훈련/테스트 데이터 분리"
      ],
      "metadata": {
        "id": "ZDSBMlrq59ng"
      }
    },
    {
      "cell_type": "code",
      "source": [
        " #입출력 데이터 분리\n",
        "X_data = dataset['kor_sentence']\n",
        "y_data = dataset['labels']"
      ],
      "metadata": {
        "id": "exgj3Ols6DV0"
      },
      "execution_count": null,
      "outputs": []
    },
    {
      "cell_type": "code",
      "source": [
        "TEST_SIZE = 0.2\n",
        "RANDOM_STATE = 42\n",
        "X_train, X_test, y_train, y_test = train_test_split(X_data, y_data, \n",
        "                                                    test_size = TEST_SIZE, \n",
        "                                                    random_state = RANDOM_STATE, \n",
        "                                                    stratify = y_data)"
      ],
      "metadata": {
        "id": "Z4RsNzb758zK"
      },
      "execution_count": null,
      "outputs": []
    },
    {
      "cell_type": "code",
      "source": [
        "print(f\"훈련 입력 데이터 개수: {len(X_train)}\")\n",
        "print(f\"테스트 입력 데이터 개수: {len(X_test)}\")"
      ],
      "metadata": {
        "id": "J-o9-UN865IQ",
        "colab": {
          "base_uri": "https://localhost:8080/"
        },
        "outputId": "95966d32-7017-4eca-85d1-7391a142a302"
      },
      "execution_count": null,
      "outputs": [
        {
          "output_type": "stream",
          "name": "stdout",
          "text": [
            "훈련 입력 데이터 개수: 3861\n",
            "테스트 입력 데이터 개수: 966\n"
          ]
        }
      ]
    },
    {
      "cell_type": "code",
      "source": [
        "# 훈련 데이터 라벨별 비율\n",
        "y_train.value_counts(normalize = True)"
      ],
      "metadata": {
        "id": "Uhz52W-V6fNk",
        "colab": {
          "base_uri": "https://localhost:8080/"
        },
        "outputId": "e3e4f636-2b32-45d7-c160-558998329c01"
      },
      "execution_count": null,
      "outputs": [
        {
          "output_type": "execute_result",
          "data": {
            "text/plain": [
              "0    0.592852\n",
              "1    0.282051\n",
              "2    0.125097\n",
              "Name: labels, dtype: float64"
            ]
          },
          "metadata": {},
          "execution_count": 21
        }
      ]
    },
    {
      "cell_type": "code",
      "source": [
        "# 테스트 데이터 라벨별 비율\n",
        "y_test.value_counts(normalize = True)"
      ],
      "metadata": {
        "id": "A2Zloah662Bf",
        "colab": {
          "base_uri": "https://localhost:8080/"
        },
        "outputId": "c4a4ab25-9120-467f-b24f-eec5ce755525"
      },
      "execution_count": null,
      "outputs": [
        {
          "output_type": "execute_result",
          "data": {
            "text/plain": [
              "0    0.592133\n",
              "1    0.282609\n",
              "2    0.125259\n",
              "Name: labels, dtype: float64"
            ]
          },
          "metadata": {},
          "execution_count": 22
        }
      ]
    },
    {
      "cell_type": "markdown",
      "source": [
        "# BERT용 입력 데이터 포맷 변경"
      ],
      "metadata": {
        "id": "jpdWZDjw4qdj"
      }
    },
    {
      "cell_type": "code",
      "source": [
        "# 데이터 길이 제한\n",
        "MAX_SEQ_LEN = 64"
      ],
      "metadata": {
        "id": "8fGc7OQNkujl"
      },
      "execution_count": null,
      "outputs": []
    },
    {
      "cell_type": "code",
      "source": [
        "def convert_data(X_data, y_data):\n",
        "    # BERT 입력으로 들어가는 token, mask, segment, target 저장용 리스트\n",
        "    tokens, masks, segments, targets = [], [], [], []\n",
        "    \n",
        "    for X, y in tqdm(zip(X_data, y_data)):\n",
        "        # token: 입력 문장 토큰화\n",
        "        token = tokenizer.encode(X, truncation = True, padding = 'max_length', max_length = MAX_SEQ_LEN)\n",
        "        \n",
        "        # Mask: 토큰화한 문장 내 패딩이 아닌 경우 1, 패딩인 경우 0으로 초기화\n",
        "        num_zeros = token.count(0)\n",
        "        mask = [1] * (MAX_SEQ_LEN - num_zeros) + [0] * num_zeros\n",
        "        \n",
        "        # segment: 문장 전후관계 구분: 오직 한 문장이므로 모두 0으로 초기화\n",
        "        segment = [0]*MAX_SEQ_LEN\n",
        "\n",
        "        tokens.append(token)\n",
        "        masks.append(mask)\n",
        "        segments.append(segment)\n",
        "        targets.append(y)\n",
        "\n",
        "    # numpy array로 저장\n",
        "    tokens = np.array(tokens)\n",
        "    masks = np.array(masks)\n",
        "    segments = np.array(segments)\n",
        "    targets = np.array(targets)\n",
        "\n",
        "    return [tokens, masks, segments], targets"
      ],
      "metadata": {
        "id": "t7RRnhKnXkqx"
      },
      "execution_count": null,
      "outputs": []
    },
    {
      "cell_type": "code",
      "source": [
        "# train 데이터를 버트 인풋에 맞게 변환\n",
        "train_x, train_y = convert_data(X_train, y_train)"
      ],
      "metadata": {
        "id": "Vg2uudZzXkdb",
        "colab": {
          "base_uri": "https://localhost:8080/"
        },
        "outputId": "67acb8b5-b553-4bae-ef00-a7eca43cefe1"
      },
      "execution_count": null,
      "outputs": [
        {
          "output_type": "stream",
          "name": "stderr",
          "text": [
            "3861it [00:01, 2447.12it/s]\n"
          ]
        }
      ]
    },
    {
      "cell_type": "code",
      "source": [
        "# test 데이터를 버트 인풋에 맞게 변환\n",
        "test_x, test_y = convert_data(X_test, y_test)"
      ],
      "metadata": {
        "id": "8XvxHlx7Y7Zr",
        "colab": {
          "base_uri": "https://localhost:8080/"
        },
        "outputId": "2f0eb01b-494d-4999-d400-c412744a961f"
      },
      "execution_count": null,
      "outputs": [
        {
          "output_type": "stream",
          "name": "stderr",
          "text": [
            "966it [00:00, 2558.29it/s]\n"
          ]
        }
      ]
    },
    {
      "cell_type": "markdown",
      "source": [
        "# BERT 모델링"
      ],
      "metadata": {
        "id": "syg1I2wd79KM"
      }
    },
    {
      "cell_type": "code",
      "source": [
        "# token, mask, segment 입력 정의\n",
        "token_inputs = tf.keras.layers.Input((MAX_SEQ_LEN,), dtype = tf.int32, name = 'input_word_ids')\n",
        "mask_inputs = tf.keras.layers.Input((MAX_SEQ_LEN,), dtype = tf.int32, name = 'input_masks')\n",
        "segment_inputs = tf.keras.layers.Input((MAX_SEQ_LEN,), dtype = tf.int32, name = 'input_segment')\n",
        "bert_outputs = model([token_inputs, mask_inputs, segment_inputs])"
      ],
      "metadata": {
        "id": "8UImQFlH_sTY"
      },
      "execution_count": null,
      "outputs": []
    },
    {
      "cell_type": "code",
      "source": [
        "bert_outputs"
      ],
      "metadata": {
        "id": "xI9OFaHvu6Zv",
        "colab": {
          "base_uri": "https://localhost:8080/"
        },
        "outputId": "60612541-bf43-4f9e-eb69-b1c8c275f513"
      },
      "execution_count": null,
      "outputs": [
        {
          "output_type": "execute_result",
          "data": {
            "text/plain": [
              "TFSequenceClassifierOutput([('logits',\n",
              "                             <KerasTensor: shape=(None, 3) dtype=float32 (created by layer 'tf_bert_for_sequence_classification')>)])"
            ]
          },
          "metadata": {},
          "execution_count": 28
        }
      ]
    },
    {
      "cell_type": "code",
      "source": [
        "bert_output = bert_outputs[0]"
      ],
      "metadata": {
        "id": "gU8qjyNJvE5-"
      },
      "execution_count": null,
      "outputs": []
    },
    {
      "cell_type": "markdown",
      "source": [
        "# 파인튜닝: 감정 분류 모델"
      ],
      "metadata": {
        "id": "a49gVEzNvMs3"
      }
    },
    {
      "cell_type": "markdown",
      "source": [
        "## 감정 분류 모델 컴파일"
      ],
      "metadata": {
        "id": "4LpZArdSzSsz"
      }
    },
    {
      "cell_type": "code",
      "source": [
        "DROPOUT_RATE = 0.5\n",
        "NUM_CLASS = 3\n",
        "#OPTIMIZER_NAME = 'Adam'\n",
        "OPTIMIZER_NAME = 'RAdam'"
      ],
      "metadata": {
        "id": "_0fbV4P0wNkb"
      },
      "execution_count": null,
      "outputs": []
    },
    {
      "cell_type": "code",
      "source": [
        "dropout = tf.keras.layers.Dropout(DROPOUT_RATE)(bert_output)\n",
        "sentiment_layer = tf.keras.layers.Dense(NUM_CLASS, activation='softmax', kernel_initializer = tf.keras.initializers.TruncatedNormal(stddev=0.02))(dropout)\n",
        "sentiment_model = tf.keras.Model([token_inputs, mask_inputs, segment_inputs], sentiment_layer)\n",
        "\n",
        "if OPTIMIZER_NAME == 'Adam':\n",
        "  LEARNING_RATE = 5e-5\n",
        "  optimizer = tf.keras.optimizers.Adam(learning_rate = LEARNING_RATE)\n",
        "else:\n",
        "  LEARNING_RATE = 5e-5\n",
        "  TOTAL_STEPS = 10000\n",
        "  MIN_LR = 1e-5\n",
        "  WARMUP_PROPORTION = 0.1\n",
        "  EPSILON = 1e-8\n",
        "  CLIPNORM = 1.0\n",
        "  optimizer = tfa.optimizers.RectifiedAdam(learning_rate = LEARNING_RATE,\n",
        "                                           total_steps = TOTAL_STEPS, \n",
        "                                           warmup_proportion = WARMUP_PROPORTION, \n",
        "                                           min_lr = MIN_LR, \n",
        "                                           epsilon = EPSILON,\n",
        "                                           clipnorm = CLIPNORM)\n",
        "\n",
        "sentiment_model.compile(optimizer = optimizer, loss = tf.keras.losses.SparseCategoricalCrossentropy(), metrics = ['accuracy'])"
      ],
      "metadata": {
        "id": "vP-DJYERvRHf"
      },
      "execution_count": null,
      "outputs": []
    },
    {
      "cell_type": "markdown",
      "source": [
        "## 조기종료 조건"
      ],
      "metadata": {
        "id": "EQRhT4kizPq6"
      }
    },
    {
      "cell_type": "code",
      "source": [
        "MIN_DELTA = 1e-3\n",
        "PATIENCE = 5"
      ],
      "metadata": {
        "id": "Qw0CrsEEzNys"
      },
      "execution_count": null,
      "outputs": []
    },
    {
      "cell_type": "code",
      "source": [
        "early_stopping = EarlyStopping(\n",
        "    monitor = \"val_accuracy\", \n",
        "    min_delta = MIN_DELTA,\n",
        "    patience = PATIENCE)"
      ],
      "metadata": {
        "id": "rIv_SyQLyhYQ"
      },
      "execution_count": null,
      "outputs": []
    },
    {
      "cell_type": "markdown",
      "source": [
        "## 최고 성능 모델 저장"
      ],
      "metadata": {
        "id": "z2Imzd2M6eYV"
      }
    },
    {
      "cell_type": "code",
      "source": [
        "MODEL_BEST_PATH = \"./drive/MyDrive/Colab Notebooks/SCFN/model/\"\n",
        "MODEL_BEST_NAME = \"best_model_\" + MODEL_NAME + \"_\" + OPTIMIZER_NAME + \".h5\""
      ],
      "metadata": {
        "id": "c_YQXMJ-6XoS"
      },
      "execution_count": null,
      "outputs": []
    },
    {
      "cell_type": "code",
      "source": [
        "model_checkpoint = ModelCheckpoint(\n",
        "    filepath = MODEL_BEST_PATH + MODEL_BEST_NAME,\n",
        "    monitor = \"val_loss\",\n",
        "    mode = \"min\",\n",
        "    save_best_only = True,\n",
        "    verbose = 1\n",
        ")"
      ],
      "metadata": {
        "id": "t3GYMayc6KoD"
      },
      "execution_count": null,
      "outputs": []
    },
    {
      "cell_type": "code",
      "source": [
        "callbacks = [early_stopping, model_checkpoint]"
      ],
      "metadata": {
        "id": "t-LqvdE68Idq"
      },
      "execution_count": null,
      "outputs": []
    },
    {
      "cell_type": "markdown",
      "source": [
        "## 감정 분류 모델 학습"
      ],
      "metadata": {
        "id": "I8ucA5VezfoF"
      }
    },
    {
      "cell_type": "code",
      "source": [
        "EPOCHS = 100\n",
        "BATCH_SZIE = 32"
      ],
      "metadata": {
        "id": "ISOvsa3xzqBF"
      },
      "execution_count": null,
      "outputs": []
    },
    {
      "cell_type": "code",
      "source": [
        "sentiment_model.fit(train_x, train_y, \n",
        "                    epochs = EPOCHS, \n",
        "                    shuffle = True, \n",
        "                    batch_size = BATCH_SZIE, \n",
        "                    validation_data = (test_x, test_y),\n",
        "                    callbacks = callbacks\n",
        "                    )"
      ],
      "metadata": {
        "id": "Bbryv-R-ZXG-",
        "colab": {
          "base_uri": "https://localhost:8080/"
        },
        "outputId": "0bc0fdbf-6df7-448a-98e0-c1c1791d375d"
      },
      "execution_count": null,
      "outputs": [
        {
          "output_type": "stream",
          "name": "stdout",
          "text": [
            "Epoch 1/100\n",
            "121/121 [==============================] - ETA: 0s - loss: 1.0939 - accuracy: 0.3976\n",
            "Epoch 1: val_loss improved from inf to 1.08756, saving model to ./drive/MyDrive/Colab Notebooks/SCFN/model/best_model_klue_bert-base_RAdam.h5\n",
            "121/121 [==============================] - 76s 372ms/step - loss: 1.0939 - accuracy: 0.3976 - val_loss: 1.0876 - val_accuracy: 0.4306\n",
            "Epoch 2/100\n",
            "121/121 [==============================] - ETA: 0s - loss: 1.0754 - accuracy: 0.5071\n",
            "Epoch 2: val_loss improved from 1.08756 to 1.05861, saving model to ./drive/MyDrive/Colab Notebooks/SCFN/model/best_model_klue_bert-base_RAdam.h5\n",
            "121/121 [==============================] - 58s 480ms/step - loss: 1.0754 - accuracy: 0.5071 - val_loss: 1.0586 - val_accuracy: 0.5921\n",
            "Epoch 3/100\n",
            "121/121 [==============================] - ETA: 0s - loss: 1.0486 - accuracy: 0.5110\n",
            "Epoch 3: val_loss improved from 1.05861 to 1.02195, saving model to ./drive/MyDrive/Colab Notebooks/SCFN/model/best_model_klue_bert-base_RAdam.h5\n",
            "121/121 [==============================] - 54s 444ms/step - loss: 1.0486 - accuracy: 0.5110 - val_loss: 1.0219 - val_accuracy: 0.6687\n",
            "Epoch 4/100\n",
            "121/121 [==============================] - ETA: 0s - loss: 0.9914 - accuracy: 0.6035\n",
            "Epoch 4: val_loss improved from 1.02195 to 0.93973, saving model to ./drive/MyDrive/Colab Notebooks/SCFN/model/best_model_klue_bert-base_RAdam.h5\n",
            "121/121 [==============================] - 54s 450ms/step - loss: 0.9914 - accuracy: 0.6035 - val_loss: 0.9397 - val_accuracy: 0.7774\n",
            "Epoch 5/100\n",
            "121/121 [==============================] - ETA: 0s - loss: 0.9121 - accuracy: 0.6770\n",
            "Epoch 5: val_loss improved from 0.93973 to 0.86505, saving model to ./drive/MyDrive/Colab Notebooks/SCFN/model/best_model_klue_bert-base_RAdam.h5\n",
            "121/121 [==============================] - 53s 436ms/step - loss: 0.9121 - accuracy: 0.6770 - val_loss: 0.8650 - val_accuracy: 0.8251\n",
            "Epoch 6/100\n",
            "121/121 [==============================] - ETA: 0s - loss: 0.8458 - accuracy: 0.7252\n",
            "Epoch 6: val_loss improved from 0.86505 to 0.80868, saving model to ./drive/MyDrive/Colab Notebooks/SCFN/model/best_model_klue_bert-base_RAdam.h5\n",
            "121/121 [==============================] - 55s 454ms/step - loss: 0.8458 - accuracy: 0.7252 - val_loss: 0.8087 - val_accuracy: 0.8054\n",
            "Epoch 7/100\n",
            "121/121 [==============================] - ETA: 0s - loss: 0.7849 - accuracy: 0.7255\n",
            "Epoch 7: val_loss improved from 0.80868 to 0.70906, saving model to ./drive/MyDrive/Colab Notebooks/SCFN/model/best_model_klue_bert-base_RAdam.h5\n",
            "121/121 [==============================] - 55s 456ms/step - loss: 0.7849 - accuracy: 0.7255 - val_loss: 0.7091 - val_accuracy: 0.8458\n",
            "Epoch 8/100\n",
            "121/121 [==============================] - ETA: 0s - loss: 0.7180 - accuracy: 0.7459\n",
            "Epoch 8: val_loss improved from 0.70906 to 0.65153, saving model to ./drive/MyDrive/Colab Notebooks/SCFN/model/best_model_klue_bert-base_RAdam.h5\n",
            "121/121 [==============================] - 55s 455ms/step - loss: 0.7180 - accuracy: 0.7459 - val_loss: 0.6515 - val_accuracy: 0.8251\n",
            "Epoch 9/100\n",
            "121/121 [==============================] - ETA: 0s - loss: 0.6707 - accuracy: 0.7501\n",
            "Epoch 9: val_loss improved from 0.65153 to 0.58365, saving model to ./drive/MyDrive/Colab Notebooks/SCFN/model/best_model_klue_bert-base_RAdam.h5\n",
            "121/121 [==============================] - 55s 457ms/step - loss: 0.6707 - accuracy: 0.7501 - val_loss: 0.5837 - val_accuracy: 0.8292\n",
            "Epoch 10/100\n",
            "121/121 [==============================] - ETA: 0s - loss: 0.5966 - accuracy: 0.7713\n",
            "Epoch 10: val_loss improved from 0.58365 to 0.53435, saving model to ./drive/MyDrive/Colab Notebooks/SCFN/model/best_model_klue_bert-base_RAdam.h5\n",
            "121/121 [==============================] - 52s 434ms/step - loss: 0.5966 - accuracy: 0.7713 - val_loss: 0.5344 - val_accuracy: 0.8416\n",
            "Epoch 11/100\n",
            "121/121 [==============================] - ETA: 0s - loss: 0.5599 - accuracy: 0.7749\n",
            "Epoch 11: val_loss improved from 0.53435 to 0.49714, saving model to ./drive/MyDrive/Colab Notebooks/SCFN/model/best_model_klue_bert-base_RAdam.h5\n",
            "121/121 [==============================] - 53s 438ms/step - loss: 0.5599 - accuracy: 0.7749 - val_loss: 0.4971 - val_accuracy: 0.8395\n",
            "Epoch 12/100\n",
            "121/121 [==============================] - ETA: 0s - loss: 0.5080 - accuracy: 0.7835\n",
            "Epoch 12: val_loss improved from 0.49714 to 0.45686, saving model to ./drive/MyDrive/Colab Notebooks/SCFN/model/best_model_klue_bert-base_RAdam.h5\n",
            "121/121 [==============================] - 54s 448ms/step - loss: 0.5080 - accuracy: 0.7835 - val_loss: 0.4569 - val_accuracy: 0.8468\n",
            "Epoch 13/100\n",
            "121/121 [==============================] - ETA: 0s - loss: 0.4698 - accuracy: 0.8011\n",
            "Epoch 13: val_loss did not improve from 0.45686\n",
            "121/121 [==============================] - 38s 313ms/step - loss: 0.4698 - accuracy: 0.8011 - val_loss: 0.4709 - val_accuracy: 0.8395\n",
            "Epoch 14/100\n",
            "121/121 [==============================] - ETA: 0s - loss: 0.4431 - accuracy: 0.8001\n",
            "Epoch 14: val_loss did not improve from 0.45686\n",
            "121/121 [==============================] - 38s 312ms/step - loss: 0.4431 - accuracy: 0.8001 - val_loss: 0.4853 - val_accuracy: 0.8313\n",
            "Epoch 15/100\n",
            "121/121 [==============================] - ETA: 0s - loss: 0.4474 - accuracy: 0.7990\n",
            "Epoch 15: val_loss did not improve from 0.45686\n",
            "121/121 [==============================] - 38s 312ms/step - loss: 0.4474 - accuracy: 0.7990 - val_loss: 0.4664 - val_accuracy: 0.8416\n",
            "Epoch 16/100\n",
            "121/121 [==============================] - ETA: 0s - loss: 0.4175 - accuracy: 0.8070\n",
            "Epoch 16: val_loss did not improve from 0.45686\n",
            "121/121 [==============================] - 38s 312ms/step - loss: 0.4175 - accuracy: 0.8070 - val_loss: 0.5239 - val_accuracy: 0.8375\n",
            "Epoch 17/100\n",
            "121/121 [==============================] - ETA: 0s - loss: 0.4151 - accuracy: 0.8016\n",
            "Epoch 17: val_loss did not improve from 0.45686\n",
            "121/121 [==============================] - 38s 312ms/step - loss: 0.4151 - accuracy: 0.8016 - val_loss: 0.4797 - val_accuracy: 0.8458\n"
          ]
        },
        {
          "output_type": "execute_result",
          "data": {
            "text/plain": [
              "<keras.callbacks.History at 0x7fc1d00c8e10>"
            ]
          },
          "metadata": {},
          "execution_count": 38
        }
      ]
    },
    {
      "cell_type": "markdown",
      "source": [
        "# 감정 분류의 예측값 계산"
      ],
      "metadata": {
        "id": "D7jwEADhEcov"
      }
    },
    {
      "cell_type": "code",
      "source": [
        "# 최고 성능의 모델 불러오기\n",
        "sentiment_model_best = tf.keras.models.load_model(MODEL_BEST_PATH + MODEL_BEST_NAME, \n",
        "                                                  custom_objects={'TFBertForSequenceClassification': TFBertForSequenceClassification})"
      ],
      "metadata": {
        "id": "yvYDJdGZGyJM"
      },
      "execution_count": null,
      "outputs": []
    },
    {
      "cell_type": "code",
      "source": [
        "# 모델이 예측한 라벨 도출\n",
        "predicted_value = sentiment_model_best.predict(test_x)\n",
        "predicted_label = np.argmax(predicted_value, axis = 1)"
      ],
      "metadata": {
        "id": "9kRF4Gr4nZNv"
      },
      "execution_count": null,
      "outputs": []
    },
    {
      "cell_type": "markdown",
      "source": [
        "# 감정 분류 모델의 성능 평가"
      ],
      "metadata": {
        "id": "phuquyErDneq"
      }
    },
    {
      "cell_type": "markdown",
      "source": [
        "## Classification Report"
      ],
      "metadata": {
        "id": "cl0qJh1Onmoa"
      }
    },
    {
      "cell_type": "code",
      "source": [
        "print(classification_report(test_y, predicted_label))"
      ],
      "metadata": {
        "id": "NNCwdKBtGemR",
        "colab": {
          "base_uri": "https://localhost:8080/"
        },
        "outputId": "37343e47-ac07-43d9-9c2b-b67031dc58ec"
      },
      "execution_count": null,
      "outputs": [
        {
          "output_type": "stream",
          "name": "stdout",
          "text": [
            "              precision    recall  f1-score   support\n",
            "\n",
            "           0       0.87      0.89      0.88       572\n",
            "           1       0.78      0.77      0.78       273\n",
            "           2       0.86      0.81      0.83       121\n",
            "\n",
            "    accuracy                           0.85       966\n",
            "   macro avg       0.84      0.82      0.83       966\n",
            "weighted avg       0.85      0.85      0.85       966\n",
            "\n"
          ]
        }
      ]
    },
    {
      "cell_type": "markdown",
      "source": [
        "## Confusion Matrix"
      ],
      "metadata": {
        "id": "ZDc50YeVJ4Bt"
      }
    },
    {
      "cell_type": "code",
      "source": [
        "# 이미지 파일 저장정보\n",
        "FIGURE_PATH = \"./drive/MyDrive/Colab Notebooks/SCFN/figure/\"\n",
        "FIGURE_NAME = \"cf_matrix_\" + MODEL_NAME + \"_\" + OPTIMIZER_NAME + \".png\""
      ],
      "metadata": {
        "id": "vd8mPvYAJ4gQ"
      },
      "execution_count": null,
      "outputs": []
    },
    {
      "cell_type": "code",
      "source": [
        "cf_matrix = confusion_matrix(test_y, predicted_label)\n",
        "fig, ax = plt.subplots(figsize = (8,6))\n",
        "sns.heatmap(cf_matrix, annot = True, fmt = 'd')\n",
        "plt.ylabel('Actual')\n",
        "plt.xlabel('Predicted')\n",
        "plt.savefig(FIGURE_PATH + FIGURE_NAME)\n",
        "plt.show()"
      ],
      "metadata": {
        "id": "qFSBLIhAnfIT",
        "colab": {
          "base_uri": "https://localhost:8080/",
          "height": 388
        },
        "outputId": "3d1ee6ac-d763-4891-9734-3c917c982040"
      },
      "execution_count": null,
      "outputs": [
        {
          "output_type": "display_data",
          "data": {
            "text/plain": [
              "<Figure size 576x432 with 2 Axes>"
            ],
            "image/png": "[encoded data removed]"
          },
          "metadata": {
            "needs_background": "light"
          }
        }
      ]
    },
    {
      "cell_type": "markdown",
      "source": [
        "## Accracy"
      ],
      "metadata": {
        "id": "vs_QPZulZ0SK"
      }
    },
    {
      "cell_type": "code",
      "source": [
        "accuracy_score_v = round(accuracy_score(y_test, predicted_label), 3)"
      ],
      "metadata": {
        "id": "-gDE6sSZZ0lg"
      },
      "execution_count": null,
      "outputs": []
    },
    {
      "cell_type": "markdown",
      "source": [
        "## Precision"
      ],
      "metadata": {
        "id": "L5jrTOVFZ019"
      }
    },
    {
      "cell_type": "code",
      "source": [
        "precision_score_v = round(precision_score(y_test, predicted_label, average=\"weighted\"), 3)"
      ],
      "metadata": {
        "id": "Lr0i4gd7Z1K6"
      },
      "execution_count": null,
      "outputs": []
    },
    {
      "cell_type": "markdown",
      "source": [
        "## Recall"
      ],
      "metadata": {
        "id": "IkcS6giKZ1hC"
      }
    },
    {
      "cell_type": "code",
      "source": [
        "recall_score_v = round(recall_score(y_test, predicted_label, average=\"weighted\"), 3)"
      ],
      "metadata": {
        "id": "iZoewy95Z1w1"
      },
      "execution_count": null,
      "outputs": []
    },
    {
      "cell_type": "markdown",
      "source": [
        "## F1 Score"
      ],
      "metadata": {
        "id": "Vfm_XDL8Z7b7"
      }
    },
    {
      "cell_type": "code",
      "source": [
        "f1_score_v = round(f1_score(y_test, predicted_label, average=\"weighted\"), 3)"
      ],
      "metadata": {
        "id": "MOBfgjgpZ1-j"
      },
      "execution_count": null,
      "outputs": []
    },
    {
      "cell_type": "markdown",
      "source": [
        "## ROC AUC Score"
      ],
      "metadata": {
        "id": "wk2FtPZs6sTq"
      }
    },
    {
      "cell_type": "code",
      "source": [
        "roc_auc_score_v = round(roc_auc_score(y_test, predicted_value, average=\"weighted\", multi_class=\"ovr\"), 3)"
      ],
      "metadata": {
        "id": "3-0rFdsQY39E"
      },
      "execution_count": null,
      "outputs": []
    },
    {
      "cell_type": "markdown",
      "source": [
        "## Cohen’s Kappa score"
      ],
      "metadata": {
        "id": "Zyc8GzsmZDMz"
      }
    },
    {
      "cell_type": "code",
      "source": [
        "cohen_kappa_score_v = round(cohen_kappa_score(y_test, predicted_label), 3)"
      ],
      "metadata": {
        "id": "6d16_PkxZDk5"
      },
      "execution_count": null,
      "outputs": []
    },
    {
      "cell_type": "markdown",
      "source": [
        "## Matthew’s correlation coefficient"
      ],
      "metadata": {
        "id": "ptGWIxkGZNv9"
      }
    },
    {
      "cell_type": "code",
      "source": [
        "matthews_corrcoef_v = round(matthews_corrcoef(y_test, predicted_label), 3)"
      ],
      "metadata": {
        "id": "WSArylTCZD8D"
      },
      "execution_count": null,
      "outputs": []
    },
    {
      "cell_type": "markdown",
      "source": [
        "## Log loss"
      ],
      "metadata": {
        "id": "haefR9-YZawV"
      }
    },
    {
      "cell_type": "code",
      "source": [
        "log_loss_v = round(log_loss(y_test, predicted_value), 3)"
      ],
      "metadata": {
        "id": "5sj5KMMcZbsd"
      },
      "execution_count": null,
      "outputs": []
    },
    {
      "cell_type": "markdown",
      "source": [
        "## 전체 평가지표"
      ],
      "metadata": {
        "id": "zqy9AnwtZcJS"
      }
    },
    {
      "cell_type": "code",
      "source": [
        "METRIC_PATH = \"./drive/MyDrive/Colab Notebooks/SCFN/metric/\"\n",
        "METRIC_NAME = \"metric_\" + MODEL_NAME + \"_\" + OPTIMIZER_NAME + \".csv\""
      ],
      "metadata": {
        "id": "szeM6mg0c9Ni"
      },
      "execution_count": null,
      "outputs": []
    },
    {
      "cell_type": "code",
      "source": [
        "metric_total = pd.DataFrame({\n",
        "    'PLM': MODEL_NAME,\n",
        "    'Optimizer': OPTIMIZER_NAME,\n",
        "    'Accuracy': accuracy_score_v,\n",
        "    'Precision': precision_score_v,\n",
        "    'Recall': recall_score_v,\n",
        "    'F1_score': f1_score_v,\n",
        "    'ROC_AUC_score': roc_auc_score_v,\n",
        "    'Cohen_kappa_coef': cohen_kappa_score_v,\n",
        "    'Matthews_corrcoef': matthews_corrcoef_v,\n",
        "    'Log_loss': log_loss_v},\n",
        "    index = ['score'])"
      ],
      "metadata": {
        "id": "KsOSjafkZrE2"
      },
      "execution_count": null,
      "outputs": []
    },
    {
      "cell_type": "code",
      "source": [
        "metric_total.to_csv(METRIC_PATH + METRIC_NAME)"
      ],
      "metadata": {
        "id": "CxulEykgc-Xi"
      },
      "execution_count": null,
      "outputs": []
    },
    {
      "cell_type": "code",
      "source": [
        "print(metric_total)"
      ],
      "metadata": {
        "id": "jqneTNaQrt0R",
        "colab": {
          "base_uri": "https://localhost:8080/"
        },
        "outputId": "c0c9b54f-57a3-4611-f50b-f4a7baa5a73d"
      },
      "execution_count": null,
      "outputs": [
        {
          "output_type": "stream",
          "name": "stdout",
          "text": [
            "                  PLM Optimizer  Accuracy  Precision  Recall  F1_score  \\\n",
            "score  klue_bert-base     RAdam     0.847      0.846   0.847     0.846   \n",
            "\n",
            "       ROC_AUC_score  Cohen_kappa_coef  Matthews_corrcoef  Log_loss  \n",
            "score           0.93             0.721              0.721     0.457  \n"
          ]
        }
      ]
    }
  ]
}