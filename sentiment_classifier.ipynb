{
  "nbformat": 4,
  "nbformat_minor": 0,
  "metadata": {
    "colab": {
      "name": "sentiment_classifier.ipynb",
      "provenance": [],
      "collapsed_sections": [],
      "machine_shape": "hm",
      "toc_visible": true,
      "include_colab_link": true
    },
    "kernelspec": {
      "name": "python3",
      "display_name": "Python 3"
    },
    "language_info": {
      "name": "python"
    },
    "accelerator": "GPU",
    "widgets": {
      "application/vnd.jupyter.widget-state+json": {
        "eec3ba159396430c9f0505d16b5e4cdf": {
          "model_module": "@jupyter-widgets/controls",
          "model_name": "HBoxModel",
          "model_module_version": "1.5.0",
          "state": {
            "_dom_classes": [],
            "_model_module": "@jupyter-widgets/controls",
            "_model_module_version": "1.5.0",
            "_model_name": "HBoxModel",
            "_view_count": null,
            "_view_module": "@jupyter-widgets/controls",
            "_view_module_version": "1.5.0",
            "_view_name": "HBoxView",
            "box_style": "",
            "children": [
              "IPY_MODEL_db77e634d38647eea852ffbf4b07e2af",
              "IPY_MODEL_7f85e17ddd4249b2bf97de805352733b",
              "IPY_MODEL_e41afb0ac1e84b9399fed84981c25bdb"
            ],
            "layout": "IPY_MODEL_a30625554beb4cefafe3793a801c4767"
          }
        },
        "db77e634d38647eea852ffbf4b07e2af": {
          "model_module": "@jupyter-widgets/controls",
          "model_name": "HTMLModel",
          "model_module_version": "1.5.0",
          "state": {
            "_dom_classes": [],
            "_model_module": "@jupyter-widgets/controls",
            "_model_module_version": "1.5.0",
            "_model_name": "HTMLModel",
            "_view_count": null,
            "_view_module": "@jupyter-widgets/controls",
            "_view_module_version": "1.5.0",
            "_view_name": "HTMLView",
            "description": "",
            "description_tooltip": null,
            "layout": "IPY_MODEL_978d1990582146799c04423a5d1bf873",
            "placeholder": "​",
            "style": "IPY_MODEL_4f8debe029f34055be6a5fb133eece9c",
            "value": "Downloading: 100%"
          }
        },
        "7f85e17ddd4249b2bf97de805352733b": {
          "model_module": "@jupyter-widgets/controls",
          "model_name": "FloatProgressModel",
          "model_module_version": "1.5.0",
          "state": {
            "_dom_classes": [],
            "_model_module": "@jupyter-widgets/controls",
            "_model_module_version": "1.5.0",
            "_model_name": "FloatProgressModel",
            "_view_count": null,
            "_view_module": "@jupyter-widgets/controls",
            "_view_module_version": "1.5.0",
            "_view_name": "ProgressView",
            "bar_style": "success",
            "description": "",
            "description_tooltip": null,
            "layout": "IPY_MODEL_e3ecc8a693dc4b8f9ddc2901ce7594c1",
            "max": 425,
            "min": 0,
            "orientation": "horizontal",
            "style": "IPY_MODEL_bd2e4a84bd524237a8036c37167ba27b",
            "value": 425
          }
        },
        "e41afb0ac1e84b9399fed84981c25bdb": {
          "model_module": "@jupyter-widgets/controls",
          "model_name": "HTMLModel",
          "model_module_version": "1.5.0",
          "state": {
            "_dom_classes": [],
            "_model_module": "@jupyter-widgets/controls",
            "_model_module_version": "1.5.0",
            "_model_name": "HTMLModel",
            "_view_count": null,
            "_view_module": "@jupyter-widgets/controls",
            "_view_module_version": "1.5.0",
            "_view_name": "HTMLView",
            "description": "",
            "description_tooltip": null,
            "layout": "IPY_MODEL_dbad44dc1dd840dbb118d7014a7d02f5",
            "placeholder": "​",
            "style": "IPY_MODEL_3ca2c3ae335f44f3961dfc0a3f49a127",
            "value": " 425/425 [00:00&lt;00:00, 13.4kB/s]"
          }
        },
        "a30625554beb4cefafe3793a801c4767": {
          "model_module": "@jupyter-widgets/base",
          "model_name": "LayoutModel",
          "model_module_version": "1.2.0",
          "state": {
            "_model_module": "@jupyter-widgets/base",
            "_model_module_version": "1.2.0",
            "_model_name": "LayoutModel",
            "_view_count": null,
            "_view_module": "@jupyter-widgets/base",
            "_view_module_version": "1.2.0",
            "_view_name": "LayoutView",
            "align_content": null,
            "align_items": null,
            "align_self": null,
            "border": null,
            "bottom": null,
            "display": null,
            "flex": null,
            "flex_flow": null,
            "grid_area": null,
            "grid_auto_columns": null,
            "grid_auto_flow": null,
            "grid_auto_rows": null,
            "grid_column": null,
            "grid_gap": null,
            "grid_row": null,
            "grid_template_areas": null,
            "grid_template_columns": null,
            "grid_template_rows": null,
            "height": null,
            "justify_content": null,
            "justify_items": null,
            "left": null,
            "margin": null,
            "max_height": null,
            "max_width": null,
            "min_height": null,
            "min_width": null,
            "object_fit": null,
            "object_position": null,
            "order": null,
            "overflow": null,
            "overflow_x": null,
            "overflow_y": null,
            "padding": null,
            "right": null,
            "top": null,
            "visibility": null,
            "width": null
          }
        },
        "978d1990582146799c04423a5d1bf873": {
          "model_module": "@jupyter-widgets/base",
          "model_name": "LayoutModel",
          "model_module_version": "1.2.0",
          "state": {
            "_model_module": "@jupyter-widgets/base",
            "_model_module_version": "1.2.0",
            "_model_name": "LayoutModel",
            "_view_count": null,
            "_view_module": "@jupyter-widgets/base",
            "_view_module_version": "1.2.0",
            "_view_name": "LayoutView",
            "align_content": null,
            "align_items": null,
            "align_self": null,
            "border": null,
            "bottom": null,
            "display": null,
            "flex": null,
            "flex_flow": null,
            "grid_area": null,
            "grid_auto_columns": null,
            "grid_auto_flow": null,
            "grid_auto_rows": null,
            "grid_column": null,
            "grid_gap": null,
            "grid_row": null,
            "grid_template_areas": null,
            "grid_template_columns": null,
            "grid_template_rows": null,
            "height": null,
            "justify_content": null,
            "justify_items": null,
            "left": null,
            "margin": null,
            "max_height": null,
            "max_width": null,
            "min_height": null,
            "min_width": null,
            "object_fit": null,
            "object_position": null,
            "order": null,
            "overflow": null,
            "overflow_x": null,
            "overflow_y": null,
            "padding": null,
            "right": null,
            "top": null,
            "visibility": null,
            "width": null
          }
        },
        "4f8debe029f34055be6a5fb133eece9c": {
          "model_module": "@jupyter-widgets/controls",
          "model_name": "DescriptionStyleModel",
          "model_module_version": "1.5.0",
          "state": {
            "_model_module": "@jupyter-widgets/controls",
            "_model_module_version": "1.5.0",
            "_model_name": "DescriptionStyleModel",
            "_view_count": null,
            "_view_module": "@jupyter-widgets/base",
            "_view_module_version": "1.2.0",
            "_view_name": "StyleView",
            "description_width": ""
          }
        },
        "e3ecc8a693dc4b8f9ddc2901ce7594c1": {
          "model_module": "@jupyter-widgets/base",
          "model_name": "LayoutModel",
          "model_module_version": "1.2.0",
          "state": {
            "_model_module": "@jupyter-widgets/base",
            "_model_module_version": "1.2.0",
            "_model_name": "LayoutModel",
            "_view_count": null,
            "_view_module": "@jupyter-widgets/base",
            "_view_module_version": "1.2.0",
            "_view_name": "LayoutView",
            "align_content": null,
            "align_items": null,
            "align_self": null,
            "border": null,
            "bottom": null,
            "display": null,
            "flex": null,
            "flex_flow": null,
            "grid_area": null,
            "grid_auto_columns": null,
            "grid_auto_flow": null,
            "grid_auto_rows": null,
            "grid_column": null,
            "grid_gap": null,
            "grid_row": null,
            "grid_template_areas": null,
            "grid_template_columns": null,
            "grid_template_rows": null,
            "height": null,
            "justify_content": null,
            "justify_items": null,
            "left": null,
            "margin": null,
            "max_height": null,
            "max_width": null,
            "min_height": null,
            "min_width": null,
            "object_fit": null,
            "object_position": null,
            "order": null,
            "overflow": null,
            "overflow_x": null,
            "overflow_y": null,
            "padding": null,
            "right": null,
            "top": null,
            "visibility": null,
            "width": null
          }
        },
        "bd2e4a84bd524237a8036c37167ba27b": {
          "model_module": "@jupyter-widgets/controls",
          "model_name": "ProgressStyleModel",
          "model_module_version": "1.5.0",
          "state": {
            "_model_module": "@jupyter-widgets/controls",
            "_model_module_version": "1.5.0",
            "_model_name": "ProgressStyleModel",
            "_view_count": null,
            "_view_module": "@jupyter-widgets/base",
            "_view_module_version": "1.2.0",
            "_view_name": "StyleView",
            "bar_color": null,
            "description_width": ""
          }
        },
        "dbad44dc1dd840dbb118d7014a7d02f5": {
          "model_module": "@jupyter-widgets/base",
          "model_name": "LayoutModel",
          "model_module_version": "1.2.0",
          "state": {
            "_model_module": "@jupyter-widgets/base",
            "_model_module_version": "1.2.0",
            "_model_name": "LayoutModel",
            "_view_count": null,
            "_view_module": "@jupyter-widgets/base",
            "_view_module_version": "1.2.0",
            "_view_name": "LayoutView",
            "align_content": null,
            "align_items": null,
            "align_self": null,
            "border": null,
            "bottom": null,
            "display": null,
            "flex": null,
            "flex_flow": null,
            "grid_area": null,
            "grid_auto_columns": null,
            "grid_auto_flow": null,
            "grid_auto_rows": null,
            "grid_column": null,
            "grid_gap": null,
            "grid_row": null,
            "grid_template_areas": null,
            "grid_template_columns": null,
            "grid_template_rows": null,
            "height": null,
            "justify_content": null,
            "justify_items": null,
            "left": null,
            "margin": null,
            "max_height": null,
            "max_width": null,
            "min_height": null,
            "min_width": null,
            "object_fit": null,
            "object_position": null,
            "order": null,
            "overflow": null,
            "overflow_x": null,
            "overflow_y": null,
            "padding": null,
            "right": null,
            "top": null,
            "visibility": null,
            "width": null
          }
        },
        "3ca2c3ae335f44f3961dfc0a3f49a127": {
          "model_module": "@jupyter-widgets/controls",
          "model_name": "DescriptionStyleModel",
          "model_module_version": "1.5.0",
          "state": {
            "_model_module": "@jupyter-widgets/controls",
            "_model_module_version": "1.5.0",
            "_model_name": "DescriptionStyleModel",
            "_view_count": null,
            "_view_module": "@jupyter-widgets/base",
            "_view_module_version": "1.2.0",
            "_view_name": "StyleView",
            "description_width": ""
          }
        },
        "374105769ad9419e9b474b892726639c": {
          "model_module": "@jupyter-widgets/controls",
          "model_name": "HBoxModel",
          "model_module_version": "1.5.0",
          "state": {
            "_dom_classes": [],
            "_model_module": "@jupyter-widgets/controls",
            "_model_module_version": "1.5.0",
            "_model_name": "HBoxModel",
            "_view_count": null,
            "_view_module": "@jupyter-widgets/controls",
            "_view_module_version": "1.5.0",
            "_view_name": "HBoxView",
            "box_style": "",
            "children": [
              "IPY_MODEL_efee51f2c4d54284a4cb5659115b9255",
              "IPY_MODEL_76bb6f1cda5343ff93eaf75334ee4377",
              "IPY_MODEL_6089c607338f4e35a2e880d320ddfd70"
            ],
            "layout": "IPY_MODEL_ccbb8d84e08546e7be609d6dc221d178"
          }
        },
        "efee51f2c4d54284a4cb5659115b9255": {
          "model_module": "@jupyter-widgets/controls",
          "model_name": "HTMLModel",
          "model_module_version": "1.5.0",
          "state": {
            "_dom_classes": [],
            "_model_module": "@jupyter-widgets/controls",
            "_model_module_version": "1.5.0",
            "_model_name": "HTMLModel",
            "_view_count": null,
            "_view_module": "@jupyter-widgets/controls",
            "_view_module_version": "1.5.0",
            "_view_name": "HTMLView",
            "description": "",
            "description_tooltip": null,
            "layout": "IPY_MODEL_3a0fc779b2c74243be1efe1996206bb0",
            "placeholder": "​",
            "style": "IPY_MODEL_e9cf06a399924a8f8592ffcaf269bcb9",
            "value": "Downloading: 100%"
          }
        },
        "76bb6f1cda5343ff93eaf75334ee4377": {
          "model_module": "@jupyter-widgets/controls",
          "model_name": "FloatProgressModel",
          "model_module_version": "1.5.0",
          "state": {
            "_dom_classes": [],
            "_model_module": "@jupyter-widgets/controls",
            "_model_module_version": "1.5.0",
            "_model_name": "FloatProgressModel",
            "_view_count": null,
            "_view_module": "@jupyter-widgets/controls",
            "_view_module_version": "1.5.0",
            "_view_name": "ProgressView",
            "bar_style": "success",
            "description": "",
            "description_tooltip": null,
            "layout": "IPY_MODEL_039bd65fd8ad4d768c1f24ba5c16bbf1",
            "max": 445025130,
            "min": 0,
            "orientation": "horizontal",
            "style": "IPY_MODEL_c0e4ceb12685474baf39d426123631e4",
            "value": 445025130
          }
        },
        "6089c607338f4e35a2e880d320ddfd70": {
          "model_module": "@jupyter-widgets/controls",
          "model_name": "HTMLModel",
          "model_module_version": "1.5.0",
          "state": {
            "_dom_classes": [],
            "_model_module": "@jupyter-widgets/controls",
            "_model_module_version": "1.5.0",
            "_model_name": "HTMLModel",
            "_view_count": null,
            "_view_module": "@jupyter-widgets/controls",
            "_view_module_version": "1.5.0",
            "_view_name": "HTMLView",
            "description": "",
            "description_tooltip": null,
            "layout": "IPY_MODEL_f52f4569299b4140b54bede3102f5f8d",
            "placeholder": "​",
            "style": "IPY_MODEL_38168a4788d644d7a631902c9f431c6a",
            "value": " 424M/424M [00:14&lt;00:00, 26.3MB/s]"
          }
        },
        "ccbb8d84e08546e7be609d6dc221d178": {
          "model_module": "@jupyter-widgets/base",
          "model_name": "LayoutModel",
          "model_module_version": "1.2.0",
          "state": {
            "_model_module": "@jupyter-widgets/base",
            "_model_module_version": "1.2.0",
            "_model_name": "LayoutModel",
            "_view_count": null,
            "_view_module": "@jupyter-widgets/base",
            "_view_module_version": "1.2.0",
            "_view_name": "LayoutView",
            "align_content": null,
            "align_items": null,
            "align_self": null,
            "border": null,
            "bottom": null,
            "display": null,
            "flex": null,
            "flex_flow": null,
            "grid_area": null,
            "grid_auto_columns": null,
            "grid_auto_flow": null,
            "grid_auto_rows": null,
            "grid_column": null,
            "grid_gap": null,
            "grid_row": null,
            "grid_template_areas": null,
            "grid_template_columns": null,
            "grid_template_rows": null,
            "height": null,
            "justify_content": null,
            "justify_items": null,
            "left": null,
            "margin": null,
            "max_height": null,
            "max_width": null,
            "min_height": null,
            "min_width": null,
            "object_fit": null,
            "object_position": null,
            "order": null,
            "overflow": null,
            "overflow_x": null,
            "overflow_y": null,
            "padding": null,
            "right": null,
            "top": null,
            "visibility": null,
            "width": null
          }
        },
        "3a0fc779b2c74243be1efe1996206bb0": {
          "model_module": "@jupyter-widgets/base",
          "model_name": "LayoutModel",
          "model_module_version": "1.2.0",
          "state": {
            "_model_module": "@jupyter-widgets/base",
            "_model_module_version": "1.2.0",
            "_model_name": "LayoutModel",
            "_view_count": null,
            "_view_module": "@jupyter-widgets/base",
            "_view_module_version": "1.2.0",
            "_view_name": "LayoutView",
            "align_content": null,
            "align_items": null,
            "align_self": null,
            "border": null,
            "bottom": null,
            "display": null,
            "flex": null,
            "flex_flow": null,
            "grid_area": null,
            "grid_auto_columns": null,
            "grid_auto_flow": null,
            "grid_auto_rows": null,
            "grid_column": null,
            "grid_gap": null,
            "grid_row": null,
            "grid_template_areas": null,
            "grid_template_columns": null,
            "grid_template_rows": null,
            "height": null,
            "justify_content": null,
            "justify_items": null,
            "left": null,
            "margin": null,
            "max_height": null,
            "max_width": null,
            "min_height": null,
            "min_width": null,
            "object_fit": null,
            "object_position": null,
            "order": null,
            "overflow": null,
            "overflow_x": null,
            "overflow_y": null,
            "padding": null,
            "right": null,
            "top": null,
            "visibility": null,
            "width": null
          }
        },
        "e9cf06a399924a8f8592ffcaf269bcb9": {
          "model_module": "@jupyter-widgets/controls",
          "model_name": "DescriptionStyleModel",
          "model_module_version": "1.5.0",
          "state": {
            "_model_module": "@jupyter-widgets/controls",
            "_model_module_version": "1.5.0",
            "_model_name": "DescriptionStyleModel",
            "_view_count": null,
            "_view_module": "@jupyter-widgets/base",
            "_view_module_version": "1.2.0",
            "_view_name": "StyleView",
            "description_width": ""
          }
        },
        "039bd65fd8ad4d768c1f24ba5c16bbf1": {
          "model_module": "@jupyter-widgets/base",
          "model_name": "LayoutModel",
          "model_module_version": "1.2.0",
          "state": {
            "_model_module": "@jupyter-widgets/base",
            "_model_module_version": "1.2.0",
            "_model_name": "LayoutModel",
            "_view_count": null,
            "_view_module": "@jupyter-widgets/base",
            "_view_module_version": "1.2.0",
            "_view_name": "LayoutView",
            "align_content": null,
            "align_items": null,
            "align_self": null,
            "border": null,
            "bottom": null,
            "display": null,
            "flex": null,
            "flex_flow": null,
            "grid_area": null,
            "grid_auto_columns": null,
            "grid_auto_flow": null,
            "grid_auto_rows": null,
            "grid_column": null,
            "grid_gap": null,
            "grid_row": null,
            "grid_template_areas": null,
            "grid_template_columns": null,
            "grid_template_rows": null,
            "height": null,
            "justify_content": null,
            "justify_items": null,
            "left": null,
            "margin": null,
            "max_height": null,
            "max_width": null,
            "min_height": null,
            "min_width": null,
            "object_fit": null,
            "object_position": null,
            "order": null,
            "overflow": null,
            "overflow_x": null,
            "overflow_y": null,
            "padding": null,
            "right": null,
            "top": null,
            "visibility": null,
            "width": null
          }
        },
        "c0e4ceb12685474baf39d426123631e4": {
          "model_module": "@jupyter-widgets/controls",
          "model_name": "ProgressStyleModel",
          "model_module_version": "1.5.0",
          "state": {
            "_model_module": "@jupyter-widgets/controls",
            "_model_module_version": "1.5.0",
            "_model_name": "ProgressStyleModel",
            "_view_count": null,
            "_view_module": "@jupyter-widgets/base",
            "_view_module_version": "1.2.0",
            "_view_name": "StyleView",
            "bar_color": null,
            "description_width": ""
          }
        },
        "f52f4569299b4140b54bede3102f5f8d": {
          "model_module": "@jupyter-widgets/base",
          "model_name": "LayoutModel",
          "model_module_version": "1.2.0",
          "state": {
            "_model_module": "@jupyter-widgets/base",
            "_model_module_version": "1.2.0",
            "_model_name": "LayoutModel",
            "_view_count": null,
            "_view_module": "@jupyter-widgets/base",
            "_view_module_version": "1.2.0",
            "_view_name": "LayoutView",
            "align_content": null,
            "align_items": null,
            "align_self": null,
            "border": null,
            "bottom": null,
            "display": null,
            "flex": null,
            "flex_flow": null,
            "grid_area": null,
            "grid_auto_columns": null,
            "grid_auto_flow": null,
            "grid_auto_rows": null,
            "grid_column": null,
            "grid_gap": null,
            "grid_row": null,
            "grid_template_areas": null,
            "grid_template_columns": null,
            "grid_template_rows": null,
            "height": null,
            "justify_content": null,
            "justify_items": null,
            "left": null,
            "margin": null,
            "max_height": null,
            "max_width": null,
            "min_height": null,
            "min_width": null,
            "object_fit": null,
            "object_position": null,
            "order": null,
            "overflow": null,
            "overflow_x": null,
            "overflow_y": null,
            "padding": null,
            "right": null,
            "top": null,
            "visibility": null,
            "width": null
          }
        },
        "38168a4788d644d7a631902c9f431c6a": {
          "model_module": "@jupyter-widgets/controls",
          "model_name": "DescriptionStyleModel",
          "model_module_version": "1.5.0",
          "state": {
            "_model_module": "@jupyter-widgets/controls",
            "_model_module_version": "1.5.0",
            "_model_name": "DescriptionStyleModel",
            "_view_count": null,
            "_view_module": "@jupyter-widgets/base",
            "_view_module_version": "1.2.0",
            "_view_name": "StyleView",
            "description_width": ""
          }
        },
        "1bf8ac84be1944b5aabfc9fdaa654427": {
          "model_module": "@jupyter-widgets/controls",
          "model_name": "HBoxModel",
          "model_module_version": "1.5.0",
          "state": {
            "_dom_classes": [],
            "_model_module": "@jupyter-widgets/controls",
            "_model_module_version": "1.5.0",
            "_model_name": "HBoxModel",
            "_view_count": null,
            "_view_module": "@jupyter-widgets/controls",
            "_view_module_version": "1.5.0",
            "_view_name": "HBoxView",
            "box_style": "",
            "children": [
              "IPY_MODEL_22ec4c1a6d7a4838a2233c1b767b8981",
              "IPY_MODEL_0cf819b574d34f7faa525deb24df067d",
              "IPY_MODEL_2a2177cb53434fe49019609113afbba6"
            ],
            "layout": "IPY_MODEL_6c9b5dc91d034803b0119abd11e12116"
          }
        },
        "22ec4c1a6d7a4838a2233c1b767b8981": {
          "model_module": "@jupyter-widgets/controls",
          "model_name": "HTMLModel",
          "model_module_version": "1.5.0",
          "state": {
            "_dom_classes": [],
            "_model_module": "@jupyter-widgets/controls",
            "_model_module_version": "1.5.0",
            "_model_name": "HTMLModel",
            "_view_count": null,
            "_view_module": "@jupyter-widgets/controls",
            "_view_module_version": "1.5.0",
            "_view_name": "HTMLView",
            "description": "",
            "description_tooltip": null,
            "layout": "IPY_MODEL_b0bc1bd86b6d4429a7a542e9f233c265",
            "placeholder": "​",
            "style": "IPY_MODEL_eccc073a9f924b5290c5ef3463a4c41a",
            "value": "Downloading: 100%"
          }
        },
        "0cf819b574d34f7faa525deb24df067d": {
          "model_module": "@jupyter-widgets/controls",
          "model_name": "FloatProgressModel",
          "model_module_version": "1.5.0",
          "state": {
            "_dom_classes": [],
            "_model_module": "@jupyter-widgets/controls",
            "_model_module_version": "1.5.0",
            "_model_name": "FloatProgressModel",
            "_view_count": null,
            "_view_module": "@jupyter-widgets/controls",
            "_view_module_version": "1.5.0",
            "_view_name": "ProgressView",
            "bar_style": "success",
            "description": "",
            "description_tooltip": null,
            "layout": "IPY_MODEL_9de772048d6742108ce540ac7d9d17b4",
            "max": 248477,
            "min": 0,
            "orientation": "horizontal",
            "style": "IPY_MODEL_e6ced0a40fe846ca9361b33699b75756",
            "value": 248477
          }
        },
        "2a2177cb53434fe49019609113afbba6": {
          "model_module": "@jupyter-widgets/controls",
          "model_name": "HTMLModel",
          "model_module_version": "1.5.0",
          "state": {
            "_dom_classes": [],
            "_model_module": "@jupyter-widgets/controls",
            "_model_module_version": "1.5.0",
            "_model_name": "HTMLModel",
            "_view_count": null,
            "_view_module": "@jupyter-widgets/controls",
            "_view_module_version": "1.5.0",
            "_view_name": "HTMLView",
            "description": "",
            "description_tooltip": null,
            "layout": "IPY_MODEL_f129185c74e94d45ae147c99f790a8c8",
            "placeholder": "​",
            "style": "IPY_MODEL_33c0f3dacabb454c98abbd31b3a6871c",
            "value": " 243k/243k [00:00&lt;00:00, 338kB/s]"
          }
        },
        "6c9b5dc91d034803b0119abd11e12116": {
          "model_module": "@jupyter-widgets/base",
          "model_name": "LayoutModel",
          "model_module_version": "1.2.0",
          "state": {
            "_model_module": "@jupyter-widgets/base",
            "_model_module_version": "1.2.0",
            "_model_name": "LayoutModel",
            "_view_count": null,
            "_view_module": "@jupyter-widgets/base",
            "_view_module_version": "1.2.0",
            "_view_name": "LayoutView",
            "align_content": null,
            "align_items": null,
            "align_self": null,
            "border": null,
            "bottom": null,
            "display": null,
            "flex": null,
            "flex_flow": null,
            "grid_area": null,
            "grid_auto_columns": null,
            "grid_auto_flow": null,
            "grid_auto_rows": null,
            "grid_column": null,
            "grid_gap": null,
            "grid_row": null,
            "grid_template_areas": null,
            "grid_template_columns": null,
            "grid_template_rows": null,
            "height": null,
            "justify_content": null,
            "justify_items": null,
            "left": null,
            "margin": null,
            "max_height": null,
            "max_width": null,
            "min_height": null,
            "min_width": null,
            "object_fit": null,
            "object_position": null,
            "order": null,
            "overflow": null,
            "overflow_x": null,
            "overflow_y": null,
            "padding": null,
            "right": null,
            "top": null,
            "visibility": null,
            "width": null
          }
        },
        "b0bc1bd86b6d4429a7a542e9f233c265": {
          "model_module": "@jupyter-widgets/base",
          "model_name": "LayoutModel",
          "model_module_version": "1.2.0",
          "state": {
            "_model_module": "@jupyter-widgets/base",
            "_model_module_version": "1.2.0",
            "_model_name": "LayoutModel",
            "_view_count": null,
            "_view_module": "@jupyter-widgets/base",
            "_view_module_version": "1.2.0",
            "_view_name": "LayoutView",
            "align_content": null,
            "align_items": null,
            "align_self": null,
            "border": null,
            "bottom": null,
            "display": null,
            "flex": null,
            "flex_flow": null,
            "grid_area": null,
            "grid_auto_columns": null,
            "grid_auto_flow": null,
            "grid_auto_rows": null,
            "grid_column": null,
            "grid_gap": null,
            "grid_row": null,
            "grid_template_areas": null,
            "grid_template_columns": null,
            "grid_template_rows": null,
            "height": null,
            "justify_content": null,
            "justify_items": null,
            "left": null,
            "margin": null,
            "max_height": null,
            "max_width": null,
            "min_height": null,
            "min_width": null,
            "object_fit": null,
            "object_position": null,
            "order": null,
            "overflow": null,
            "overflow_x": null,
            "overflow_y": null,
            "padding": null,
            "right": null,
            "top": null,
            "visibility": null,
            "width": null
          }
        },
        "eccc073a9f924b5290c5ef3463a4c41a": {
          "model_module": "@jupyter-widgets/controls",
          "model_name": "DescriptionStyleModel",
          "model_module_version": "1.5.0",
          "state": {
            "_model_module": "@jupyter-widgets/controls",
            "_model_module_version": "1.5.0",
            "_model_name": "DescriptionStyleModel",
            "_view_count": null,
            "_view_module": "@jupyter-widgets/base",
            "_view_module_version": "1.2.0",
            "_view_name": "StyleView",
            "description_width": ""
          }
        },
        "9de772048d6742108ce540ac7d9d17b4": {
          "model_module": "@jupyter-widgets/base",
          "model_name": "LayoutModel",
          "model_module_version": "1.2.0",
          "state": {
            "_model_module": "@jupyter-widgets/base",
            "_model_module_version": "1.2.0",
            "_model_name": "LayoutModel",
            "_view_count": null,
            "_view_module": "@jupyter-widgets/base",
            "_view_module_version": "1.2.0",
            "_view_name": "LayoutView",
            "align_content": null,
            "align_items": null,
            "align_self": null,
            "border": null,
            "bottom": null,
            "display": null,
            "flex": null,
            "flex_flow": null,
            "grid_area": null,
            "grid_auto_columns": null,
            "grid_auto_flow": null,
            "grid_auto_rows": null,
            "grid_column": null,
            "grid_gap": null,
            "grid_row": null,
            "grid_template_areas": null,
            "grid_template_columns": null,
            "grid_template_rows": null,
            "height": null,
            "justify_content": null,
            "justify_items": null,
            "left": null,
            "margin": null,
            "max_height": null,
            "max_width": null,
            "min_height": null,
            "min_width": null,
            "object_fit": null,
            "object_position": null,
            "order": null,
            "overflow": null,
            "overflow_x": null,
            "overflow_y": null,
            "padding": null,
            "right": null,
            "top": null,
            "visibility": null,
            "width": null
          }
        },
        "e6ced0a40fe846ca9361b33699b75756": {
          "model_module": "@jupyter-widgets/controls",
          "model_name": "ProgressStyleModel",
          "model_module_version": "1.5.0",
          "state": {
            "_model_module": "@jupyter-widgets/controls",
            "_model_module_version": "1.5.0",
            "_model_name": "ProgressStyleModel",
            "_view_count": null,
            "_view_module": "@jupyter-widgets/base",
            "_view_module_version": "1.2.0",
            "_view_name": "StyleView",
            "bar_color": null,
            "description_width": ""
          }
        },
        "f129185c74e94d45ae147c99f790a8c8": {
          "model_module": "@jupyter-widgets/base",
          "model_name": "LayoutModel",
          "model_module_version": "1.2.0",
          "state": {
            "_model_module": "@jupyter-widgets/base",
            "_model_module_version": "1.2.0",
            "_model_name": "LayoutModel",
            "_view_count": null,
            "_view_module": "@jupyter-widgets/base",
            "_view_module_version": "1.2.0",
            "_view_name": "LayoutView",
            "align_content": null,
            "align_items": null,
            "align_self": null,
            "border": null,
            "bottom": null,
            "display": null,
            "flex": null,
            "flex_flow": null,
            "grid_area": null,
            "grid_auto_columns": null,
            "grid_auto_flow": null,
            "grid_auto_rows": null,
            "grid_column": null,
            "grid_gap": null,
            "grid_row": null,
            "grid_template_areas": null,
            "grid_template_columns": null,
            "grid_template_rows": null,
            "height": null,
            "justify_content": null,
            "justify_items": null,
            "left": null,
            "margin": null,
            "max_height": null,
            "max_width": null,
            "min_height": null,
            "min_width": null,
            "object_fit": null,
            "object_position": null,
            "order": null,
            "overflow": null,
            "overflow_x": null,
            "overflow_y": null,
            "padding": null,
            "right": null,
            "top": null,
            "visibility": null,
            "width": null
          }
        },
        "33c0f3dacabb454c98abbd31b3a6871c": {
          "model_module": "@jupyter-widgets/controls",
          "model_name": "DescriptionStyleModel",
          "model_module_version": "1.5.0",
          "state": {
            "_model_module": "@jupyter-widgets/controls",
            "_model_module_version": "1.5.0",
            "_model_name": "DescriptionStyleModel",
            "_view_count": null,
            "_view_module": "@jupyter-widgets/base",
            "_view_module_version": "1.2.0",
            "_view_name": "StyleView",
            "description_width": ""
          }
        },
        "51983c4be8924e41bfdc56897af5cb0c": {
          "model_module": "@jupyter-widgets/controls",
          "model_name": "HBoxModel",
          "model_module_version": "1.5.0",
          "state": {
            "_dom_classes": [],
            "_model_module": "@jupyter-widgets/controls",
            "_model_module_version": "1.5.0",
            "_model_name": "HBoxModel",
            "_view_count": null,
            "_view_module": "@jupyter-widgets/controls",
            "_view_module_version": "1.5.0",
            "_view_name": "HBoxView",
            "box_style": "",
            "children": [
              "IPY_MODEL_f60e165872ef4a4e9aa77006e3076c7a",
              "IPY_MODEL_31785756b0b54d83bcfb11d7318e3c49",
              "IPY_MODEL_85ed684109eb429bae7c8a133965b4db"
            ],
            "layout": "IPY_MODEL_4175010a68f6458f93bfbe39db114802"
          }
        },
        "f60e165872ef4a4e9aa77006e3076c7a": {
          "model_module": "@jupyter-widgets/controls",
          "model_name": "HTMLModel",
          "model_module_version": "1.5.0",
          "state": {
            "_dom_classes": [],
            "_model_module": "@jupyter-widgets/controls",
            "_model_module_version": "1.5.0",
            "_model_name": "HTMLModel",
            "_view_count": null,
            "_view_module": "@jupyter-widgets/controls",
            "_view_module_version": "1.5.0",
            "_view_name": "HTMLView",
            "description": "",
            "description_tooltip": null,
            "layout": "IPY_MODEL_50dd7bad105a419c8ed8735a9a9fa6a8",
            "placeholder": "​",
            "style": "IPY_MODEL_056946f7ec8d494e90427f94287a5865",
            "value": "Downloading: 100%"
          }
        },
        "31785756b0b54d83bcfb11d7318e3c49": {
          "model_module": "@jupyter-widgets/controls",
          "model_name": "FloatProgressModel",
          "model_module_version": "1.5.0",
          "state": {
            "_dom_classes": [],
            "_model_module": "@jupyter-widgets/controls",
            "_model_module_version": "1.5.0",
            "_model_name": "FloatProgressModel",
            "_view_count": null,
            "_view_module": "@jupyter-widgets/controls",
            "_view_module_version": "1.5.0",
            "_view_name": "ProgressView",
            "bar_style": "success",
            "description": "",
            "description_tooltip": null,
            "layout": "IPY_MODEL_142dc62d3e6049b9983e48d30573cb08",
            "max": 125,
            "min": 0,
            "orientation": "horizontal",
            "style": "IPY_MODEL_8761bcbd1f004e35a5b0cd27e72c43e0",
            "value": 125
          }
        },
        "85ed684109eb429bae7c8a133965b4db": {
          "model_module": "@jupyter-widgets/controls",
          "model_name": "HTMLModel",
          "model_module_version": "1.5.0",
          "state": {
            "_dom_classes": [],
            "_model_module": "@jupyter-widgets/controls",
            "_model_module_version": "1.5.0",
            "_model_name": "HTMLModel",
            "_view_count": null,
            "_view_module": "@jupyter-widgets/controls",
            "_view_module_version": "1.5.0",
            "_view_name": "HTMLView",
            "description": "",
            "description_tooltip": null,
            "layout": "IPY_MODEL_a23a5f4806f140358a1331d92aff5a42",
            "placeholder": "​",
            "style": "IPY_MODEL_b9c98e3118304d31aa572204b8a1c31f",
            "value": " 125/125 [00:00&lt;00:00, 2.39kB/s]"
          }
        },
        "4175010a68f6458f93bfbe39db114802": {
          "model_module": "@jupyter-widgets/base",
          "model_name": "LayoutModel",
          "model_module_version": "1.2.0",
          "state": {
            "_model_module": "@jupyter-widgets/base",
            "_model_module_version": "1.2.0",
            "_model_name": "LayoutModel",
            "_view_count": null,
            "_view_module": "@jupyter-widgets/base",
            "_view_module_version": "1.2.0",
            "_view_name": "LayoutView",
            "align_content": null,
            "align_items": null,
            "align_self": null,
            "border": null,
            "bottom": null,
            "display": null,
            "flex": null,
            "flex_flow": null,
            "grid_area": null,
            "grid_auto_columns": null,
            "grid_auto_flow": null,
            "grid_auto_rows": null,
            "grid_column": null,
            "grid_gap": null,
            "grid_row": null,
            "grid_template_areas": null,
            "grid_template_columns": null,
            "grid_template_rows": null,
            "height": null,
            "justify_content": null,
            "justify_items": null,
            "left": null,
            "margin": null,
            "max_height": null,
            "max_width": null,
            "min_height": null,
            "min_width": null,
            "object_fit": null,
            "object_position": null,
            "order": null,
            "overflow": null,
            "overflow_x": null,
            "overflow_y": null,
            "padding": null,
            "right": null,
            "top": null,
            "visibility": null,
            "width": null
          }
        },
        "50dd7bad105a419c8ed8735a9a9fa6a8": {
          "model_module": "@jupyter-widgets/base",
          "model_name": "LayoutModel",
          "model_module_version": "1.2.0",
          "state": {
            "_model_module": "@jupyter-widgets/base",
            "_model_module_version": "1.2.0",
            "_model_name": "LayoutModel",
            "_view_count": null,
            "_view_module": "@jupyter-widgets/base",
            "_view_module_version": "1.2.0",
            "_view_name": "LayoutView",
            "align_content": null,
            "align_items": null,
            "align_self": null,
            "border": null,
            "bottom": null,
            "display": null,
            "flex": null,
            "flex_flow": null,
            "grid_area": null,
            "grid_auto_columns": null,
            "grid_auto_flow": null,
            "grid_auto_rows": null,
            "grid_column": null,
            "grid_gap": null,
            "grid_row": null,
            "grid_template_areas": null,
            "grid_template_columns": null,
            "grid_template_rows": null,
            "height": null,
            "justify_content": null,
            "justify_items": null,
            "left": null,
            "margin": null,
            "max_height": null,
            "max_width": null,
            "min_height": null,
            "min_width": null,
            "object_fit": null,
            "object_position": null,
            "order": null,
            "overflow": null,
            "overflow_x": null,
            "overflow_y": null,
            "padding": null,
            "right": null,
            "top": null,
            "visibility": null,
            "width": null
          }
        },
        "056946f7ec8d494e90427f94287a5865": {
          "model_module": "@jupyter-widgets/controls",
          "model_name": "DescriptionStyleModel",
          "model_module_version": "1.5.0",
          "state": {
            "_model_module": "@jupyter-widgets/controls",
            "_model_module_version": "1.5.0",
            "_model_name": "DescriptionStyleModel",
            "_view_count": null,
            "_view_module": "@jupyter-widgets/base",
            "_view_module_version": "1.2.0",
            "_view_name": "StyleView",
            "description_width": ""
          }
        },
        "142dc62d3e6049b9983e48d30573cb08": {
          "model_module": "@jupyter-widgets/base",
          "model_name": "LayoutModel",
          "model_module_version": "1.2.0",
          "state": {
            "_model_module": "@jupyter-widgets/base",
            "_model_module_version": "1.2.0",
            "_model_name": "LayoutModel",
            "_view_count": null,
            "_view_module": "@jupyter-widgets/base",
            "_view_module_version": "1.2.0",
            "_view_name": "LayoutView",
            "align_content": null,
            "align_items": null,
            "align_self": null,
            "border": null,
            "bottom": null,
            "display": null,
            "flex": null,
            "flex_flow": null,
            "grid_area": null,
            "grid_auto_columns": null,
            "grid_auto_flow": null,
            "grid_auto_rows": null,
            "grid_column": null,
            "grid_gap": null,
            "grid_row": null,
            "grid_template_areas": null,
            "grid_template_columns": null,
            "grid_template_rows": null,
            "height": null,
            "justify_content": null,
            "justify_items": null,
            "left": null,
            "margin": null,
            "max_height": null,
            "max_width": null,
            "min_height": null,
            "min_width": null,
            "object_fit": null,
            "object_position": null,
            "order": null,
            "overflow": null,
            "overflow_x": null,
            "overflow_y": null,
            "padding": null,
            "right": null,
            "top": null,
            "visibility": null,
            "width": null
          }
        },
        "8761bcbd1f004e35a5b0cd27e72c43e0": {
          "model_module": "@jupyter-widgets/controls",
          "model_name": "ProgressStyleModel",
          "model_module_version": "1.5.0",
          "state": {
            "_model_module": "@jupyter-widgets/controls",
            "_model_module_version": "1.5.0",
            "_model_name": "ProgressStyleModel",
            "_view_count": null,
            "_view_module": "@jupyter-widgets/base",
            "_view_module_version": "1.2.0",
            "_view_name": "StyleView",
            "bar_color": null,
            "description_width": ""
          }
        },
        "a23a5f4806f140358a1331d92aff5a42": {
          "model_module": "@jupyter-widgets/base",
          "model_name": "LayoutModel",
          "model_module_version": "1.2.0",
          "state": {
            "_model_module": "@jupyter-widgets/base",
            "_model_module_version": "1.2.0",
            "_model_name": "LayoutModel",
            "_view_count": null,
            "_view_module": "@jupyter-widgets/base",
            "_view_module_version": "1.2.0",
            "_view_name": "LayoutView",
            "align_content": null,
            "align_items": null,
            "align_self": null,
            "border": null,
            "bottom": null,
            "display": null,
            "flex": null,
            "flex_flow": null,
            "grid_area": null,
            "grid_auto_columns": null,
            "grid_auto_flow": null,
            "grid_auto_rows": null,
            "grid_column": null,
            "grid_gap": null,
            "grid_row": null,
            "grid_template_areas": null,
            "grid_template_columns": null,
            "grid_template_rows": null,
            "height": null,
            "justify_content": null,
            "justify_items": null,
            "left": null,
            "margin": null,
            "max_height": null,
            "max_width": null,
            "min_height": null,
            "min_width": null,
            "object_fit": null,
            "object_position": null,
            "order": null,
            "overflow": null,
            "overflow_x": null,
            "overflow_y": null,
            "padding": null,
            "right": null,
            "top": null,
            "visibility": null,
            "width": null
          }
        },
        "b9c98e3118304d31aa572204b8a1c31f": {
          "model_module": "@jupyter-widgets/controls",
          "model_name": "DescriptionStyleModel",
          "model_module_version": "1.5.0",
          "state": {
            "_model_module": "@jupyter-widgets/controls",
            "_model_module_version": "1.5.0",
            "_model_name": "DescriptionStyleModel",
            "_view_count": null,
            "_view_module": "@jupyter-widgets/base",
            "_view_module_version": "1.2.0",
            "_view_name": "StyleView",
            "description_width": ""
          }
        },
        "6ec526f02a12453a9b6e75fe6bc50a56": {
          "model_module": "@jupyter-widgets/controls",
          "model_name": "HBoxModel",
          "model_module_version": "1.5.0",
          "state": {
            "_dom_classes": [],
            "_model_module": "@jupyter-widgets/controls",
            "_model_module_version": "1.5.0",
            "_model_name": "HBoxModel",
            "_view_count": null,
            "_view_module": "@jupyter-widgets/controls",
            "_view_module_version": "1.5.0",
            "_view_name": "HBoxView",
            "box_style": "",
            "children": [
              "IPY_MODEL_cb72a1903aeb4f2e9030ac62b871e252",
              "IPY_MODEL_2870095cd5f242a3aaa56ae8e582e82d",
              "IPY_MODEL_1def0808524840e19bf7eca500616229"
            ],
            "layout": "IPY_MODEL_41e73e7e35d0436bbc9d03014b5641f6"
          }
        },
        "cb72a1903aeb4f2e9030ac62b871e252": {
          "model_module": "@jupyter-widgets/controls",
          "model_name": "HTMLModel",
          "model_module_version": "1.5.0",
          "state": {
            "_dom_classes": [],
            "_model_module": "@jupyter-widgets/controls",
            "_model_module_version": "1.5.0",
            "_model_name": "HTMLModel",
            "_view_count": null,
            "_view_module": "@jupyter-widgets/controls",
            "_view_module_version": "1.5.0",
            "_view_name": "HTMLView",
            "description": "",
            "description_tooltip": null,
            "layout": "IPY_MODEL_297d48014eb64a4eb00a7b86bd2b24b8",
            "placeholder": "​",
            "style": "IPY_MODEL_3d9497a8eec247acb25315d4ce7eb902",
            "value": "Downloading: 100%"
          }
        },
        "2870095cd5f242a3aaa56ae8e582e82d": {
          "model_module": "@jupyter-widgets/controls",
          "model_name": "FloatProgressModel",
          "model_module_version": "1.5.0",
          "state": {
            "_dom_classes": [],
            "_model_module": "@jupyter-widgets/controls",
            "_model_module_version": "1.5.0",
            "_model_name": "FloatProgressModel",
            "_view_count": null,
            "_view_module": "@jupyter-widgets/controls",
            "_view_module_version": "1.5.0",
            "_view_name": "ProgressView",
            "bar_style": "success",
            "description": "",
            "description_tooltip": null,
            "layout": "IPY_MODEL_64581afe1be2426886ddce1a6e56a873",
            "max": 289,
            "min": 0,
            "orientation": "horizontal",
            "style": "IPY_MODEL_9c41c4dede2a4657acd9be19c9720f9d",
            "value": 289
          }
        },
        "1def0808524840e19bf7eca500616229": {
          "model_module": "@jupyter-widgets/controls",
          "model_name": "HTMLModel",
          "model_module_version": "1.5.0",
          "state": {
            "_dom_classes": [],
            "_model_module": "@jupyter-widgets/controls",
            "_model_module_version": "1.5.0",
            "_model_name": "HTMLModel",
            "_view_count": null,
            "_view_module": "@jupyter-widgets/controls",
            "_view_module_version": "1.5.0",
            "_view_name": "HTMLView",
            "description": "",
            "description_tooltip": null,
            "layout": "IPY_MODEL_72570489808c4caaa2da7f26d1502e7d",
            "placeholder": "​",
            "style": "IPY_MODEL_0e8ac6a78bd844bbaf7b323dd9915211",
            "value": " 289/289 [00:00&lt;00:00, 3.00kB/s]"
          }
        },
        "41e73e7e35d0436bbc9d03014b5641f6": {
          "model_module": "@jupyter-widgets/base",
          "model_name": "LayoutModel",
          "model_module_version": "1.2.0",
          "state": {
            "_model_module": "@jupyter-widgets/base",
            "_model_module_version": "1.2.0",
            "_model_name": "LayoutModel",
            "_view_count": null,
            "_view_module": "@jupyter-widgets/base",
            "_view_module_version": "1.2.0",
            "_view_name": "LayoutView",
            "align_content": null,
            "align_items": null,
            "align_self": null,
            "border": null,
            "bottom": null,
            "display": null,
            "flex": null,
            "flex_flow": null,
            "grid_area": null,
            "grid_auto_columns": null,
            "grid_auto_flow": null,
            "grid_auto_rows": null,
            "grid_column": null,
            "grid_gap": null,
            "grid_row": null,
            "grid_template_areas": null,
            "grid_template_columns": null,
            "grid_template_rows": null,
            "height": null,
            "justify_content": null,
            "justify_items": null,
            "left": null,
            "margin": null,
            "max_height": null,
            "max_width": null,
            "min_height": null,
            "min_width": null,
            "object_fit": null,
            "object_position": null,
            "order": null,
            "overflow": null,
            "overflow_x": null,
            "overflow_y": null,
            "padding": null,
            "right": null,
            "top": null,
            "visibility": null,
            "width": null
          }
        },
        "297d48014eb64a4eb00a7b86bd2b24b8": {
          "model_module": "@jupyter-widgets/base",
          "model_name": "LayoutModel",
          "model_module_version": "1.2.0",
          "state": {
            "_model_module": "@jupyter-widgets/base",
            "_model_module_version": "1.2.0",
            "_model_name": "LayoutModel",
            "_view_count": null,
            "_view_module": "@jupyter-widgets/base",
            "_view_module_version": "1.2.0",
            "_view_name": "LayoutView",
            "align_content": null,
            "align_items": null,
            "align_self": null,
            "border": null,
            "bottom": null,
            "display": null,
            "flex": null,
            "flex_flow": null,
            "grid_area": null,
            "grid_auto_columns": null,
            "grid_auto_flow": null,
            "grid_auto_rows": null,
            "grid_column": null,
            "grid_gap": null,
            "grid_row": null,
            "grid_template_areas": null,
            "grid_template_columns": null,
            "grid_template_rows": null,
            "height": null,
            "justify_content": null,
            "justify_items": null,
            "left": null,
            "margin": null,
            "max_height": null,
            "max_width": null,
            "min_height": null,
            "min_width": null,
            "object_fit": null,
            "object_position": null,
            "order": null,
            "overflow": null,
            "overflow_x": null,
            "overflow_y": null,
            "padding": null,
            "right": null,
            "top": null,
            "visibility": null,
            "width": null
          }
        },
        "3d9497a8eec247acb25315d4ce7eb902": {
          "model_module": "@jupyter-widgets/controls",
          "model_name": "DescriptionStyleModel",
          "model_module_version": "1.5.0",
          "state": {
            "_model_module": "@jupyter-widgets/controls",
            "_model_module_version": "1.5.0",
            "_model_name": "DescriptionStyleModel",
            "_view_count": null,
            "_view_module": "@jupyter-widgets/base",
            "_view_module_version": "1.2.0",
            "_view_name": "StyleView",
            "description_width": ""
          }
        },
        "64581afe1be2426886ddce1a6e56a873": {
          "model_module": "@jupyter-widgets/base",
          "model_name": "LayoutModel",
          "model_module_version": "1.2.0",
          "state": {
            "_model_module": "@jupyter-widgets/base",
            "_model_module_version": "1.2.0",
            "_model_name": "LayoutModel",
            "_view_count": null,
            "_view_module": "@jupyter-widgets/base",
            "_view_module_version": "1.2.0",
            "_view_name": "LayoutView",
            "align_content": null,
            "align_items": null,
            "align_self": null,
            "border": null,
            "bottom": null,
            "display": null,
            "flex": null,
            "flex_flow": null,
            "grid_area": null,
            "grid_auto_columns": null,
            "grid_auto_flow": null,
            "grid_auto_rows": null,
            "grid_column": null,
            "grid_gap": null,
            "grid_row": null,
            "grid_template_areas": null,
            "grid_template_columns": null,
            "grid_template_rows": null,
            "height": null,
            "justify_content": null,
            "justify_items": null,
            "left": null,
            "margin": null,
            "max_height": null,
            "max_width": null,
            "min_height": null,
            "min_width": null,
            "object_fit": null,
            "object_position": null,
            "order": null,
            "overflow": null,
            "overflow_x": null,
            "overflow_y": null,
            "padding": null,
            "right": null,
            "top": null,
            "visibility": null,
            "width": null
          }
        },
        "9c41c4dede2a4657acd9be19c9720f9d": {
          "model_module": "@jupyter-widgets/controls",
          "model_name": "ProgressStyleModel",
          "model_module_version": "1.5.0",
          "state": {
            "_model_module": "@jupyter-widgets/controls",
            "_model_module_version": "1.5.0",
            "_model_name": "ProgressStyleModel",
            "_view_count": null,
            "_view_module": "@jupyter-widgets/base",
            "_view_module_version": "1.2.0",
            "_view_name": "StyleView",
            "bar_color": null,
            "description_width": ""
          }
        },
        "72570489808c4caaa2da7f26d1502e7d": {
          "model_module": "@jupyter-widgets/base",
          "model_name": "LayoutModel",
          "model_module_version": "1.2.0",
          "state": {
            "_model_module": "@jupyter-widgets/base",
            "_model_module_version": "1.2.0",
            "_model_name": "LayoutModel",
            "_view_count": null,
            "_view_module": "@jupyter-widgets/base",
            "_view_module_version": "1.2.0",
            "_view_name": "LayoutView",
            "align_content": null,
            "align_items": null,
            "align_self": null,
            "border": null,
            "bottom": null,
            "display": null,
            "flex": null,
            "flex_flow": null,
            "grid_area": null,
            "grid_auto_columns": null,
            "grid_auto_flow": null,
            "grid_auto_rows": null,
            "grid_column": null,
            "grid_gap": null,
            "grid_row": null,
            "grid_template_areas": null,
            "grid_template_columns": null,
            "grid_template_rows": null,
            "height": null,
            "justify_content": null,
            "justify_items": null,
            "left": null,
            "margin": null,
            "max_height": null,
            "max_width": null,
            "min_height": null,
            "min_width": null,
            "object_fit": null,
            "object_position": null,
            "order": null,
            "overflow": null,
            "overflow_x": null,
            "overflow_y": null,
            "padding": null,
            "right": null,
            "top": null,
            "visibility": null,
            "width": null
          }
        },
        "0e8ac6a78bd844bbaf7b323dd9915211": {
          "model_module": "@jupyter-widgets/controls",
          "model_name": "DescriptionStyleModel",
          "model_module_version": "1.5.0",
          "state": {
            "_model_module": "@jupyter-widgets/controls",
            "_model_module_version": "1.5.0",
            "_model_name": "DescriptionStyleModel",
            "_view_count": null,
            "_view_module": "@jupyter-widgets/base",
            "_view_module_version": "1.2.0",
            "_view_name": "StyleView",
            "description_width": ""
          }
        }
      }
    }
  },
  "cells": [
    {
      "cell_type": "markdown",
      "metadata": {
        "id": "view-in-github",
        "colab_type": "text"
      },
      "source": [
        "<a href=\"https://colab.research.google.com/github/park-gb/financial-news-sentiment-classifier/blob/main/sentiment_classifier.ipynb\" target=\"_parent\"><img src=\"https://colab.research.google.com/assets/colab-badge.svg\" alt=\"Open In Colab\"/></a>"
      ]
    },
    {
      "cell_type": "markdown",
      "source": [
        "# Info\n",
        "Last Updated @2022-05-31\n",
        "\n",
        "### 👨‍💻 Author Info\n",
        "- Author: Gyeongbin Park(a.k.a., Tony Park)\n",
        "- Blog: https://heytech.tistory.com/\n",
        "- Github: https://github.com/park-gb\n",
        "- Contact: dev.gbpark@gmail.com\n",
        "\n",
        "### 📚 References\n",
        "- PLM(KLUE/Bert-base): https://huggingface.co/klue/bert-base\n",
        "- Dataset: https://github.com/ukairia777/finance_sentiment_corpus/blob/main/finance_data.csv"
      ],
      "metadata": {
        "id": "1yl0CInpifaf"
      }
    },
    {
      "cell_type": "markdown",
      "source": [
        "# 들어가며\n",
        "![스크린샷 2022-05-31 오후 8.47.32.png](data:image/png;base64,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)\n",
        "- 본 소스코드를 통해 얻어지는 분석 결과 이미지, 데이터셋, 모델은 구글 드라이브 내 소스파일이 있는 위치에서 각 파일이 해당하는 폴더로 저장하도록 작성되었습니다.\n",
        "- 예를 들어, 분석 결과 이미지는 figure, 모델은 model, 폴더에 저장됩니다.\n",
        "- 따라서 구글 드라이브 연동을 하신 후 소스파일이 있는 위치에서 각 해당하는 폴더를 생성하시거나, 파일 생성 경로를 수정하신 후 코드를 활용하시길 권장합니다."
      ],
      "metadata": {
        "id": "fb_e5ker2LDp"
      }
    },
    {
      "cell_type": "markdown",
      "source": [
        "# 구글 드라이브 연동\n",
        "- \"Mounted at /content/drive/\"와 같은 출력이 나왔다면 연동 정상"
      ],
      "metadata": {
        "id": "-Y-KNI_Bke21"
      }
    },
    {
      "cell_type": "code",
      "source": [
        "import os\n",
        "from google.colab import drive\n",
        "drive.mount('/content/drive/')"
      ],
      "metadata": {
        "id": "lA12S-rwXjcw",
        "colab": {
          "base_uri": "https://localhost:8080/"
        },
        "outputId": "df2e9122-7276-46c7-9de3-a5542214acd1"
      },
      "execution_count": 22,
      "outputs": [
        {
          "output_type": "stream",
          "name": "stdout",
          "text": [
            "Mounted at /content/drive/\n"
          ]
        }
      ]
    },
    {
      "cell_type": "markdown",
      "source": [
        ":"
      ],
      "metadata": {
        "id": "mSEFTBlmX0tc"
      }
    },
    {
      "cell_type": "code",
      "source": [
        "# 초기에 소스 파일이 위치하는 Colab 노트북 기본 파일 디렉토리로 이동\n",
        "cd /content/drive/MyDrive/Colab Notebooks"
      ],
      "metadata": {
        "colab": {
          "base_uri": "https://localhost:8080/"
        },
        "id": "pUAS-onR58Dj",
        "outputId": "7f76554d-47c1-4d93-c59a-d90979bb6436"
      },
      "execution_count": 24,
      "outputs": [
        {
          "output_type": "stream",
          "name": "stdout",
          "text": [
            "/content/drive/MyDrive/Colab Notebooks\n"
          ]
        }
      ]
    },
    {
      "cell_type": "markdown",
      "source": [
        "# 패키지 설치"
      ],
      "metadata": {
        "id": "1jGYU3gVkrIF"
      }
    },
    {
      "cell_type": "markdown",
      "source": [
        "## Hugging Face 패키지 설치\n",
        "- 사전 학습 언어모델과 tokenizer를 편리하게 불러올 수 있는 Hugging Face 활용을 위한 패키지를 설치합니다."
      ],
      "metadata": {
        "id": "HVkwXaiiXgMp"
      }
    },
    {
      "cell_type": "code",
      "source": [
        "!pip install transformers"
      ],
      "metadata": {
        "id": "NltQP9rQXjUn",
        "colab": {
          "base_uri": "https://localhost:8080/",
          "height": 0
        },
        "outputId": "a0bc7a6e-e08d-4cdc-f0d4-e64bda446d04"
      },
      "execution_count": 2,
      "outputs": [
        {
          "output_type": "stream",
          "name": "stdout",
          "text": [
            "Looking in indexes: https://pypi.org/simple, https://us-python.pkg.dev/colab-wheels/public/simple/\n",
            "Collecting transformers\n",
            "  Downloading transformers-4.19.2-py3-none-any.whl (4.2 MB)\n",
            "\u001b[K     |████████████████████████████████| 4.2 MB 4.3 MB/s \n",
            "\u001b[?25hRequirement already satisfied: packaging>=20.0 in /usr/local/lib/python3.7/dist-packages (from transformers) (21.3)\n",
            "Collecting pyyaml>=5.1\n",
            "  Downloading PyYAML-6.0-cp37-cp37m-manylinux_2_5_x86_64.manylinux1_x86_64.manylinux_2_12_x86_64.manylinux2010_x86_64.whl (596 kB)\n",
            "\u001b[K     |████████████████████████████████| 596 kB 67.5 MB/s \n",
            "\u001b[?25hRequirement already satisfied: requests in /usr/local/lib/python3.7/dist-packages (from transformers) (2.23.0)\n",
            "Requirement already satisfied: importlib-metadata in /usr/local/lib/python3.7/dist-packages (from transformers) (4.11.3)\n",
            "Requirement already satisfied: regex!=2019.12.17 in /usr/local/lib/python3.7/dist-packages (from transformers) (2019.12.20)\n",
            "Requirement already satisfied: filelock in /usr/local/lib/python3.7/dist-packages (from transformers) (3.7.0)\n",
            "Requirement already satisfied: numpy>=1.17 in /usr/local/lib/python3.7/dist-packages (from transformers) (1.21.6)\n",
            "Collecting tokenizers!=0.11.3,<0.13,>=0.11.1\n",
            "  Downloading tokenizers-0.12.1-cp37-cp37m-manylinux_2_12_x86_64.manylinux2010_x86_64.whl (6.6 MB)\n",
            "\u001b[K     |████████████████████████████████| 6.6 MB 60.3 MB/s \n",
            "\u001b[?25hCollecting huggingface-hub<1.0,>=0.1.0\n",
            "  Downloading huggingface_hub-0.7.0-py3-none-any.whl (86 kB)\n",
            "\u001b[K     |████████████████████████████████| 86 kB 6.3 MB/s \n",
            "\u001b[?25hRequirement already satisfied: tqdm>=4.27 in /usr/local/lib/python3.7/dist-packages (from transformers) (4.64.0)\n",
            "Requirement already satisfied: typing-extensions>=3.7.4.3 in /usr/local/lib/python3.7/dist-packages (from huggingface-hub<1.0,>=0.1.0->transformers) (4.2.0)\n",
            "Requirement already satisfied: pyparsing!=3.0.5,>=2.0.2 in /usr/local/lib/python3.7/dist-packages (from packaging>=20.0->transformers) (3.0.9)\n",
            "Requirement already satisfied: zipp>=0.5 in /usr/local/lib/python3.7/dist-packages (from importlib-metadata->transformers) (3.8.0)\n",
            "Requirement already satisfied: certifi>=2017.4.17 in /usr/local/lib/python3.7/dist-packages (from requests->transformers) (2022.5.18.1)\n",
            "Requirement already satisfied: idna<3,>=2.5 in /usr/local/lib/python3.7/dist-packages (from requests->transformers) (2.10)\n",
            "Requirement already satisfied: chardet<4,>=3.0.2 in /usr/local/lib/python3.7/dist-packages (from requests->transformers) (3.0.4)\n",
            "Requirement already satisfied: urllib3!=1.25.0,!=1.25.1,<1.26,>=1.21.1 in /usr/local/lib/python3.7/dist-packages (from requests->transformers) (1.24.3)\n",
            "Installing collected packages: pyyaml, tokenizers, huggingface-hub, transformers\n",
            "  Attempting uninstall: pyyaml\n",
            "    Found existing installation: PyYAML 3.13\n",
            "    Uninstalling PyYAML-3.13:\n",
            "      Successfully uninstalled PyYAML-3.13\n",
            "Successfully installed huggingface-hub-0.7.0 pyyaml-6.0 tokenizers-0.12.1 transformers-4.19.2\n"
          ]
        }
      ]
    },
    {
      "cell_type": "markdown",
      "source": [
        "## RAdam 패키지 설치\n",
        "- Optimizer로써 Rectified Adam을 사용할 예정입니다."
      ],
      "metadata": {
        "id": "g7YWiGFrklEd"
      }
    },
    {
      "cell_type": "code",
      "source": [
        "!pip install tensorflow_addons"
      ],
      "metadata": {
        "id": "3E3eK7QWklac",
        "colab": {
          "base_uri": "https://localhost:8080/",
          "height": 0
        },
        "outputId": "45c55a5c-7466-4c9a-b2c1-9eb1b217506e"
      },
      "execution_count": 3,
      "outputs": [
        {
          "output_type": "stream",
          "name": "stdout",
          "text": [
            "Looking in indexes: https://pypi.org/simple, https://us-python.pkg.dev/colab-wheels/public/simple/\n",
            "Collecting tensorflow_addons\n",
            "  Downloading tensorflow_addons-0.17.0-cp37-cp37m-manylinux_2_17_x86_64.manylinux2014_x86_64.whl (1.1 MB)\n",
            "\u001b[K     |████████████████████████████████| 1.1 MB 4.3 MB/s \n",
            "\u001b[?25hRequirement already satisfied: packaging in /usr/local/lib/python3.7/dist-packages (from tensorflow_addons) (21.3)\n",
            "Requirement already satisfied: typeguard>=2.7 in /usr/local/lib/python3.7/dist-packages (from tensorflow_addons) (2.7.1)\n",
            "Requirement already satisfied: pyparsing!=3.0.5,>=2.0.2 in /usr/local/lib/python3.7/dist-packages (from packaging->tensorflow_addons) (3.0.9)\n",
            "Installing collected packages: tensorflow-addons\n",
            "Successfully installed tensorflow-addons-0.17.0\n"
          ]
        }
      ]
    },
    {
      "cell_type": "markdown",
      "source": [
        "# 패키지 import"
      ],
      "metadata": {
        "id": "KKa1MK1MkYF1"
      }
    },
    {
      "cell_type": "code",
      "source": [
        "import os\n",
        "import pandas as pd\n",
        "import numpy as np\n",
        "import re\n",
        "from tqdm import tqdm\n",
        "import urllib.request\n",
        "import seaborn as sns\n",
        "import matplotlib.pyplot as plt\n",
        "import tensorflow_addons as tfa\n",
        "import tensorflow as tf\n",
        "from tensorflow.keras.callbacks import EarlyStopping, ModelCheckpoint\n",
        "from transformers import BertTokenizer, TFBertForSequenceClassification\n",
        "from sklearn.model_selection import train_test_split\n",
        "from sklearn.metrics import accuracy_score, f1_score, precision_score, recall_score, \\\n",
        "                            roc_auc_score, confusion_matrix, classification_report, \\\n",
        "                            matthews_corrcoef, cohen_kappa_score, log_loss"
      ],
      "metadata": {
        "id": "QQuKfsqLl-iQ"
      },
      "execution_count": 4,
      "outputs": []
    },
    {
      "cell_type": "markdown",
      "source": [
        "# 언어모델 및 Tokenizer 불러오기\n",
        "- Hugging Face에서 간편하게 Pretrained 언어 모델과 tokenizer를 불러옵니다.\n",
        "- [KLUE Bert-base 모델](https://huggingface.co/klue/bert-base)을 활용하였습니다."
      ],
      "metadata": {
        "id": "Qj5XKO9LkYKD"
      }
    },
    {
      "cell_type": "code",
      "source": [
        "MODEL_NAME = \"klue/bert-base\"\n",
        "model = TFBertForSequenceClassification.from_pretrained(MODEL_NAME, num_labels=3, from_pt=True)\n",
        "tokenizer = BertTokenizer.from_pretrained(MODEL_NAME)"
      ],
      "metadata": {
        "id": "YmaLbto522NJ",
        "colab": {
          "base_uri": "https://localhost:8080/",
          "height": 314,
          "referenced_widgets": [
            "eec3ba159396430c9f0505d16b5e4cdf",
            "db77e634d38647eea852ffbf4b07e2af",
            "7f85e17ddd4249b2bf97de805352733b",
            "e41afb0ac1e84b9399fed84981c25bdb",
            "a30625554beb4cefafe3793a801c4767",
            "978d1990582146799c04423a5d1bf873",
            "4f8debe029f34055be6a5fb133eece9c",
            "e3ecc8a693dc4b8f9ddc2901ce7594c1",
            "bd2e4a84bd524237a8036c37167ba27b",
            "dbad44dc1dd840dbb118d7014a7d02f5",
            "3ca2c3ae335f44f3961dfc0a3f49a127",
            "374105769ad9419e9b474b892726639c",
            "efee51f2c4d54284a4cb5659115b9255",
            "76bb6f1cda5343ff93eaf75334ee4377",
            "6089c607338f4e35a2e880d320ddfd70",
            "ccbb8d84e08546e7be609d6dc221d178",
            "3a0fc779b2c74243be1efe1996206bb0",
            "e9cf06a399924a8f8592ffcaf269bcb9",
            "039bd65fd8ad4d768c1f24ba5c16bbf1",
            "c0e4ceb12685474baf39d426123631e4",
            "f52f4569299b4140b54bede3102f5f8d",
            "38168a4788d644d7a631902c9f431c6a",
            "1bf8ac84be1944b5aabfc9fdaa654427",
            "22ec4c1a6d7a4838a2233c1b767b8981",
            "0cf819b574d34f7faa525deb24df067d",
            "2a2177cb53434fe49019609113afbba6",
            "6c9b5dc91d034803b0119abd11e12116",
            "b0bc1bd86b6d4429a7a542e9f233c265",
            "eccc073a9f924b5290c5ef3463a4c41a",
            "9de772048d6742108ce540ac7d9d17b4",
            "e6ced0a40fe846ca9361b33699b75756",
            "f129185c74e94d45ae147c99f790a8c8",
            "33c0f3dacabb454c98abbd31b3a6871c",
            "51983c4be8924e41bfdc56897af5cb0c",
            "f60e165872ef4a4e9aa77006e3076c7a",
            "31785756b0b54d83bcfb11d7318e3c49",
            "85ed684109eb429bae7c8a133965b4db",
            "4175010a68f6458f93bfbe39db114802",
            "50dd7bad105a419c8ed8735a9a9fa6a8",
            "056946f7ec8d494e90427f94287a5865",
            "142dc62d3e6049b9983e48d30573cb08",
            "8761bcbd1f004e35a5b0cd27e72c43e0",
            "a23a5f4806f140358a1331d92aff5a42",
            "b9c98e3118304d31aa572204b8a1c31f",
            "6ec526f02a12453a9b6e75fe6bc50a56",
            "cb72a1903aeb4f2e9030ac62b871e252",
            "2870095cd5f242a3aaa56ae8e582e82d",
            "1def0808524840e19bf7eca500616229",
            "41e73e7e35d0436bbc9d03014b5641f6",
            "297d48014eb64a4eb00a7b86bd2b24b8",
            "3d9497a8eec247acb25315d4ce7eb902",
            "64581afe1be2426886ddce1a6e56a873",
            "9c41c4dede2a4657acd9be19c9720f9d",
            "72570489808c4caaa2da7f26d1502e7d",
            "0e8ac6a78bd844bbaf7b323dd9915211"
          ]
        },
        "outputId": "aed1caab-429c-4fbf-c4e4-f40d50cafb43"
      },
      "execution_count": 5,
      "outputs": [
        {
          "output_type": "display_data",
          "data": {
            "text/plain": [
              "Downloading:   0%|          | 0.00/425 [00:00<?, ?B/s]"
            ],
            "application/vnd.jupyter.widget-view+json": {
              "version_major": 2,
              "version_minor": 0,
              "model_id": "eec3ba159396430c9f0505d16b5e4cdf"
            }
          },
          "metadata": {}
        },
        {
          "output_type": "display_data",
          "data": {
            "text/plain": [
              "Downloading:   0%|          | 0.00/424M [00:00<?, ?B/s]"
            ],
            "application/vnd.jupyter.widget-view+json": {
              "version_major": 2,
              "version_minor": 0,
              "model_id": "374105769ad9419e9b474b892726639c"
            }
          },
          "metadata": {}
        },
        {
          "output_type": "stream",
          "name": "stderr",
          "text": [
            "Some weights of the PyTorch model were not used when initializing the TF 2.0 model TFBertForSequenceClassification: ['bert.embeddings.position_ids']\n",
            "- This IS expected if you are initializing TFBertForSequenceClassification from a PyTorch model trained on another task or with another architecture (e.g. initializing a TFBertForSequenceClassification model from a BertForPreTraining model).\n",
            "- This IS NOT expected if you are initializing TFBertForSequenceClassification from a PyTorch model that you expect to be exactly identical (e.g. initializing a TFBertForSequenceClassification model from a BertForSequenceClassification model).\n",
            "Some weights or buffers of the TF 2.0 model TFBertForSequenceClassification were not initialized from the PyTorch model and are newly initialized: ['classifier.weight', 'classifier.bias']\n",
            "You should probably TRAIN this model on a down-stream task to be able to use it for predictions and inference.\n"
          ]
        },
        {
          "output_type": "display_data",
          "data": {
            "text/plain": [
              "Downloading:   0%|          | 0.00/243k [00:00<?, ?B/s]"
            ],
            "application/vnd.jupyter.widget-view+json": {
              "version_major": 2,
              "version_minor": 0,
              "model_id": "1bf8ac84be1944b5aabfc9fdaa654427"
            }
          },
          "metadata": {}
        },
        {
          "output_type": "display_data",
          "data": {
            "text/plain": [
              "Downloading:   0%|          | 0.00/125 [00:00<?, ?B/s]"
            ],
            "application/vnd.jupyter.widget-view+json": {
              "version_major": 2,
              "version_minor": 0,
              "model_id": "51983c4be8924e41bfdc56897af5cb0c"
            }
          },
          "metadata": {}
        },
        {
          "output_type": "display_data",
          "data": {
            "text/plain": [
              "Downloading:   0%|          | 0.00/289 [00:00<?, ?B/s]"
            ],
            "application/vnd.jupyter.widget-view+json": {
              "version_major": 2,
              "version_minor": 0,
              "model_id": "6ec526f02a12453a9b6e75fe6bc50a56"
            }
          },
          "metadata": {}
        }
      ]
    },
    {
      "cell_type": "markdown",
      "source": [
        "# GPU 작동확인\n",
        "- GPU는 Colab 상단 메뉴바-Runtime-Change Runtime type-Hardware Accelator 순서대로 접근한 후 선택 가능합니다."
      ],
      "metadata": {
        "id": "2j6baHiek1ki"
      }
    },
    {
      "cell_type": "code",
      "source": [
        "device_name = tf.test.gpu_device_name()\n",
        "if device_name == '/device:GPU:0':\n",
        "  print(\"GPU 작동 중\")\n",
        "  mirrored_strategy = tf.distribute.MirroredStrategy()\n",
        "else:\n",
        "  print(\"GPU 미작동 중\")"
      ],
      "metadata": {
        "id": "FJaUmNfwk145",
        "colab": {
          "base_uri": "https://localhost:8080/",
          "height": 0
        },
        "outputId": "7631a0cc-cf97-41e8-e62b-a8e787be27e3"
      },
      "execution_count": 6,
      "outputs": [
        {
          "output_type": "stream",
          "name": "stdout",
          "text": [
            "GPU 작동 중\n",
            "INFO:tensorflow:Using MirroredStrategy with devices ('/job:localhost/replica:0/task:0/device:GPU:0',)\n"
          ]
        }
      ]
    },
    {
      "cell_type": "markdown",
      "source": [
        "# 경제 뉴스 감정 데이터셋 다운로드\n",
        "- [Github @Ukairia777](https://github.com/ukairia777/finance_sentiment_corpus/blob/main/finance_data.csv) 리포지토리에서 가져옵니다."
      ],
      "metadata": {
        "id": "jBrxU1zPkYDM"
      }
    },
    {
      "cell_type": "code",
      "source": [
        "DATASET_URL = \"https://raw.githubusercontent.com/ukairia777/finance_sentiment_corpus/main/finance_data.csv\"\n",
        "DATASET_NAME = \"finance_data.csv\""
      ],
      "metadata": {
        "id": "c0XHS90D9tgB"
      },
      "execution_count": 7,
      "outputs": []
    },
    {
      "cell_type": "code",
      "source": [
        "urllib.request.urlretrieve(DATASET_URL, \n",
        "                           filename = DATASET_NAME\n",
        "                           )"
      ],
      "metadata": {
        "id": "IvDuKLNvoHPb",
        "colab": {
          "base_uri": "https://localhost:8080/",
          "height": 0
        },
        "outputId": "5c39c496-3f06-4381-caa3-bdd9596e4a9d"
      },
      "execution_count": 8,
      "outputs": [
        {
          "output_type": "execute_result",
          "data": {
            "text/plain": [
              "('finance_data.csv', <http.client.HTTPMessage at 0x7f7b4cbf3d10>)"
            ]
          },
          "metadata": {},
          "execution_count": 8
        }
      ]
    },
    {
      "cell_type": "code",
      "source": [
        "dataset = pd.read_csv(DATASET_NAME)\n",
        "dataset.head()"
      ],
      "metadata": {
        "id": "mv9dgqH1le3C",
        "colab": {
          "base_uri": "https://localhost:8080/",
          "height": 337
        },
        "outputId": "c8efae2b-1202-4bec-957d-fa55f7337d4c"
      },
      "execution_count": 9,
      "outputs": [
        {
          "output_type": "execute_result",
          "data": {
            "text/plain": [
              "     labels                                           sentence  \\\n",
              "0   neutral  According to Gran, the company has no plans to...   \n",
              "1   neutral  Technopolis plans to develop in stages an area...   \n",
              "2  negative  The international electronic industry company ...   \n",
              "3  positive  With the new production plant the company woul...   \n",
              "4  positive  According to the company's updated strategy fo...   \n",
              "\n",
              "                                        kor_sentence  \n",
              "0  Gran에 따르면, 그 회사는 회사가 성장하고 있는 곳이지만, 모든 생산을 러시아로...  \n",
              "1  테크노폴리스는 컴퓨터 기술과 통신 분야에서 일하는 회사들을 유치하기 위해 10만 평...  \n",
              "2  국제 전자산업 회사인 엘코텍은 탈린 공장에서 수십 명의 직원을 해고했으며, 이전의 ...  \n",
              "3  새로운 생산공장으로 인해 회사는 예상되는 수요 증가를 충족시킬 수 있는 능력을 증가...  \n",
              "4  2009-2012년 회사의 업데이트된 전략에 따르면, Basware는 20% - 4...  "
            ],
            "text/html": [
              "\n",
              "  <div id=\"df-911464a2-08a2-4e8d-a6cd-8b3af042e63a\">\n",
              "    <div class=\"colab-df-container\">\n",
              "      <div>\n",
              "<style scoped>\n",
              "    .dataframe tbody tr th:only-of-type {\n",
              "        vertical-align: middle;\n",
              "    }\n",
              "\n",
              "    .dataframe tbody tr th {\n",
              "        vertical-align: top;\n",
              "    }\n",
              "\n",
              "    .dataframe thead th {\n",
              "        text-align: right;\n",
              "    }\n",
              "</style>\n",
              "<table border=\"1\" class=\"dataframe\">\n",
              "  <thead>\n",
              "    <tr style=\"text-align: right;\">\n",
              "      <th></th>\n",
              "      <th>labels</th>\n",
              "      <th>sentence</th>\n",
              "      <th>kor_sentence</th>\n",
              "    </tr>\n",
              "  </thead>\n",
              "  <tbody>\n",
              "    <tr>\n",
              "      <th>0</th>\n",
              "      <td>neutral</td>\n",
              "      <td>According to Gran, the company has no plans to...</td>\n",
              "      <td>Gran에 따르면, 그 회사는 회사가 성장하고 있는 곳이지만, 모든 생산을 러시아로...</td>\n",
              "    </tr>\n",
              "    <tr>\n",
              "      <th>1</th>\n",
              "      <td>neutral</td>\n",
              "      <td>Technopolis plans to develop in stages an area...</td>\n",
              "      <td>테크노폴리스는 컴퓨터 기술과 통신 분야에서 일하는 회사들을 유치하기 위해 10만 평...</td>\n",
              "    </tr>\n",
              "    <tr>\n",
              "      <th>2</th>\n",
              "      <td>negative</td>\n",
              "      <td>The international electronic industry company ...</td>\n",
              "      <td>국제 전자산업 회사인 엘코텍은 탈린 공장에서 수십 명의 직원을 해고했으며, 이전의 ...</td>\n",
              "    </tr>\n",
              "    <tr>\n",
              "      <th>3</th>\n",
              "      <td>positive</td>\n",
              "      <td>With the new production plant the company woul...</td>\n",
              "      <td>새로운 생산공장으로 인해 회사는 예상되는 수요 증가를 충족시킬 수 있는 능력을 증가...</td>\n",
              "    </tr>\n",
              "    <tr>\n",
              "      <th>4</th>\n",
              "      <td>positive</td>\n",
              "      <td>According to the company's updated strategy fo...</td>\n",
              "      <td>2009-2012년 회사의 업데이트된 전략에 따르면, Basware는 20% - 4...</td>\n",
              "    </tr>\n",
              "  </tbody>\n",
              "</table>\n",
              "</div>\n",
              "      <button class=\"colab-df-convert\" onclick=\"convertToInteractive('df-911464a2-08a2-4e8d-a6cd-8b3af042e63a')\"\n",
              "              title=\"Convert this dataframe to an interactive table.\"\n",
              "              style=\"display:none;\">\n",
              "        \n",
              "  <svg xmlns=\"http://www.w3.org/2000/svg\" height=\"24px\"viewBox=\"0 0 24 24\"\n",
              "       width=\"24px\">\n",
              "    <path d=\"M0 0h24v24H0V0z\" fill=\"none\"/>\n",
              "    <path d=\"M18.56 5.44l.94 2.06.94-2.06 2.06-.94-2.06-.94-.94-2.06-.94 2.06-2.06.94zm-11 1L8.5 8.5l.94-2.06 2.06-.94-2.06-.94L8.5 2.5l-.94 2.06-2.06.94zm10 10l.94 2.06.94-2.06 2.06-.94-2.06-.94-.94-2.06-.94 2.06-2.06.94z\"/><path d=\"M17.41 7.96l-1.37-1.37c-.4-.4-.92-.59-1.43-.59-.52 0-1.04.2-1.43.59L10.3 9.45l-7.72 7.72c-.78.78-.78 2.05 0 2.83L4 21.41c.39.39.9.59 1.41.59.51 0 1.02-.2 1.41-.59l7.78-7.78 2.81-2.81c.8-.78.8-2.07 0-2.86zM5.41 20L4 18.59l7.72-7.72 1.47 1.35L5.41 20z\"/>\n",
              "  </svg>\n",
              "      </button>\n",
              "      \n",
              "  <style>\n",
              "    .colab-df-container {\n",
              "      display:flex;\n",
              "      flex-wrap:wrap;\n",
              "      gap: 12px;\n",
              "    }\n",
              "\n",
              "    .colab-df-convert {\n",
              "      background-color: #E8F0FE;\n",
              "      border: none;\n",
              "      border-radius: 50%;\n",
              "      cursor: pointer;\n",
              "      display: none;\n",
              "      fill: #1967D2;\n",
              "      height: 32px;\n",
              "      padding: 0 0 0 0;\n",
              "      width: 32px;\n",
              "    }\n",
              "\n",
              "    .colab-df-convert:hover {\n",
              "      background-color: #E2EBFA;\n",
              "      box-shadow: 0px 1px 2px rgba(60, 64, 67, 0.3), 0px 1px 3px 1px rgba(60, 64, 67, 0.15);\n",
              "      fill: #174EA6;\n",
              "    }\n",
              "\n",
              "    [theme=dark] .colab-df-convert {\n",
              "      background-color: #3B4455;\n",
              "      fill: #D2E3FC;\n",
              "    }\n",
              "\n",
              "    [theme=dark] .colab-df-convert:hover {\n",
              "      background-color: #434B5C;\n",
              "      box-shadow: 0px 1px 3px 1px rgba(0, 0, 0, 0.15);\n",
              "      filter: drop-shadow(0px 1px 2px rgba(0, 0, 0, 0.3));\n",
              "      fill: #FFFFFF;\n",
              "    }\n",
              "  </style>\n",
              "\n",
              "      <script>\n",
              "        const buttonEl =\n",
              "          document.querySelector('#df-911464a2-08a2-4e8d-a6cd-8b3af042e63a button.colab-df-convert');\n",
              "        buttonEl.style.display =\n",
              "          google.colab.kernel.accessAllowed ? 'block' : 'none';\n",
              "\n",
              "        async function convertToInteractive(key) {\n",
              "          const element = document.querySelector('#df-911464a2-08a2-4e8d-a6cd-8b3af042e63a');\n",
              "          const dataTable =\n",
              "            await google.colab.kernel.invokeFunction('convertToInteractive',\n",
              "                                                     [key], {});\n",
              "          if (!dataTable) return;\n",
              "\n",
              "          const docLinkHtml = 'Like what you see? Visit the ' +\n",
              "            '<a target=\"_blank\" href=https://colab.research.google.com/notebooks/data_table.ipynb>data table notebook</a>'\n",
              "            + ' to learn more about interactive tables.';\n",
              "          element.innerHTML = '';\n",
              "          dataTable['output_type'] = 'display_data';\n",
              "          await google.colab.output.renderOutput(dataTable, element);\n",
              "          const docLink = document.createElement('div');\n",
              "          docLink.innerHTML = docLinkHtml;\n",
              "          element.appendChild(docLink);\n",
              "        }\n",
              "      </script>\n",
              "    </div>\n",
              "  </div>\n",
              "  "
            ]
          },
          "metadata": {},
          "execution_count": 9
        }
      ]
    },
    {
      "cell_type": "markdown",
      "source": [
        "# 데이터 전처리"
      ],
      "metadata": {
        "id": "kWyddGLIpqxD"
      }
    },
    {
      "cell_type": "markdown",
      "source": [
        "## 영어 뉴스 기사 칼럼 제거\n",
        "- 한국어 데이터만 사용할 것이기 때문에 영문 데이터를 포함한 칼럼은 삭제합니다."
      ],
      "metadata": {
        "id": "Hn-AnpORqAS5"
      }
    },
    {
      "cell_type": "code",
      "source": [
        "del dataset['sentence']"
      ],
      "metadata": {
        "id": "uwidSUWApm1T"
      },
      "execution_count": 10,
      "outputs": []
    },
    {
      "cell_type": "markdown",
      "source": [
        "## 라벨 데이터 숫자 치환"
      ],
      "metadata": {
        "id": "0hSlYx4vqD4u"
      }
    },
    {
      "cell_type": "code",
      "source": [
        "dataset['labels'] = dataset['labels'].replace(['neutral', 'positive', 'negative'],[0, 1, 2])\n",
        "dataset.head()"
      ],
      "metadata": {
        "id": "2MS8Ov30mQga",
        "colab": {
          "base_uri": "https://localhost:8080/",
          "height": 206
        },
        "outputId": "dc53d03e-bb5a-4275-b02f-8f6d2fa95e5a"
      },
      "execution_count": 11,
      "outputs": [
        {
          "output_type": "execute_result",
          "data": {
            "text/plain": [
              "   labels                                       kor_sentence\n",
              "0       0  Gran에 따르면, 그 회사는 회사가 성장하고 있는 곳이지만, 모든 생산을 러시아로...\n",
              "1       0  테크노폴리스는 컴퓨터 기술과 통신 분야에서 일하는 회사들을 유치하기 위해 10만 평...\n",
              "2       2  국제 전자산업 회사인 엘코텍은 탈린 공장에서 수십 명의 직원을 해고했으며, 이전의 ...\n",
              "3       1  새로운 생산공장으로 인해 회사는 예상되는 수요 증가를 충족시킬 수 있는 능력을 증가...\n",
              "4       1  2009-2012년 회사의 업데이트된 전략에 따르면, Basware는 20% - 4..."
            ],
            "text/html": [
              "\n",
              "  <div id=\"df-7861a4da-0057-4649-9526-0f0d1426770d\">\n",
              "    <div class=\"colab-df-container\">\n",
              "      <div>\n",
              "<style scoped>\n",
              "    .dataframe tbody tr th:only-of-type {\n",
              "        vertical-align: middle;\n",
              "    }\n",
              "\n",
              "    .dataframe tbody tr th {\n",
              "        vertical-align: top;\n",
              "    }\n",
              "\n",
              "    .dataframe thead th {\n",
              "        text-align: right;\n",
              "    }\n",
              "</style>\n",
              "<table border=\"1\" class=\"dataframe\">\n",
              "  <thead>\n",
              "    <tr style=\"text-align: right;\">\n",
              "      <th></th>\n",
              "      <th>labels</th>\n",
              "      <th>kor_sentence</th>\n",
              "    </tr>\n",
              "  </thead>\n",
              "  <tbody>\n",
              "    <tr>\n",
              "      <th>0</th>\n",
              "      <td>0</td>\n",
              "      <td>Gran에 따르면, 그 회사는 회사가 성장하고 있는 곳이지만, 모든 생산을 러시아로...</td>\n",
              "    </tr>\n",
              "    <tr>\n",
              "      <th>1</th>\n",
              "      <td>0</td>\n",
              "      <td>테크노폴리스는 컴퓨터 기술과 통신 분야에서 일하는 회사들을 유치하기 위해 10만 평...</td>\n",
              "    </tr>\n",
              "    <tr>\n",
              "      <th>2</th>\n",
              "      <td>2</td>\n",
              "      <td>국제 전자산업 회사인 엘코텍은 탈린 공장에서 수십 명의 직원을 해고했으며, 이전의 ...</td>\n",
              "    </tr>\n",
              "    <tr>\n",
              "      <th>3</th>\n",
              "      <td>1</td>\n",
              "      <td>새로운 생산공장으로 인해 회사는 예상되는 수요 증가를 충족시킬 수 있는 능력을 증가...</td>\n",
              "    </tr>\n",
              "    <tr>\n",
              "      <th>4</th>\n",
              "      <td>1</td>\n",
              "      <td>2009-2012년 회사의 업데이트된 전략에 따르면, Basware는 20% - 4...</td>\n",
              "    </tr>\n",
              "  </tbody>\n",
              "</table>\n",
              "</div>\n",
              "      <button class=\"colab-df-convert\" onclick=\"convertToInteractive('df-7861a4da-0057-4649-9526-0f0d1426770d')\"\n",
              "              title=\"Convert this dataframe to an interactive table.\"\n",
              "              style=\"display:none;\">\n",
              "        \n",
              "  <svg xmlns=\"http://www.w3.org/2000/svg\" height=\"24px\"viewBox=\"0 0 24 24\"\n",
              "       width=\"24px\">\n",
              "    <path d=\"M0 0h24v24H0V0z\" fill=\"none\"/>\n",
              "    <path d=\"M18.56 5.44l.94 2.06.94-2.06 2.06-.94-2.06-.94-.94-2.06-.94 2.06-2.06.94zm-11 1L8.5 8.5l.94-2.06 2.06-.94-2.06-.94L8.5 2.5l-.94 2.06-2.06.94zm10 10l.94 2.06.94-2.06 2.06-.94-2.06-.94-.94-2.06-.94 2.06-2.06.94z\"/><path d=\"M17.41 7.96l-1.37-1.37c-.4-.4-.92-.59-1.43-.59-.52 0-1.04.2-1.43.59L10.3 9.45l-7.72 7.72c-.78.78-.78 2.05 0 2.83L4 21.41c.39.39.9.59 1.41.59.51 0 1.02-.2 1.41-.59l7.78-7.78 2.81-2.81c.8-.78.8-2.07 0-2.86zM5.41 20L4 18.59l7.72-7.72 1.47 1.35L5.41 20z\"/>\n",
              "  </svg>\n",
              "      </button>\n",
              "      \n",
              "  <style>\n",
              "    .colab-df-container {\n",
              "      display:flex;\n",
              "      flex-wrap:wrap;\n",
              "      gap: 12px;\n",
              "    }\n",
              "\n",
              "    .colab-df-convert {\n",
              "      background-color: #E8F0FE;\n",
              "      border: none;\n",
              "      border-radius: 50%;\n",
              "      cursor: pointer;\n",
              "      display: none;\n",
              "      fill: #1967D2;\n",
              "      height: 32px;\n",
              "      padding: 0 0 0 0;\n",
              "      width: 32px;\n",
              "    }\n",
              "\n",
              "    .colab-df-convert:hover {\n",
              "      background-color: #E2EBFA;\n",
              "      box-shadow: 0px 1px 2px rgba(60, 64, 67, 0.3), 0px 1px 3px 1px rgba(60, 64, 67, 0.15);\n",
              "      fill: #174EA6;\n",
              "    }\n",
              "\n",
              "    [theme=dark] .colab-df-convert {\n",
              "      background-color: #3B4455;\n",
              "      fill: #D2E3FC;\n",
              "    }\n",
              "\n",
              "    [theme=dark] .colab-df-convert:hover {\n",
              "      background-color: #434B5C;\n",
              "      box-shadow: 0px 1px 3px 1px rgba(0, 0, 0, 0.15);\n",
              "      filter: drop-shadow(0px 1px 2px rgba(0, 0, 0, 0.3));\n",
              "      fill: #FFFFFF;\n",
              "    }\n",
              "  </style>\n",
              "\n",
              "      <script>\n",
              "        const buttonEl =\n",
              "          document.querySelector('#df-7861a4da-0057-4649-9526-0f0d1426770d button.colab-df-convert');\n",
              "        buttonEl.style.display =\n",
              "          google.colab.kernel.accessAllowed ? 'block' : 'none';\n",
              "\n",
              "        async function convertToInteractive(key) {\n",
              "          const element = document.querySelector('#df-7861a4da-0057-4649-9526-0f0d1426770d');\n",
              "          const dataTable =\n",
              "            await google.colab.kernel.invokeFunction('convertToInteractive',\n",
              "                                                     [key], {});\n",
              "          if (!dataTable) return;\n",
              "\n",
              "          const docLinkHtml = 'Like what you see? Visit the ' +\n",
              "            '<a target=\"_blank\" href=https://colab.research.google.com/notebooks/data_table.ipynb>data table notebook</a>'\n",
              "            + ' to learn more about interactive tables.';\n",
              "          element.innerHTML = '';\n",
              "          dataTable['output_type'] = 'display_data';\n",
              "          await google.colab.output.renderOutput(dataTable, element);\n",
              "          const docLink = document.createElement('div');\n",
              "          docLink.innerHTML = docLinkHtml;\n",
              "          element.appendChild(docLink);\n",
              "        }\n",
              "      </script>\n",
              "    </div>\n",
              "  </div>\n",
              "  "
            ]
          },
          "metadata": {},
          "execution_count": 11
        }
      ]
    },
    {
      "cell_type": "markdown",
      "source": [
        "## 결측치 확인\n",
        "- 결측치 미존재"
      ],
      "metadata": {
        "id": "wL-n_KNVqIEb"
      }
    },
    {
      "cell_type": "code",
      "source": [
        "dataset.info()"
      ],
      "metadata": {
        "id": "Z9HMau-Wo3eN",
        "colab": {
          "base_uri": "https://localhost:8080/",
          "height": 0
        },
        "outputId": "8fa3db0b-7e3b-4a16-aa52-967c05b3e120"
      },
      "execution_count": 12,
      "outputs": [
        {
          "output_type": "stream",
          "name": "stdout",
          "text": [
            "<class 'pandas.core.frame.DataFrame'>\n",
            "RangeIndex: 4846 entries, 0 to 4845\n",
            "Data columns (total 2 columns):\n",
            " #   Column        Non-Null Count  Dtype \n",
            "---  ------        --------------  ----- \n",
            " 0   labels        4846 non-null   int64 \n",
            " 1   kor_sentence  4846 non-null   object\n",
            "dtypes: int64(1), object(1)\n",
            "memory usage: 75.8+ KB\n"
          ]
        }
      ]
    },
    {
      "cell_type": "markdown",
      "source": [
        "## 중복 데이터 제거"
      ],
      "metadata": {
        "id": "SvDKFgLqpypm"
      }
    },
    {
      "cell_type": "code",
      "source": [
        "# 중복 데이터 확인\n",
        "dataset[dataset['kor_sentence'].duplicated()]"
      ],
      "metadata": {
        "id": "kOak2axUqU4C",
        "colab": {
          "base_uri": "https://localhost:8080/",
          "height": 645
        },
        "outputId": "5515c0e3-2c13-48f2-f79b-9aac3ab17ca5"
      },
      "execution_count": null,
      "outputs": [
        {
          "output_type": "execute_result",
          "data": {
            "text/plain": [
              "      labels                                       kor_sentence\n",
              "79         1  텔레콤월드와이어-2006년 4월 7일-TJ 그룹은 모닝 디지털 디자인 Oy 핀란드 ...\n",
              "789        0  그룹의 사업은 스포츠의 광범위한 포트폴리오와 모든 주요 시장에서의 입지에 의해 균형...\n",
              "1099       0                   이 발표 내용에 대한 책임은 전적으로 발행자에게 있습니다.\n",
              "1394       0  핀란드 헬싱키에 본사를 둔 레민카이넨 그룹은 토목 공학, 건축 계약, 기술 건축 서...\n",
              "1416       0  이 보고서는 블랙 앤 데커, 피스카스, 피스카스 브랜드, 후스크바르나 아웃도어 프로...\n",
              "2396       0                   알스트롬의 주가는 나스닥 OMX 헬싱키에서 인용되고 있다.\n",
              "2567       0               SSH 통신 보안 코퍼레이션은 핀란드 헬싱키에 본사를 두고 있다.\n",
              "2889       0                               재정적인 세부사항은 공개되지 않았다.\n",
              "2890       0                               재정적인 세부사항은 공개되지 않았다.\n",
              "2892       0                                   금융 조건은 공개되지 않았다.\n",
              "3050       0                               재정적인 세부사항은 제공되지 않았다.\n",
              "3051       0                               재정적인 세부사항은 공개되지 않았다.\n",
              "3094       0  Proha Plc (Euronext :7327)는 오늘 (5월 19일) 완전 소유 ...\n",
              "3206       0  공정 및 자원, 산업기계, 건축, 건축, 건설, 전기, 운송, 전자, 화학, 석유화...\n",
              "3350       0                                   판매 가격은 공개되지 않았다.\n",
              "3538       0     아스포의 그룹 구조와 비즈니스 운영은 미리 정의된 일정 없이 지속적으로 개발됩니다.\n",
              "3605       0  핀란드 탐페레에 본사를 둔 Glaston은 성장하고 있는 국제적인 유리 기술 회사입니다.\n",
              "3617       0                    2007년에 에트플랜은 125.2m의 회전율을 기록했다.\n",
              "3938       0                                그 거래의 가치는 공개되지 않았다."
            ],
            "text/html": [
              "\n",
              "  <div id=\"df-b7b470a3-4e0a-4c27-a147-fe9fe976348a\">\n",
              "    <div class=\"colab-df-container\">\n",
              "      <div>\n",
              "<style scoped>\n",
              "    .dataframe tbody tr th:only-of-type {\n",
              "        vertical-align: middle;\n",
              "    }\n",
              "\n",
              "    .dataframe tbody tr th {\n",
              "        vertical-align: top;\n",
              "    }\n",
              "\n",
              "    .dataframe thead th {\n",
              "        text-align: right;\n",
              "    }\n",
              "</style>\n",
              "<table border=\"1\" class=\"dataframe\">\n",
              "  <thead>\n",
              "    <tr style=\"text-align: right;\">\n",
              "      <th></th>\n",
              "      <th>labels</th>\n",
              "      <th>kor_sentence</th>\n",
              "    </tr>\n",
              "  </thead>\n",
              "  <tbody>\n",
              "    <tr>\n",
              "      <th>79</th>\n",
              "      <td>1</td>\n",
              "      <td>텔레콤월드와이어-2006년 4월 7일-TJ 그룹은 모닝 디지털 디자인 Oy 핀란드 ...</td>\n",
              "    </tr>\n",
              "    <tr>\n",
              "      <th>789</th>\n",
              "      <td>0</td>\n",
              "      <td>그룹의 사업은 스포츠의 광범위한 포트폴리오와 모든 주요 시장에서의 입지에 의해 균형...</td>\n",
              "    </tr>\n",
              "    <tr>\n",
              "      <th>1099</th>\n",
              "      <td>0</td>\n",
              "      <td>이 발표 내용에 대한 책임은 전적으로 발행자에게 있습니다.</td>\n",
              "    </tr>\n",
              "    <tr>\n",
              "      <th>1394</th>\n",
              "      <td>0</td>\n",
              "      <td>핀란드 헬싱키에 본사를 둔 레민카이넨 그룹은 토목 공학, 건축 계약, 기술 건축 서...</td>\n",
              "    </tr>\n",
              "    <tr>\n",
              "      <th>1416</th>\n",
              "      <td>0</td>\n",
              "      <td>이 보고서는 블랙 앤 데커, 피스카스, 피스카스 브랜드, 후스크바르나 아웃도어 프로...</td>\n",
              "    </tr>\n",
              "    <tr>\n",
              "      <th>2396</th>\n",
              "      <td>0</td>\n",
              "      <td>알스트롬의 주가는 나스닥 OMX 헬싱키에서 인용되고 있다.</td>\n",
              "    </tr>\n",
              "    <tr>\n",
              "      <th>2567</th>\n",
              "      <td>0</td>\n",
              "      <td>SSH 통신 보안 코퍼레이션은 핀란드 헬싱키에 본사를 두고 있다.</td>\n",
              "    </tr>\n",
              "    <tr>\n",
              "      <th>2889</th>\n",
              "      <td>0</td>\n",
              "      <td>재정적인 세부사항은 공개되지 않았다.</td>\n",
              "    </tr>\n",
              "    <tr>\n",
              "      <th>2890</th>\n",
              "      <td>0</td>\n",
              "      <td>재정적인 세부사항은 공개되지 않았다.</td>\n",
              "    </tr>\n",
              "    <tr>\n",
              "      <th>2892</th>\n",
              "      <td>0</td>\n",
              "      <td>금융 조건은 공개되지 않았다.</td>\n",
              "    </tr>\n",
              "    <tr>\n",
              "      <th>3050</th>\n",
              "      <td>0</td>\n",
              "      <td>재정적인 세부사항은 제공되지 않았다.</td>\n",
              "    </tr>\n",
              "    <tr>\n",
              "      <th>3051</th>\n",
              "      <td>0</td>\n",
              "      <td>재정적인 세부사항은 공개되지 않았다.</td>\n",
              "    </tr>\n",
              "    <tr>\n",
              "      <th>3094</th>\n",
              "      <td>0</td>\n",
              "      <td>Proha Plc (Euronext :7327)는 오늘 (5월 19일) 완전 소유 ...</td>\n",
              "    </tr>\n",
              "    <tr>\n",
              "      <th>3206</th>\n",
              "      <td>0</td>\n",
              "      <td>공정 및 자원, 산업기계, 건축, 건축, 건설, 전기, 운송, 전자, 화학, 석유화...</td>\n",
              "    </tr>\n",
              "    <tr>\n",
              "      <th>3350</th>\n",
              "      <td>0</td>\n",
              "      <td>판매 가격은 공개되지 않았다.</td>\n",
              "    </tr>\n",
              "    <tr>\n",
              "      <th>3538</th>\n",
              "      <td>0</td>\n",
              "      <td>아스포의 그룹 구조와 비즈니스 운영은 미리 정의된 일정 없이 지속적으로 개발됩니다.</td>\n",
              "    </tr>\n",
              "    <tr>\n",
              "      <th>3605</th>\n",
              "      <td>0</td>\n",
              "      <td>핀란드 탐페레에 본사를 둔 Glaston은 성장하고 있는 국제적인 유리 기술 회사입니다.</td>\n",
              "    </tr>\n",
              "    <tr>\n",
              "      <th>3617</th>\n",
              "      <td>0</td>\n",
              "      <td>2007년에 에트플랜은 125.2m의 회전율을 기록했다.</td>\n",
              "    </tr>\n",
              "    <tr>\n",
              "      <th>3938</th>\n",
              "      <td>0</td>\n",
              "      <td>그 거래의 가치는 공개되지 않았다.</td>\n",
              "    </tr>\n",
              "  </tbody>\n",
              "</table>\n",
              "</div>\n",
              "      <button class=\"colab-df-convert\" onclick=\"convertToInteractive('df-b7b470a3-4e0a-4c27-a147-fe9fe976348a')\"\n",
              "              title=\"Convert this dataframe to an interactive table.\"\n",
              "              style=\"display:none;\">\n",
              "        \n",
              "  <svg xmlns=\"http://www.w3.org/2000/svg\" height=\"24px\"viewBox=\"0 0 24 24\"\n",
              "       width=\"24px\">\n",
              "    <path d=\"M0 0h24v24H0V0z\" fill=\"none\"/>\n",
              "    <path d=\"M18.56 5.44l.94 2.06.94-2.06 2.06-.94-2.06-.94-.94-2.06-.94 2.06-2.06.94zm-11 1L8.5 8.5l.94-2.06 2.06-.94-2.06-.94L8.5 2.5l-.94 2.06-2.06.94zm10 10l.94 2.06.94-2.06 2.06-.94-2.06-.94-.94-2.06-.94 2.06-2.06.94z\"/><path d=\"M17.41 7.96l-1.37-1.37c-.4-.4-.92-.59-1.43-.59-.52 0-1.04.2-1.43.59L10.3 9.45l-7.72 7.72c-.78.78-.78 2.05 0 2.83L4 21.41c.39.39.9.59 1.41.59.51 0 1.02-.2 1.41-.59l7.78-7.78 2.81-2.81c.8-.78.8-2.07 0-2.86zM5.41 20L4 18.59l7.72-7.72 1.47 1.35L5.41 20z\"/>\n",
              "  </svg>\n",
              "      </button>\n",
              "      \n",
              "  <style>\n",
              "    .colab-df-container {\n",
              "      display:flex;\n",
              "      flex-wrap:wrap;\n",
              "      gap: 12px;\n",
              "    }\n",
              "\n",
              "    .colab-df-convert {\n",
              "      background-color: #E8F0FE;\n",
              "      border: none;\n",
              "      border-radius: 50%;\n",
              "      cursor: pointer;\n",
              "      display: none;\n",
              "      fill: #1967D2;\n",
              "      height: 32px;\n",
              "      padding: 0 0 0 0;\n",
              "      width: 32px;\n",
              "    }\n",
              "\n",
              "    .colab-df-convert:hover {\n",
              "      background-color: #E2EBFA;\n",
              "      box-shadow: 0px 1px 2px rgba(60, 64, 67, 0.3), 0px 1px 3px 1px rgba(60, 64, 67, 0.15);\n",
              "      fill: #174EA6;\n",
              "    }\n",
              "\n",
              "    [theme=dark] .colab-df-convert {\n",
              "      background-color: #3B4455;\n",
              "      fill: #D2E3FC;\n",
              "    }\n",
              "\n",
              "    [theme=dark] .colab-df-convert:hover {\n",
              "      background-color: #434B5C;\n",
              "      box-shadow: 0px 1px 3px 1px rgba(0, 0, 0, 0.15);\n",
              "      filter: drop-shadow(0px 1px 2px rgba(0, 0, 0, 0.3));\n",
              "      fill: #FFFFFF;\n",
              "    }\n",
              "  </style>\n",
              "\n",
              "      <script>\n",
              "        const buttonEl =\n",
              "          document.querySelector('#df-b7b470a3-4e0a-4c27-a147-fe9fe976348a button.colab-df-convert');\n",
              "        buttonEl.style.display =\n",
              "          google.colab.kernel.accessAllowed ? 'block' : 'none';\n",
              "\n",
              "        async function convertToInteractive(key) {\n",
              "          const element = document.querySelector('#df-b7b470a3-4e0a-4c27-a147-fe9fe976348a');\n",
              "          const dataTable =\n",
              "            await google.colab.kernel.invokeFunction('convertToInteractive',\n",
              "                                                     [key], {});\n",
              "          if (!dataTable) return;\n",
              "\n",
              "          const docLinkHtml = 'Like what you see? Visit the ' +\n",
              "            '<a target=\"_blank\" href=https://colab.research.google.com/notebooks/data_table.ipynb>data table notebook</a>'\n",
              "            + ' to learn more about interactive tables.';\n",
              "          element.innerHTML = '';\n",
              "          dataTable['output_type'] = 'display_data';\n",
              "          await google.colab.output.renderOutput(dataTable, element);\n",
              "          const docLink = document.createElement('div');\n",
              "          docLink.innerHTML = docLinkHtml;\n",
              "          element.appendChild(docLink);\n",
              "        }\n",
              "      </script>\n",
              "    </div>\n",
              "  </div>\n",
              "  "
            ]
          },
          "metadata": {},
          "execution_count": 66
        }
      ]
    },
    {
      "cell_type": "code",
      "source": [
        "DATASET_PREP_FILE = './data/dataset_prep.csv'\n",
        "# 중복 데이터 제거\n",
        "dataset.drop_duplicates(subset = ['kor_sentence'], inplace = True)\n",
        "dataset.to_csv(DATASET_PREP_FILE) # 구글 드라이브 내 data 폴더에 저장"
      ],
      "metadata": {
        "id": "sBe8Z4Qfp_he"
      },
      "execution_count": null,
      "outputs": []
    },
    {
      "cell_type": "markdown",
      "source": [
        "# 라벨별 데이터 분포 확인"
      ],
      "metadata": {
        "id": "w8o-rdwUq8LP"
      }
    },
    {
      "cell_type": "code",
      "source": [
        "LABEL_NUM_FILE = './figure/label_number.png'\n",
        "dataset['labels'].value_counts().plot(kind = 'bar')\n",
        "plt.xlabel(\"Label\")\n",
        "plt.ylabel(\"Number\")\n",
        "plt.savefig(LABEL_NUM_FILE) # 구글 드라이브 내 figure 폴더에 저장"
      ],
      "metadata": {
        "colab": {
          "base_uri": "https://localhost:8080/",
          "height": 279
        },
        "id": "L2AnQLZB4yIv",
        "outputId": "2483c89a-4cce-4876-a436-e721c31b823f"
      },
      "execution_count": null,
      "outputs": [
        {
          "output_type": "display_data",
          "data": {
            "text/plain": [
              "<Figure size 432x288 with 1 Axes>"
            ],
            "image/png": "[encoded data removed]"
          },
          "metadata": {
            "needs_background": "light"
          }
        }
      ]
    },
    {
      "cell_type": "code",
      "source": [
        "LABEL_RATIO_FILE = './figure/label_ratio.png'\n",
        "dataset['labels'].value_counts(normalize = True).plot(kind = 'bar', )\n",
        "plt.xlabel(\"Label\")\n",
        "plt.ylabel(\"Ratio\")\n",
        "plt.savefig(LABEL_RATIO_FILE)"
      ],
      "metadata": {
        "id": "Gqgaud01rCsw",
        "colab": {
          "base_uri": "https://localhost:8080/",
          "height": 276
        },
        "outputId": "a1caccde-dfad-4387-a0e7-ab863f9fcc68"
      },
      "execution_count": null,
      "outputs": [
        {
          "output_type": "display_data",
          "data": {
            "text/plain": [
              "<Figure size 432x288 with 1 Axes>"
            ],
            "image/png": "[encoded data removed]"
          },
          "metadata": {
            "needs_background": "light"
          }
        }
      ]
    },
    {
      "cell_type": "code",
      "source": [
        "# 중립적인 기사문 59.27%, 긍정적인 기사문 28.22%, 부정적인 기사문 12.51%\n",
        "dataset['labels'].value_counts(normalize = True)"
      ],
      "metadata": {
        "id": "AuN8pEZJrQe1",
        "colab": {
          "base_uri": "https://localhost:8080/"
        },
        "outputId": "9599a158-7197-4b24-80ab-a0b8dfe6a289"
      },
      "execution_count": null,
      "outputs": [
        {
          "output_type": "execute_result",
          "data": {
            "text/plain": [
              "0    0.592708\n",
              "1    0.282163\n",
              "2    0.125129\n",
              "Name: labels, dtype: float64"
            ]
          },
          "metadata": {},
          "execution_count": 73
        }
      ]
    },
    {
      "cell_type": "markdown",
      "source": [
        "# Train/Test 데이터 분리"
      ],
      "metadata": {
        "id": "ZDSBMlrq59ng"
      }
    },
    {
      "cell_type": "code",
      "source": [
        "# 입출력 데이터 분리\n",
        "X_data = dataset['kor_sentence']\n",
        "y_data = dataset['labels']"
      ],
      "metadata": {
        "id": "exgj3Ols6DV0"
      },
      "execution_count": null,
      "outputs": []
    },
    {
      "cell_type": "code",
      "source": [
        "TEST_SIZE = 0.2 # Train: Test = 8 :2 분리\n",
        "RANDOM_STATE = 42\n",
        "# strtify = True 일 경우, 데이터 분리 이전의 라벨별 분포 고려\n",
        "X_train, X_test, y_train, y_test = train_test_split(X_data, y_data, \n",
        "                                                    test_size = TEST_SIZE, \n",
        "                                                    random_state = RANDOM_STATE, \n",
        "                                                    stratify = y_data)"
      ],
      "metadata": {
        "id": "Z4RsNzb758zK"
      },
      "execution_count": null,
      "outputs": []
    },
    {
      "cell_type": "code",
      "source": [
        "print(f\"훈련 입력 데이터 개수: {len(X_train)}\")\n",
        "print(f\"테스트 입력 데이터 개수: {len(X_test)}\")"
      ],
      "metadata": {
        "id": "J-o9-UN865IQ",
        "colab": {
          "base_uri": "https://localhost:8080/"
        },
        "outputId": "ed9bcfa2-e103-4978-b3e5-2cb7c2f40b8e"
      },
      "execution_count": null,
      "outputs": [
        {
          "output_type": "stream",
          "name": "stdout",
          "text": [
            "훈련 입력 데이터 개수: 3861\n",
            "테스트 입력 데이터 개수: 966\n"
          ]
        }
      ]
    },
    {
      "cell_type": "code",
      "source": [
        "# 훈련 데이터 라벨별 비율\n",
        "y_train.value_counts(normalize = True)"
      ],
      "metadata": {
        "id": "Uhz52W-V6fNk",
        "colab": {
          "base_uri": "https://localhost:8080/"
        },
        "outputId": "4a39bee6-6ea7-43b7-8c43-0176774fc53c"
      },
      "execution_count": null,
      "outputs": [
        {
          "output_type": "execute_result",
          "data": {
            "text/plain": [
              "0    0.592852\n",
              "1    0.282051\n",
              "2    0.125097\n",
              "Name: labels, dtype: float64"
            ]
          },
          "metadata": {},
          "execution_count": 77
        }
      ]
    },
    {
      "cell_type": "code",
      "source": [
        "# 테스트 데이터 라벨별 비율\n",
        "y_test.value_counts(normalize = True)"
      ],
      "metadata": {
        "id": "A2Zloah662Bf",
        "colab": {
          "base_uri": "https://localhost:8080/"
        },
        "outputId": "7ff9f2a2-8bab-47ce-b74b-e80a17a02a6b"
      },
      "execution_count": null,
      "outputs": [
        {
          "output_type": "execute_result",
          "data": {
            "text/plain": [
              "0    0.592133\n",
              "1    0.282609\n",
              "2    0.125259\n",
              "Name: labels, dtype: float64"
            ]
          },
          "metadata": {},
          "execution_count": 78
        }
      ]
    },
    {
      "cell_type": "markdown",
      "source": [
        "# BERT 입력용 데이터 포맷으로 변경"
      ],
      "metadata": {
        "id": "jpdWZDjw4qdj"
      }
    },
    {
      "cell_type": "code",
      "source": [
        "# 입력 데이터(문장) 길이 제한\n",
        "MAX_SEQ_LEN = 64"
      ],
      "metadata": {
        "id": "8fGc7OQNkujl"
      },
      "execution_count": null,
      "outputs": []
    },
    {
      "cell_type": "code",
      "source": [
        "def convert_data(X_data, y_data):\n",
        "    # BERT 입력으로 들어가는 token, mask, segment, target 저장용 리스트\n",
        "    tokens, masks, segments, targets = [], [], [], []\n",
        "    \n",
        "    for X, y in tqdm(zip(X_data, y_data)):\n",
        "        # token: 입력 문장 토큰화\n",
        "        token = tokenizer.encode(X, truncation = True, padding = 'max_length', max_length = MAX_SEQ_LEN)\n",
        "        \n",
        "        # Mask: 토큰화한 문장 내 패딩이 아닌 경우 1, 패딩인 경우 0으로 초기화\n",
        "        num_zeros = token.count(0)\n",
        "        mask = [1] * (MAX_SEQ_LEN - num_zeros) + [0] * num_zeros\n",
        "        \n",
        "        # segment: 문장 전후관계 구분: 오직 한 문장이므로 모두 0으로 초기화\n",
        "        segment = [0]*MAX_SEQ_LEN\n",
        "\n",
        "        tokens.append(token)\n",
        "        masks.append(mask)\n",
        "        segments.append(segment)\n",
        "        targets.append(y)\n",
        "\n",
        "    # numpy array로 저장\n",
        "    tokens = np.array(tokens)\n",
        "    masks = np.array(masks)\n",
        "    segments = np.array(segments)\n",
        "    targets = np.array(targets)\n",
        "\n",
        "    return [tokens, masks, segments], targets"
      ],
      "metadata": {
        "id": "t7RRnhKnXkqx"
      },
      "execution_count": null,
      "outputs": []
    },
    {
      "cell_type": "code",
      "source": [
        "# train 데이터를 Bert의 Input 타입에 맞게 변환\n",
        "train_x, train_y = convert_data(X_train, y_train)"
      ],
      "metadata": {
        "id": "Vg2uudZzXkdb",
        "colab": {
          "base_uri": "https://localhost:8080/"
        },
        "outputId": "298745c7-2843-4ab4-9a7a-734e98e33dd8"
      },
      "execution_count": null,
      "outputs": [
        {
          "output_type": "stream",
          "name": "stderr",
          "text": [
            "3861it [00:01, 2217.98it/s]\n"
          ]
        }
      ]
    },
    {
      "cell_type": "code",
      "source": [
        "# test 데이터를 Bert의 Input 타입에 맞게 변환\n",
        "test_x, test_y = convert_data(X_test, y_test)"
      ],
      "metadata": {
        "id": "8XvxHlx7Y7Zr",
        "colab": {
          "base_uri": "https://localhost:8080/"
        },
        "outputId": "6d026f91-2c61-4654-8529-0f7bb657ce26"
      },
      "execution_count": null,
      "outputs": [
        {
          "output_type": "stream",
          "name": "stderr",
          "text": [
            "966it [00:00, 2187.05it/s]\n"
          ]
        }
      ]
    },
    {
      "cell_type": "markdown",
      "source": [
        "# BERT를 활용한 파인튜닝"
      ],
      "metadata": {
        "id": "syg1I2wd79KM"
      }
    },
    {
      "cell_type": "code",
      "source": [
        "# token, mask, segment 입력 정의\n",
        "token_inputs = tf.keras.layers.Input((MAX_SEQ_LEN,), dtype = tf.int32, name = 'input_word_ids')\n",
        "mask_inputs = tf.keras.layers.Input((MAX_SEQ_LEN,), dtype = tf.int32, name = 'input_masks')\n",
        "segment_inputs = tf.keras.layers.Input((MAX_SEQ_LEN,), dtype = tf.int32, name = 'input_segment')\n",
        "bert_outputs = model([token_inputs, mask_inputs, segment_inputs])"
      ],
      "metadata": {
        "id": "8UImQFlH_sTY"
      },
      "execution_count": null,
      "outputs": []
    },
    {
      "cell_type": "code",
      "source": [
        "bert_outputs"
      ],
      "metadata": {
        "id": "xI9OFaHvu6Zv",
        "colab": {
          "base_uri": "https://localhost:8080/"
        },
        "outputId": "c7fc0cd8-f67a-4da1-e083-97be23eb5cea"
      },
      "execution_count": null,
      "outputs": [
        {
          "output_type": "execute_result",
          "data": {
            "text/plain": [
              "TFSequenceClassifierOutput([('logits',\n",
              "                             <KerasTensor: shape=(None, 3) dtype=float32 (created by layer 'tf_bert_for_sequence_classification')>)])"
            ]
          },
          "metadata": {},
          "execution_count": 84
        }
      ]
    },
    {
      "cell_type": "code",
      "source": [
        "bert_output = bert_outputs[0]"
      ],
      "metadata": {
        "id": "gU8qjyNJvE5-"
      },
      "execution_count": null,
      "outputs": []
    },
    {
      "cell_type": "markdown",
      "source": [
        "## 감정 분류 모델 컴파일"
      ],
      "metadata": {
        "id": "4LpZArdSzSsz"
      }
    },
    {
      "cell_type": "code",
      "source": [
        "DROPOUT_RATE = 0.5\n",
        "NUM_CLASS = 3\n",
        "dropout = tf.keras.layers.Dropout(DROPOUT_RATE)(bert_output)\n",
        "# Multi-class classification 문제이므로 activation function은 softmax로 설정\n",
        "sentiment_layer = tf.keras.layers.Dense(NUM_CLASS, activation='softmax', kernel_initializer = tf.keras.initializers.TruncatedNormal(stddev=0.02))(dropout)\n",
        "sentiment_model = tf.keras.Model([token_inputs, mask_inputs, segment_inputs], sentiment_layer)"
      ],
      "metadata": {
        "id": "_0fbV4P0wNkb"
      },
      "execution_count": null,
      "outputs": []
    },
    {
      "cell_type": "code",
      "source": [
        "# 옵티마이저 Rectified Adam 하이퍼파리미터 조정\n",
        "OPTIMIZER_NAME = 'RAdam'\n",
        "LEARNING_RATE = 5e-5\n",
        "TOTAL_STEPS = 10000\n",
        "MIN_LR = 1e-5\n",
        "WARMUP_PROPORTION = 0.1\n",
        "EPSILON = 1e-8\n",
        "CLIPNORM = 1.0\n",
        "optimizer = tfa.optimizers.RectifiedAdam(learning_rate = LEARNING_RATE,\n",
        "                                          total_steps = TOTAL_STEPS, \n",
        "                                          warmup_proportion = WARMUP_PROPORTION, \n",
        "                                          min_lr = MIN_LR, \n",
        "                                          epsilon = EPSILON,\n",
        "                                          clipnorm = CLIPNORM)"
      ],
      "metadata": {
        "id": "vP-DJYERvRHf"
      },
      "execution_count": null,
      "outputs": []
    },
    {
      "cell_type": "code",
      "source": [
        "# 감정분류 모델 컴파일\n",
        "sentiment_model.compile(optimizer = optimizer, \n",
        "                        loss = tf.keras.losses.SparseCategoricalCrossentropy(), \n",
        "                        metrics = ['accuracy'])"
      ],
      "metadata": {
        "id": "fcYHuTvdm2DL"
      },
      "execution_count": null,
      "outputs": []
    },
    {
      "cell_type": "markdown",
      "source": [
        "## 조기종료 조건"
      ],
      "metadata": {
        "id": "EQRhT4kizPq6"
      }
    },
    {
      "cell_type": "code",
      "source": [
        "MIN_DELTA = 1e-3\n",
        "PATIENCE = 5\n",
        "\n",
        "early_stopping = EarlyStopping(\n",
        "    monitor = \"val_accuracy\", \n",
        "    min_delta = MIN_DELTA,\n",
        "    patience = PATIENCE)"
      ],
      "metadata": {
        "id": "rIv_SyQLyhYQ"
      },
      "execution_count": null,
      "outputs": []
    },
    {
      "cell_type": "markdown",
      "source": [
        "## 최고 성능 모델 저장"
      ],
      "metadata": {
        "id": "z2Imzd2M6eYV"
      }
    },
    {
      "cell_type": "code",
      "source": [
        "# 최고 성능의 모델 파일을 저장할 이름과 경로 설정\n",
        "BEST_MODEL_NAME = './model/best_model.h5'"
      ],
      "metadata": {
        "id": "c_YQXMJ-6XoS"
      },
      "execution_count": null,
      "outputs": []
    },
    {
      "cell_type": "code",
      "source": [
        "model_checkpoint = ModelCheckpoint(\n",
        "    filepath = BEST_MODEL_NAME,\n",
        "    monitor = \"val_loss\",\n",
        "    mode = \"min\",\n",
        "    save_best_only = True, # 성능 향상 시에만 모델 저장\n",
        "    verbose = 1\n",
        ")"
      ],
      "metadata": {
        "id": "t3GYMayc6KoD"
      },
      "execution_count": null,
      "outputs": []
    },
    {
      "cell_type": "code",
      "source": [
        "callbacks = [early_stopping, model_checkpoint]"
      ],
      "metadata": {
        "id": "t-LqvdE68Idq"
      },
      "execution_count": null,
      "outputs": []
    },
    {
      "cell_type": "markdown",
      "source": [
        "## 감정 분류 모델 학습"
      ],
      "metadata": {
        "id": "I8ucA5VezfoF"
      }
    },
    {
      "cell_type": "code",
      "source": [
        "EPOCHS = 100\n",
        "BATCH_SZIE = 32"
      ],
      "metadata": {
        "id": "ISOvsa3xzqBF"
      },
      "execution_count": null,
      "outputs": []
    },
    {
      "cell_type": "code",
      "source": [
        "sentiment_model.fit(train_x, train_y, \n",
        "                    epochs = EPOCHS, \n",
        "                    shuffle = True, \n",
        "                    batch_size = BATCH_SZIE, \n",
        "                    validation_data = (test_x, test_y),\n",
        "                    callbacks = callbacks\n",
        "                    )"
      ],
      "metadata": {
        "id": "Bbryv-R-ZXG-",
        "colab": {
          "base_uri": "https://localhost:8080/"
        },
        "outputId": "adbcf3fe-7510-4949-c029-7ff8b5372ae4"
      },
      "execution_count": null,
      "outputs": [
        {
          "output_type": "stream",
          "name": "stdout",
          "text": [
            "Epoch 1/100\n",
            "121/121 [==============================] - ETA: 0s - loss: 1.0957 - accuracy: 0.5038\n",
            "Epoch 1: val_loss improved from inf to 1.09105, saving model to ./model/best_model.h5\n",
            "121/121 [==============================] - 100s 535ms/step - loss: 1.0957 - accuracy: 0.5038 - val_loss: 1.0910 - val_accuracy: 0.5921\n",
            "Epoch 2/100\n",
            "121/121 [==============================] - ETA: 0s - loss: 1.0814 - accuracy: 0.5926\n",
            "Epoch 2: val_loss improved from 1.09105 to 1.06527, saving model to ./model/best_model.h5\n",
            "121/121 [==============================] - 71s 588ms/step - loss: 1.0814 - accuracy: 0.5926 - val_loss: 1.0653 - val_accuracy: 0.5921\n",
            "Epoch 3/100\n",
            "121/121 [==============================] - ETA: 0s - loss: 1.0416 - accuracy: 0.6397\n",
            "Epoch 3: val_loss improved from 1.06527 to 1.01254, saving model to ./model/best_model.h5\n",
            "121/121 [==============================] - 71s 591ms/step - loss: 1.0416 - accuracy: 0.6397 - val_loss: 1.0125 - val_accuracy: 0.6874\n",
            "Epoch 4/100\n",
            "121/121 [==============================] - ETA: 0s - loss: 0.9645 - accuracy: 0.7195\n",
            "Epoch 4: val_loss improved from 1.01254 to 0.90933, saving model to ./model/best_model.h5\n",
            "121/121 [==============================] - 72s 595ms/step - loss: 0.9645 - accuracy: 0.7195 - val_loss: 0.9093 - val_accuracy: 0.8137\n",
            "Epoch 5/100\n",
            "121/121 [==============================] - ETA: 0s - loss: 0.8947 - accuracy: 0.7506\n",
            "Epoch 5: val_loss improved from 0.90933 to 0.84738, saving model to ./model/best_model.h5\n",
            "121/121 [==============================] - 73s 601ms/step - loss: 0.8947 - accuracy: 0.7506 - val_loss: 0.8474 - val_accuracy: 0.8261\n",
            "Epoch 6/100\n",
            "121/121 [==============================] - ETA: 0s - loss: 0.8231 - accuracy: 0.7656\n",
            "Epoch 6: val_loss improved from 0.84738 to 0.75516, saving model to ./model/best_model.h5\n",
            "121/121 [==============================] - 72s 597ms/step - loss: 0.8231 - accuracy: 0.7656 - val_loss: 0.7552 - val_accuracy: 0.8520\n",
            "Epoch 7/100\n",
            "121/121 [==============================] - ETA: 0s - loss: 0.7306 - accuracy: 0.7837\n",
            "Epoch 7: val_loss improved from 0.75516 to 0.68662, saving model to ./model/best_model.h5\n",
            "121/121 [==============================] - 74s 610ms/step - loss: 0.7306 - accuracy: 0.7837 - val_loss: 0.6866 - val_accuracy: 0.8551\n",
            "Epoch 8/100\n",
            "121/121 [==============================] - ETA: 0s - loss: 0.6766 - accuracy: 0.7848\n",
            "Epoch 8: val_loss improved from 0.68662 to 0.62207, saving model to ./model/best_model.h5\n",
            "121/121 [==============================] - 72s 596ms/step - loss: 0.6766 - accuracy: 0.7848 - val_loss: 0.6221 - val_accuracy: 0.8551\n",
            "Epoch 9/100\n",
            "121/121 [==============================] - ETA: 0s - loss: 0.6009 - accuracy: 0.7993\n",
            "Epoch 9: val_loss improved from 0.62207 to 0.59607, saving model to ./model/best_model.h5\n",
            "121/121 [==============================] - 72s 599ms/step - loss: 0.6009 - accuracy: 0.7993 - val_loss: 0.5961 - val_accuracy: 0.8395\n",
            "Epoch 10/100\n",
            "121/121 [==============================] - ETA: 0s - loss: 0.5682 - accuracy: 0.8037\n",
            "Epoch 10: val_loss improved from 0.59607 to 0.55491, saving model to ./model/best_model.h5\n",
            "121/121 [==============================] - 72s 598ms/step - loss: 0.5682 - accuracy: 0.8037 - val_loss: 0.5549 - val_accuracy: 0.8520\n",
            "Epoch 11/100\n",
            "121/121 [==============================] - ETA: 0s - loss: 0.4965 - accuracy: 0.8389\n",
            "Epoch 11: val_loss did not improve from 0.55491\n",
            "121/121 [==============================] - 60s 493ms/step - loss: 0.4965 - accuracy: 0.8389 - val_loss: 0.5763 - val_accuracy: 0.8406\n",
            "Epoch 12/100\n",
            "121/121 [==============================] - ETA: 0s - loss: 0.4855 - accuracy: 0.8402\n",
            "Epoch 12: val_loss did not improve from 0.55491\n",
            "121/121 [==============================] - 60s 498ms/step - loss: 0.4855 - accuracy: 0.8402 - val_loss: 0.5690 - val_accuracy: 0.8561\n",
            "Epoch 13/100\n",
            "121/121 [==============================] - ETA: 0s - loss: 0.4414 - accuracy: 0.8498\n",
            "Epoch 13: val_loss did not improve from 0.55491\n",
            "121/121 [==============================] - 60s 499ms/step - loss: 0.4414 - accuracy: 0.8498 - val_loss: 0.5858 - val_accuracy: 0.8489\n",
            "Epoch 14/100\n",
            "121/121 [==============================] - ETA: 0s - loss: 0.4145 - accuracy: 0.8565\n",
            "Epoch 14: val_loss did not improve from 0.55491\n",
            "121/121 [==============================] - 60s 500ms/step - loss: 0.4145 - accuracy: 0.8565 - val_loss: 0.5775 - val_accuracy: 0.8458\n",
            "Epoch 15/100\n",
            "121/121 [==============================] - ETA: 0s - loss: 0.3849 - accuracy: 0.8521\n",
            "Epoch 15: val_loss did not improve from 0.55491\n",
            "121/121 [==============================] - 61s 501ms/step - loss: 0.3849 - accuracy: 0.8521 - val_loss: 0.6637 - val_accuracy: 0.8489\n",
            "Epoch 16/100\n",
            "121/121 [==============================] - ETA: 0s - loss: 0.3608 - accuracy: 0.8677\n",
            "Epoch 16: val_loss did not improve from 0.55491\n",
            "121/121 [==============================] - 61s 502ms/step - loss: 0.3608 - accuracy: 0.8677 - val_loss: 0.6479 - val_accuracy: 0.8551\n",
            "Epoch 17/100\n",
            "121/121 [==============================] - ETA: 0s - loss: 0.3704 - accuracy: 0.8555\n",
            "Epoch 17: val_loss did not improve from 0.55491\n",
            "121/121 [==============================] - 61s 503ms/step - loss: 0.3704 - accuracy: 0.8555 - val_loss: 0.7201 - val_accuracy: 0.8395\n"
          ]
        },
        {
          "output_type": "execute_result",
          "data": {
            "text/plain": [
              "<keras.callbacks.History at 0x7f9784fbdc10>"
            ]
          },
          "metadata": {},
          "execution_count": 95
        }
      ]
    },
    {
      "cell_type": "markdown",
      "source": [
        "# 감정 분류의 예측값 계산"
      ],
      "metadata": {
        "id": "D7jwEADhEcov"
      }
    },
    {
      "cell_type": "code",
      "source": [
        "# 최고 성능의 모델 불러오기\n",
        "sentiment_model_best = tf.keras.models.load_model(BEST_MODEL_NAME,\n",
        "                                                  custom_objects={'TFBertForSequenceClassification': TFBertForSequenceClassification})"
      ],
      "metadata": {
        "id": "yvYDJdGZGyJM"
      },
      "execution_count": null,
      "outputs": []
    },
    {
      "cell_type": "code",
      "source": [
        "# 모델이 예측한 라벨 도출\n",
        "predicted_value = sentiment_model_best.predict(test_x)\n",
        "predicted_label = np.argmax(predicted_value, axis = 1)"
      ],
      "metadata": {
        "id": "9kRF4Gr4nZNv"
      },
      "execution_count": null,
      "outputs": []
    },
    {
      "cell_type": "markdown",
      "source": [
        "# 감정 분류 모델의 성능 평가"
      ],
      "metadata": {
        "id": "phuquyErDneq"
      }
    },
    {
      "cell_type": "markdown",
      "source": [
        "## Classification Report"
      ],
      "metadata": {
        "id": "cl0qJh1Onmoa"
      }
    },
    {
      "cell_type": "code",
      "source": [
        "# Classification Report 저장\n",
        "CL_REPORT_FILE = \"./metric/cl_report.csv\"\n",
        "\n",
        "cl_report = classification_report(test_y, predicted_label, output_dict = True)\n",
        "cl_report_df = pd.DataFrame(cl_report).transpose()\n",
        "cl_report_df = cl_report_df.round(3)\n",
        "cl_report_df.to_csv(CL_REPORT_FILE)\n",
        "print(cl_report_df)"
      ],
      "metadata": {
        "colab": {
          "base_uri": "https://localhost:8080/"
        },
        "id": "_1KYEEr6ywVG",
        "outputId": "385f55f5-a385-4155-b6e5-6906d29f4e52"
      },
      "execution_count": null,
      "outputs": [
        {
          "output_type": "stream",
          "name": "stdout",
          "text": [
            "              precision  recall  f1-score  support\n",
            "0                 0.871   0.907     0.889  572.000\n",
            "1                 0.816   0.766     0.790  273.000\n",
            "2                 0.833   0.785     0.809  121.000\n",
            "accuracy          0.852   0.852     0.852    0.852\n",
            "macro avg         0.840   0.819     0.829  966.000\n",
            "weighted avg      0.851   0.852     0.851  966.000\n"
          ]
        }
      ]
    },
    {
      "cell_type": "markdown",
      "source": [
        "## Confusion Matrix"
      ],
      "metadata": {
        "id": "ZDc50YeVJ4Bt"
      }
    },
    {
      "cell_type": "code",
      "source": [
        "# 이미지 파일 저장정보\n",
        "FIGURE_FILE = \"./figure/cf_matrix.png\"\n",
        "\n",
        "cf_matrix = confusion_matrix(test_y, predicted_label)\n",
        "fig, ax = plt.subplots(figsize = (8,6))\n",
        "sns.heatmap(cf_matrix, annot = True, fmt = 'd')\n",
        "plt.ylabel('Actual')\n",
        "plt.xlabel('Predicted')\n",
        "plt.savefig(FIGURE_FILE)\n",
        "plt.show()"
      ],
      "metadata": {
        "id": "qFSBLIhAnfIT",
        "colab": {
          "base_uri": "https://localhost:8080/",
          "height": 388
        },
        "outputId": "bde762e7-5d9c-4c08-e452-ad5294b69ed6"
      },
      "execution_count": null,
      "outputs": [
        {
          "output_type": "display_data",
          "data": {
            "text/plain": [
              "<Figure size 576x432 with 2 Axes>"
            ],
            "image/png": "[encoded data removed]"
          },
          "metadata": {
            "needs_background": "light"
          }
        }
      ]
    },
    {
      "cell_type": "markdown",
      "source": [
        "## 전체 평가지표"
      ],
      "metadata": {
        "id": "vs_QPZulZ0SK"
      }
    },
    {
      "cell_type": "code",
      "source": [
        "# Multi-class Classification의 대중적인 평가 지표 모두 확인\n",
        "accuracy_score_v = round(accuracy_score(y_test, predicted_label), 3) # Accuracy\n",
        "precision_score_v = round(precision_score(y_test, predicted_label, average=\"weighted\"), 3) # Precision\n",
        "recall_score_v = round(recall_score(y_test, predicted_label, average=\"weighted\"), 3) # Recall\n",
        "f1_score_v = round(f1_score(y_test, predicted_label, average=\"weighted\"), 3) # F1 Score\n",
        "roc_auc_score_v = round(roc_auc_score(y_test, predicted_value, average=\"weighted\", multi_class=\"ovr\"), 3) # ROC AUC Score\n",
        "cohen_kappa_score_v = round(cohen_kappa_score(y_test, predicted_label), 3) # Cohen's Kappa Score\n",
        "matthews_corrcoef_v = round(matthews_corrcoef(y_test, predicted_label), 3) # Matthew's Correlation Coefficient\n",
        "log_loss_v = round(log_loss(y_test, predicted_value), 3) # Log Loss"
      ],
      "metadata": {
        "id": "-gDE6sSZZ0lg"
      },
      "execution_count": null,
      "outputs": []
    },
    {
      "cell_type": "code",
      "source": [
        "METRIC_FILE = './metric/metric.csv'"
      ],
      "metadata": {
        "id": "szeM6mg0c9Ni"
      },
      "execution_count": null,
      "outputs": []
    },
    {
      "cell_type": "code",
      "source": [
        "# 평가지표 결과 저장\n",
        "metric_total = pd.DataFrame({\n",
        "    'PLM': MODEL_NAME,\n",
        "    'Optimizer': OPTIMIZER_NAME,\n",
        "    'Accuracy': accuracy_score_v,\n",
        "    'Precision': precision_score_v,\n",
        "    'Recall': recall_score_v,\n",
        "    'F1_score': f1_score_v,\n",
        "    'ROC_AUC_score': roc_auc_score_v,\n",
        "    'Cohen_kappa_coef': cohen_kappa_score_v,\n",
        "    'Matthews_corrcoef': matthews_corrcoef_v,\n",
        "    'Log_loss': log_loss_v},\n",
        "    index = ['-']\n",
        "    )"
      ],
      "metadata": {
        "id": "KsOSjafkZrE2"
      },
      "execution_count": null,
      "outputs": []
    },
    {
      "cell_type": "code",
      "source": [
        "metric_total.to_csv(METRIC_FILE)"
      ],
      "metadata": {
        "id": "CxulEykgc-Xi"
      },
      "execution_count": null,
      "outputs": []
    },
    {
      "cell_type": "code",
      "source": [
        "print(metric_total)"
      ],
      "metadata": {
        "id": "jqneTNaQrt0R",
        "colab": {
          "base_uri": "https://localhost:8080/"
        },
        "outputId": "d79f7cf9-2368-492b-8762-23139d8388fb"
      },
      "execution_count": null,
      "outputs": [
        {
          "output_type": "stream",
          "name": "stdout",
          "text": [
            "              PLM Optimizer  Accuracy  Precision  Recall  F1_score  \\\n",
            "-  klue/bert-base     RAdam     0.852      0.851   0.852     0.851   \n",
            "\n",
            "   ROC_AUC_score  Cohen_kappa_coef  Matthews_corrcoef  Log_loss  \n",
            "-           0.92             0.728              0.729     0.555  \n"
          ]
        }
      ]
    },
    {
      "cell_type": "code",
      "source": [
        ""
      ],
      "metadata": {
        "id": "FXgEqMuvqOCd"
      },
      "execution_count": null,
      "outputs": []
    }
  ]
}